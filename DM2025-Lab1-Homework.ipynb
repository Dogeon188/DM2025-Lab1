{
 "cells": [
  {
   "cell_type": "markdown",
   "metadata": {},
   "source": [
    "### Student Information\n",
    "Name: 毛柏毅\n",
    "\n",
    "Student ID: 111062209\n",
    "\n",
    "GitHub ID: Dogeon188"
   ]
  },
  {
   "cell_type": "markdown",
   "metadata": {},
   "source": [
    "---"
   ]
  },
  {
   "cell_type": "markdown",
   "metadata": {},
   "source": [
    "### Instructions"
   ]
  },
  {
   "cell_type": "markdown",
   "metadata": {},
   "source": [
    "### First Phase Submission"
   ]
  },
  {
   "cell_type": "markdown",
   "metadata": {},
   "source": [
    "1. [X] First: do the **take home** exercises in the [DM2025-Lab1-Master](https://github.com/leoson-wu/DM2025-Lab1-Exercise/blob/main/DM2025-Lab1-Master.ipynb) that considered as **phase 1 (from exercise 1 to exercise 15)**. You can answer in the master file. __This part is worth 10% of your grade.__\n",
    "\n",
    "2. [X] Second: follow the same process from the [DM2025-Lab1-Master](https://github.com/leoson-wu/DM2025-Lab1-Exercise/blob/main/DM2025-Lab1-Master.ipynb) on **the new dataset** up **until phase 1**. You can skip some exercises if you think some steps are not necessary. However main exercises should be completed. You don't need to explain all details as we did (some **minimal comments** explaining your code are useful though).  __This part is worth 15% of your grade.__\n",
    "    \n",
    "    - Use [the new dataset](https://github.com/leoson-wu/DM2025-Lab1-Exercise/blob/main/newdataset/Reddit-stock-sentiment.csv). The dataset contains a 16 columns including 'text' and 'label', with the sentiment labels being: 1.0 is positive, 0.0 is neutral and -1.0 is negative. You can simplify the dataset and use only the columns that you think are necessary. \n",
    "    \n",
    "    - You are allowed to use and modify the `helper` functions in the folder of the first lab session (notice they may need modification) or create your own.\n",
    "    - Use this file to complete the homework from the second part. Make sure the code can be run from the beginning till the end and has all the needed output.\n",
    "\n",
    "3. [X] Third: please attempt the following tasks on **the new dataset**. __This part is worth 10% of your grade.__\n",
    "    - [X] Generate meaningful **new data visualizations**. Refer to online resources and the Data Mining textbook for inspiration and ideas.  \n",
    "\n",
    "4. [X] Fourth: It's hard for us to follow if your code is messy, so please **tidy up your notebook** and **add minimal comments where needed**. __This part is worth 5% of your grade.__\n",
    "\n",
    "You can submit your homework following these guidelines: [DM2025-Lab1-announcement](https://github.com/leoson-wu/DM2025-Lab1-Announcement/blob/main/README.md). Make sure to commit and save your changes to your repository __BEFORE the deadline (September 28th 11:59 pm, Sunday)__. "
   ]
  },
  {
   "cell_type": "markdown",
   "metadata": {},
   "source": [
    "### Second Phase Submission "
   ]
  },
  {
   "cell_type": "markdown",
   "metadata": {},
   "source": [
    "**You can keep the answer for phase 1 for easier running and update the phase 2 on the same page.**\n",
    "\n",
    "1. First: Continue doing the **take home** exercises in the [DM2025-Lab1-Master](https://github.com/leoson-wu/DM2025-Lab1-Exercise/blob/main/DM2025-Lab1-Master.ipynb) for **phase 2, starting from Finding frequent patterns**. Use the same master(.ipynb) file. Answer from phase 1 will not be considered at this stage. You can answer in the master file. __This part is worth 10% of your grade.__\n",
    "\n",
    "\n",
    "2. Second: Continue from first phase and do the same process from the [DM2025-Lab1-Master](https://github.com/leoson-wu/DM2025-Lab1-Exercise/blob/main/DM2025-Lab1-Master.ipynb) on **the new dataset** for phase 2, starting from Finding frequent pattern. You can skip some exercises if you think some steps are not necessary. However main exercises should be completed. You don't need to explain all details as we did (some **minimal comments** explaining your code are useful though).  __This part is worth 15% of your grade.__\n",
    "    - Continue using this file to complete the homework from the second part. Make sure the code can be run from the beginning till the end and has all the needed output. Use the same new dataset as in phase 1.\n",
    "    \n",
    "    - You are allowed to use and modify the `helper` functions in the folder of the first lab session (notice they may need modification) or create your own.\n",
    "\n",
    "3. Third: please attempt the following tasks on **the new dataset**. __This part is worth 20% of your grade.__\n",
    "    - Use this file to answer.\n",
    "    - Generate **TF-IDF features** from the tokens of each text. This will generating a document matrix, however, the weights will be computed differently (using the TF-IDF value of each word per document as opposed to the word frequency).  Refer to this Scikit-learn [guide](http://scikit-learn.org/stable/modules/generated/sklearn.feature_extraction.text.TfidfVectorizer.html) .\n",
    "    - Implement a simple **Naive Bayes classifier** that automatically classifies the records into their categories. Use both the TF-IDF features and word frequency features to build two seperate classifiers. Note that for the TF-IDF features you might need to use other type of NB classifier different than the one in the Master Notebook. Comment on the differences and when using augmentation with feature pattern.  Refer to this [article](https://hub.packtpub.com/implementing-3-naive-bayes-classifiers-in-scikit-learn/).\n",
    "\n",
    "\n",
    "4. Fourth: In the lab, we applied each step really quickly just to illustrate how to work with your dataset. There are somethings that are not ideal or the most efficient/meaningful. Each dataset can be handled differently as well. What are those inefficent parts you noticed? How can you improve the Data preprocessing for these specific datasets? __This part is worth 10% of your grade.__\n",
    "\n",
    "\n",
    "5. Fifth: It's hard for us to follow if your code is messy, so please **tidy up your notebook** and **add minimal comments where needed**. __This part is worth 5% of your grade.__\n",
    "\n",
    "\n",
    "You can submit your homework following these guidelines: [DM2025-Lab1-announcement](https://github.com/leoson-wu/DM2025-Lab1-Announcement/blob/main/README.md). Make sure to commit and save your changes to your repository __BEFORE the deadline (October 19th 11:59 pm, Sunday)__. "
   ]
  },
  {
   "cell_type": "code",
   "execution_count": 1,
   "metadata": {},
   "outputs": [
    {
     "name": "stderr",
     "output_type": "stream",
     "text": [
      "[nltk_data] Downloading package punkt to /Users/dogeon/nltk_data...\n",
      "[nltk_data]   Package punkt is already up-to-date!\n",
      "[nltk_data] Downloading package punkt_tab to\n",
      "[nltk_data]     /Users/dogeon/nltk_data...\n",
      "[nltk_data]   Package punkt_tab is already up-to-date!\n"
     ]
    },
    {
     "data": {
      "text/plain": [
       "True"
      ]
     },
     "execution_count": 1,
     "metadata": {},
     "output_type": "execute_result"
    }
   ],
   "source": [
    "# test code for environment setup\n",
    "import umap\n",
    "import PAMI\n",
    "import math\n",
    "from matplotlib import pyplot as plt\n",
    "import plotly as py\n",
    "from sklearn.feature_extraction.text import CountVectorizer\n",
    "from sklearn.datasets import fetch_20newsgroups\n",
    "import pandas as pd\n",
    "import numpy as np\n",
    "import nltk\n",
    "\n",
    "nltk.download('punkt')  # download the NLTK datasets\n",
    "nltk.download('punkt_tab')"
   ]
  },
  {
   "cell_type": "code",
   "execution_count": 2,
   "metadata": {},
   "outputs": [],
   "source": [
    "# TEST necessary for when working with external scripts\n",
    "%load_ext autoreload\n",
    "%autoreload 2"
   ]
  },
  {
   "cell_type": "markdown",
   "metadata": {},
   "source": [
    "# Phase 1"
   ]
  },
  {
   "cell_type": "code",
   "execution_count": 3,
   "metadata": {},
   "outputs": [],
   "source": [
    "### Begin Assignment Here"
   ]
  },
  {
   "cell_type": "markdown",
   "metadata": {},
   "source": [
    "## 1. The Data"
   ]
  },
  {
   "cell_type": "markdown",
   "metadata": {},
   "source": [
    "Let's first read the new dataset."
   ]
  },
  {
   "cell_type": "code",
   "execution_count": 4,
   "metadata": {},
   "outputs": [],
   "source": [
    "X = pd.read_csv('./newdataset/Reddit-stock-sentiment.csv')"
   ]
  },
  {
   "cell_type": "markdown",
   "metadata": {},
   "source": [
    "Now let's take a look at some basic information of the dataset."
   ]
  },
  {
   "cell_type": "code",
   "execution_count": 5,
   "metadata": {},
   "outputs": [
    {
     "name": "stdout",
     "output_type": "stream",
     "text": [
      "(847, 16)\n"
     ]
    },
    {
     "data": {
      "text/html": [
       "<div>\n",
       "<style scoped>\n",
       "    .dataframe tbody tr th:only-of-type {\n",
       "        vertical-align: middle;\n",
       "    }\n",
       "\n",
       "    .dataframe tbody tr th {\n",
       "        vertical-align: top;\n",
       "    }\n",
       "\n",
       "    .dataframe thead th {\n",
       "        text-align: right;\n",
       "    }\n",
       "</style>\n",
       "<table border=\"1\" class=\"dataframe\">\n",
       "  <thead>\n",
       "    <tr style=\"text-align: right;\">\n",
       "      <th></th>\n",
       "      <th>type</th>\n",
       "      <th>datetime</th>\n",
       "      <th>post_id</th>\n",
       "      <th>subreddit</th>\n",
       "      <th>title</th>\n",
       "      <th>author</th>\n",
       "      <th>url</th>\n",
       "      <th>upvotes</th>\n",
       "      <th>downvotes</th>\n",
       "      <th>upvote_ratio</th>\n",
       "      <th>text</th>\n",
       "      <th>subjectivity</th>\n",
       "      <th>polarity</th>\n",
       "      <th>sentiment</th>\n",
       "      <th>entities</th>\n",
       "      <th>label</th>\n",
       "    </tr>\n",
       "  </thead>\n",
       "  <tbody>\n",
       "    <tr>\n",
       "      <th>0</th>\n",
       "      <td>comment</td>\n",
       "      <td>2025-04-11 17:29:56</td>\n",
       "      <td>mmli62w</td>\n",
       "      <td>wallstreetbets</td>\n",
       "      <td>Retardation is on the menu boys! WSB is so back</td>\n",
       "      <td>StickyTip420</td>\n",
       "      <td>https://i.redd.it/0yq2ftren8ue1.jpeg</td>\n",
       "      <td>0</td>\n",
       "      <td>NaN</td>\n",
       "      <td>NaN</td>\n",
       "      <td>Calls on retards</td>\n",
       "      <td>1.000000</td>\n",
       "      <td>-0.900000</td>\n",
       "      <td>-1.0</td>\n",
       "      <td>[]</td>\n",
       "      <td>-1.0</td>\n",
       "    </tr>\n",
       "    <tr>\n",
       "      <th>1</th>\n",
       "      <td>comment</td>\n",
       "      <td>2025-04-12 1:12:19</td>\n",
       "      <td>mmnu7v9</td>\n",
       "      <td>wallstreetbets</td>\n",
       "      <td>Retail giant TARGET has now declined for 10 co...</td>\n",
       "      <td>Comfortable-Dog-8437</td>\n",
       "      <td>https://i.redd.it/7tl6puv9waue1.jpeg</td>\n",
       "      <td>-15</td>\n",
       "      <td>NaN</td>\n",
       "      <td>NaN</td>\n",
       "      <td>Stunt as in like why did they even make a big ...</td>\n",
       "      <td>0.177778</td>\n",
       "      <td>0.083333</td>\n",
       "      <td>1.0</td>\n",
       "      <td>['Stunt', 'company', 'deal', 'place']</td>\n",
       "      <td>0.0</td>\n",
       "    </tr>\n",
       "    <tr>\n",
       "      <th>2</th>\n",
       "      <td>comment</td>\n",
       "      <td>2025-04-10 15:09:41</td>\n",
       "      <td>mmeevio</td>\n",
       "      <td>StockMarket</td>\n",
       "      <td>How do you feel about a sitting president maki...</td>\n",
       "      <td>Btankersly66</td>\n",
       "      <td>https://apnews.com/article/trump-truth-social-...</td>\n",
       "      <td>1</td>\n",
       "      <td>NaN</td>\n",
       "      <td>NaN</td>\n",
       "      <td>Seeing lots of red in the ticker.</td>\n",
       "      <td>0.000000</td>\n",
       "      <td>0.000000</td>\n",
       "      <td>0.0</td>\n",
       "      <td>['ticker']</td>\n",
       "      <td>0.0</td>\n",
       "    </tr>\n",
       "    <tr>\n",
       "      <th>3</th>\n",
       "      <td>post</td>\n",
       "      <td>2023-08-30 17:12:55</td>\n",
       "      <td>165kllm</td>\n",
       "      <td>stockstobuytoday</td>\n",
       "      <td>Who knows more? $VMAR</td>\n",
       "      <td>emiljenfn</td>\n",
       "      <td>https://www.reddit.com/r/stockstobuytoday/comm...</td>\n",
       "      <td>30</td>\n",
       "      <td>0.0</td>\n",
       "      <td>0.98</td>\n",
       "      <td>Vision Marine Technologies Inc. is rewriting t...</td>\n",
       "      <td>0.646970</td>\n",
       "      <td>0.216383</td>\n",
       "      <td>1.0</td>\n",
       "      <td>['watercraft', 'skill', 'power', ']', 'feat', ...</td>\n",
       "      <td>1.0</td>\n",
       "    </tr>\n",
       "    <tr>\n",
       "      <th>4</th>\n",
       "      <td>comment</td>\n",
       "      <td>2025-04-11 14:48:05</td>\n",
       "      <td>mmkl6bw</td>\n",
       "      <td>StockMarket</td>\n",
       "      <td>The Trump administration is begging Xi Jinping...</td>\n",
       "      <td>Just-Big6411</td>\n",
       "      <td>https://edition.cnn.com/2025/04/10/politics/tr...</td>\n",
       "      <td>1</td>\n",
       "      <td>NaN</td>\n",
       "      <td>NaN</td>\n",
       "      <td>He didn’t say thank you.</td>\n",
       "      <td>0.000000</td>\n",
       "      <td>0.000000</td>\n",
       "      <td>0.0</td>\n",
       "      <td>[]</td>\n",
       "      <td>-1.0</td>\n",
       "    </tr>\n",
       "  </tbody>\n",
       "</table>\n",
       "</div>"
      ],
      "text/plain": [
       "      type             datetime  post_id         subreddit  \\\n",
       "0  comment  2025-04-11 17:29:56  mmli62w    wallstreetbets   \n",
       "1  comment   2025-04-12 1:12:19  mmnu7v9    wallstreetbets   \n",
       "2  comment  2025-04-10 15:09:41  mmeevio       StockMarket   \n",
       "3     post  2023-08-30 17:12:55  165kllm  stockstobuytoday   \n",
       "4  comment  2025-04-11 14:48:05  mmkl6bw       StockMarket   \n",
       "\n",
       "                                               title                author  \\\n",
       "0    Retardation is on the menu boys! WSB is so back          StickyTip420   \n",
       "1  Retail giant TARGET has now declined for 10 co...  Comfortable-Dog-8437   \n",
       "2  How do you feel about a sitting president maki...          Btankersly66   \n",
       "3                              Who knows more? $VMAR             emiljenfn   \n",
       "4  The Trump administration is begging Xi Jinping...          Just-Big6411   \n",
       "\n",
       "                                                 url  upvotes  downvotes  \\\n",
       "0               https://i.redd.it/0yq2ftren8ue1.jpeg        0        NaN   \n",
       "1               https://i.redd.it/7tl6puv9waue1.jpeg      -15        NaN   \n",
       "2  https://apnews.com/article/trump-truth-social-...        1        NaN   \n",
       "3  https://www.reddit.com/r/stockstobuytoday/comm...       30        0.0   \n",
       "4  https://edition.cnn.com/2025/04/10/politics/tr...        1        NaN   \n",
       "\n",
       "   upvote_ratio                                               text  \\\n",
       "0           NaN                                   Calls on retards   \n",
       "1           NaN  Stunt as in like why did they even make a big ...   \n",
       "2           NaN                  Seeing lots of red in the ticker.   \n",
       "3          0.98  Vision Marine Technologies Inc. is rewriting t...   \n",
       "4           NaN                           He didn’t say thank you.   \n",
       "\n",
       "   subjectivity  polarity  sentiment  \\\n",
       "0      1.000000 -0.900000       -1.0   \n",
       "1      0.177778  0.083333        1.0   \n",
       "2      0.000000  0.000000        0.0   \n",
       "3      0.646970  0.216383        1.0   \n",
       "4      0.000000  0.000000        0.0   \n",
       "\n",
       "                                            entities  label  \n",
       "0                                                 []   -1.0  \n",
       "1              ['Stunt', 'company', 'deal', 'place']    0.0  \n",
       "2                                         ['ticker']    0.0  \n",
       "3  ['watercraft', 'skill', 'power', ']', 'feat', ...    1.0  \n",
       "4                                                 []   -1.0  "
      ]
     },
     "execution_count": 5,
     "metadata": {},
     "output_type": "execute_result"
    }
   ],
   "source": [
    "print(X.shape)\n",
    "X.head()"
   ]
  },
  {
   "cell_type": "markdown",
   "metadata": {},
   "source": [
    "##### >>> **Exercise 1**\n",
    "\n",
    "In this exercise, please print out the *text* data for the first three samples in the dataset."
   ]
  },
  {
   "cell_type": "code",
   "execution_count": 6,
   "metadata": {},
   "outputs": [
    {
     "name": "stdout",
     "output_type": "stream",
     "text": [
      "Calls on retards\n",
      "Stunt as in like why did they even make a big deal about starting it in the first place? No company should ever talk about politics ever.\n",
      "Seeing lots of red in the ticker.\n"
     ]
    }
   ],
   "source": [
    "for i in range(3):\n",
    "    print(X.iloc[i].text)"
   ]
  },
  {
   "cell_type": "markdown",
   "metadata": {},
   "source": [
    "## 2. Data Preparation & Exploration"
   ]
  },
  {
   "cell_type": "markdown",
   "metadata": {},
   "source": [
    "Let's first inspect some columns."
   ]
  },
  {
   "cell_type": "code",
   "execution_count": 7,
   "metadata": {},
   "outputs": [
    {
     "data": {
      "text/plain": [
       "type\n",
       "comment    783\n",
       "post        64\n",
       "Name: count, dtype: int64"
      ]
     },
     "execution_count": 7,
     "metadata": {},
     "output_type": "execute_result"
    }
   ],
   "source": [
    "X.type.value_counts()"
   ]
  },
  {
   "cell_type": "code",
   "execution_count": 8,
   "metadata": {},
   "outputs": [
    {
     "data": {
      "text/plain": [
       "subreddit\n",
       "stocks              274\n",
       "StockMarket         250\n",
       "stockstobuytoday    174\n",
       "wallstreetbets      149\n",
       "Name: count, dtype: int64"
      ]
     },
     "execution_count": 8,
     "metadata": {},
     "output_type": "execute_result"
    }
   ],
   "source": [
    "X.subreddit.value_counts()"
   ]
  },
  {
   "cell_type": "code",
   "execution_count": 9,
   "metadata": {},
   "outputs": [
    {
     "data": {
      "text/plain": [
       "('2021-01-28 17:58:52', '2025-04-12 3:23:21')"
      ]
     },
     "execution_count": 9,
     "metadata": {},
     "output_type": "execute_result"
    }
   ],
   "source": [
    "X.datetime.min(), X.datetime.max()"
   ]
  },
  {
   "cell_type": "markdown",
   "metadata": {},
   "source": [
    "##### >>> **Exercise 2**\n",
    "\n",
    "Experiment with other querying techniques using pandas dataframes. Refer to their [documentation](https://pandas.pydata.org/pandas-docs/stable/indexing.html) for more information. "
   ]
  },
  {
   "cell_type": "markdown",
   "metadata": {},
   "source": [
    "Here's the author list. Notice a few things:\n",
    "\n",
    "- User `saasfin` has a significant number of posts and comments. They can either be a very active user or a bot.\n",
    "- There are some posts/comments with unknown authors (`[deleted]`). However, they are still real posts/comments, and may contain useful information.\n",
    "- Some posts/comments are made by `AutoModerator`, which is a bot that automatically moderates the subreddit. Their content is usually not relevant to our analysis."
   ]
  },
  {
   "cell_type": "code",
   "execution_count": 10,
   "metadata": {},
   "outputs": [
    {
     "name": "stdout",
     "output_type": "stream",
     "text": [
      "Null 0 Unique 731\n"
     ]
    },
    {
     "data": {
      "text/plain": [
       "author\n",
       "saasfin              57\n",
       "AutoModerator        15\n",
       "[deleted]            13\n",
       "bullrfuk              5\n",
       "wutang                3\n",
       "                     ..\n",
       "Hot_Frosting_7101     1\n",
       "Alexwonder999         1\n",
       "Ineedgold             1\n",
       "RoninKnight17         1\n",
       "I_am_Nerman           1\n",
       "Name: count, Length: 731, dtype: int64"
      ]
     },
     "execution_count": 10,
     "metadata": {},
     "output_type": "execute_result"
    }
   ],
   "source": [
    "print(\"Null\", X.author.isnull().sum(), \"Unique\", len(X.author.unique()))\n",
    "X.author.value_counts()"
   ]
  },
  {
   "cell_type": "code",
   "execution_count": 11,
   "metadata": {},
   "outputs": [
    {
     "data": {
      "text/html": [
       "<div>\n",
       "<style scoped>\n",
       "    .dataframe tbody tr th:only-of-type {\n",
       "        vertical-align: middle;\n",
       "    }\n",
       "\n",
       "    .dataframe tbody tr th {\n",
       "        vertical-align: top;\n",
       "    }\n",
       "\n",
       "    .dataframe thead th {\n",
       "        text-align: right;\n",
       "    }\n",
       "</style>\n",
       "<table border=\"1\" class=\"dataframe\">\n",
       "  <thead>\n",
       "    <tr style=\"text-align: right;\">\n",
       "      <th></th>\n",
       "      <th>type</th>\n",
       "      <th>datetime</th>\n",
       "      <th>post_id</th>\n",
       "      <th>subreddit</th>\n",
       "      <th>title</th>\n",
       "      <th>author</th>\n",
       "      <th>url</th>\n",
       "      <th>upvotes</th>\n",
       "      <th>downvotes</th>\n",
       "      <th>upvote_ratio</th>\n",
       "      <th>text</th>\n",
       "      <th>subjectivity</th>\n",
       "      <th>polarity</th>\n",
       "      <th>sentiment</th>\n",
       "      <th>entities</th>\n",
       "      <th>label</th>\n",
       "    </tr>\n",
       "  </thead>\n",
       "  <tbody>\n",
       "    <tr>\n",
       "      <th>48</th>\n",
       "      <td>post</td>\n",
       "      <td>2025-04-02 13:00:42</td>\n",
       "      <td>1jpnz8b</td>\n",
       "      <td>stockstobuytoday</td>\n",
       "      <td>Earnings for current week</td>\n",
       "      <td>saasfin</td>\n",
       "      <td>https://www.reddit.com/r/stockstobuytoday/comm...</td>\n",
       "      <td>1</td>\n",
       "      <td>0.0</td>\n",
       "      <td>1.0</td>\n",
       "      <td>\\n\\n  [MarketWatch: Stock Market News - Financ...</td>\n",
       "      <td>0.00</td>\n",
       "      <td>0.00</td>\n",
       "      <td>0.0</td>\n",
       "      <td>['Stock', 'MarketWatch', 'catalyst', 'stockbuy...</td>\n",
       "      <td>0.0</td>\n",
       "    </tr>\n",
       "    <tr>\n",
       "      <th>59</th>\n",
       "      <td>comment</td>\n",
       "      <td>2021-04-14 16:24:10</td>\n",
       "      <td>gui4bru</td>\n",
       "      <td>stockstobuytoday</td>\n",
       "      <td>r/stockstobuytoday Lounge</td>\n",
       "      <td>saasfin</td>\n",
       "      <td>https://www.reddit.com/r/stockstobuytoday/comm...</td>\n",
       "      <td>1</td>\n",
       "      <td>NaN</td>\n",
       "      <td>NaN</td>\n",
       "      <td>heard chatter upto $350</td>\n",
       "      <td>0.00</td>\n",
       "      <td>0.00</td>\n",
       "      <td>0.0</td>\n",
       "      <td>['heard', 'chatter']</td>\n",
       "      <td>0.0</td>\n",
       "    </tr>\n",
       "    <tr>\n",
       "      <th>60</th>\n",
       "      <td>comment</td>\n",
       "      <td>2021-11-06 13:37:29</td>\n",
       "      <td>hjjrv6d</td>\n",
       "      <td>stockstobuytoday</td>\n",
       "      <td>Technical Analysis Thread.</td>\n",
       "      <td>saasfin</td>\n",
       "      <td>https://www.reddit.com/r/stockstobuytoday/comm...</td>\n",
       "      <td>1</td>\n",
       "      <td>NaN</td>\n",
       "      <td>NaN</td>\n",
       "      <td>$IRDM\\n\\n&amp;#x200B;\\n\\n[/](/)\\n\\nat high level i...</td>\n",
       "      <td>0.47</td>\n",
       "      <td>0.08</td>\n",
       "      <td>1.0</td>\n",
       "      <td>['consolidating', '/', 'x200B', 'level', 'IRDM...</td>\n",
       "      <td>0.0</td>\n",
       "    </tr>\n",
       "    <tr>\n",
       "      <th>70</th>\n",
       "      <td>post</td>\n",
       "      <td>2025-03-29 18:14:28</td>\n",
       "      <td>1jmshlc</td>\n",
       "      <td>stockstobuytoday</td>\n",
       "      <td>FINRA Daily Shorts Data</td>\n",
       "      <td>saasfin</td>\n",
       "      <td>https://www.reddit.com/r/stockstobuytoday/comm...</td>\n",
       "      <td>1</td>\n",
       "      <td>0.0</td>\n",
       "      <td>1.0</td>\n",
       "      <td>Updated Daily by EOD\\n\\n  \\n[Daily Shorts]()</td>\n",
       "      <td>0.10</td>\n",
       "      <td>0.00</td>\n",
       "      <td>0.0</td>\n",
       "      <td>['EOD', 'Daily', 'Shorts', ']', '[']</td>\n",
       "      <td>0.0</td>\n",
       "    </tr>\n",
       "    <tr>\n",
       "      <th>88</th>\n",
       "      <td>comment</td>\n",
       "      <td>2022-04-23 20:10:13</td>\n",
       "      <td>i5x0g2b</td>\n",
       "      <td>stockstobuytoday</td>\n",
       "      <td>Technical Analysis Thread.</td>\n",
       "      <td>saasfin</td>\n",
       "      <td>https://www.reddit.com/r/stockstobuytoday/comm...</td>\n",
       "      <td>1</td>\n",
       "      <td>NaN</td>\n",
       "      <td>NaN</td>\n",
       "      <td>$FDX - still in downtrend\\n\\n[/](/)\\n\\n&amp;#x200B...</td>\n",
       "      <td>0.00</td>\n",
       "      <td>0.00</td>\n",
       "      <td>0.0</td>\n",
       "      <td>['ICE', 'FDX', '/', 'x200B', ']', '[']</td>\n",
       "      <td>1.0</td>\n",
       "    </tr>\n",
       "  </tbody>\n",
       "</table>\n",
       "</div>"
      ],
      "text/plain": [
       "       type             datetime  post_id         subreddit  \\\n",
       "48     post  2025-04-02 13:00:42  1jpnz8b  stockstobuytoday   \n",
       "59  comment  2021-04-14 16:24:10  gui4bru  stockstobuytoday   \n",
       "60  comment  2021-11-06 13:37:29  hjjrv6d  stockstobuytoday   \n",
       "70     post  2025-03-29 18:14:28  1jmshlc  stockstobuytoday   \n",
       "88  comment  2022-04-23 20:10:13  i5x0g2b  stockstobuytoday   \n",
       "\n",
       "                         title   author  \\\n",
       "48   Earnings for current week  saasfin   \n",
       "59   r/stockstobuytoday Lounge  saasfin   \n",
       "60  Technical Analysis Thread.  saasfin   \n",
       "70     FINRA Daily Shorts Data  saasfin   \n",
       "88  Technical Analysis Thread.  saasfin   \n",
       "\n",
       "                                                  url  upvotes  downvotes  \\\n",
       "48  https://www.reddit.com/r/stockstobuytoday/comm...        1        0.0   \n",
       "59  https://www.reddit.com/r/stockstobuytoday/comm...        1        NaN   \n",
       "60  https://www.reddit.com/r/stockstobuytoday/comm...        1        NaN   \n",
       "70  https://www.reddit.com/r/stockstobuytoday/comm...        1        0.0   \n",
       "88  https://www.reddit.com/r/stockstobuytoday/comm...        1        NaN   \n",
       "\n",
       "    upvote_ratio                                               text  \\\n",
       "48           1.0  \\n\\n  [MarketWatch: Stock Market News - Financ...   \n",
       "59           NaN                            heard chatter upto $350   \n",
       "60           NaN  $IRDM\\n\\n&#x200B;\\n\\n[/](/)\\n\\nat high level i...   \n",
       "70           1.0       Updated Daily by EOD\\n\\n  \\n[Daily Shorts]()   \n",
       "88           NaN  $FDX - still in downtrend\\n\\n[/](/)\\n\\n&#x200B...   \n",
       "\n",
       "    subjectivity  polarity  sentiment  \\\n",
       "48          0.00      0.00        0.0   \n",
       "59          0.00      0.00        0.0   \n",
       "60          0.47      0.08        1.0   \n",
       "70          0.10      0.00        0.0   \n",
       "88          0.00      0.00        0.0   \n",
       "\n",
       "                                             entities  label  \n",
       "48  ['Stock', 'MarketWatch', 'catalyst', 'stockbuy...    0.0  \n",
       "59                               ['heard', 'chatter']    0.0  \n",
       "60  ['consolidating', '/', 'x200B', 'level', 'IRDM...    0.0  \n",
       "70               ['EOD', 'Daily', 'Shorts', ']', '[']    0.0  \n",
       "88             ['ICE', 'FDX', '/', 'x200B', ']', '[']    1.0  "
      ]
     },
     "execution_count": 11,
     "metadata": {},
     "output_type": "execute_result"
    }
   ],
   "source": [
    "X[X.author == 'saasfin'].head(5)"
   ]
  },
  {
   "cell_type": "code",
   "execution_count": 12,
   "metadata": {},
   "outputs": [
    {
     "name": "stdout",
     "output_type": "stream",
     "text": [
      "Please use this thread to discuss your portfolio, learn of other stock tickers & portfolios like [Warren Buffet's](/), and help out users by giving constructive criticism.\n",
      "\n",
      "Why quarterly?  Public companies report earnings quarterly; many investors take this as an opportunity to rebalance their portfolios.  We highly recommend you do some reading:  Check out our wiki's list of [relevant posts & book recommendations.](/#wiki_relevant_posts.2C_books.2C_wiki_recommendations)\n",
      "\n",
      "You can find stocks on your own by using a scanner like your broker's or [Finviz.]()  To help further, here's a list of [relevant websites.](/#wiki_relevant_websites.2Fapps)\n",
      "\n",
      "If you don't have a broker yet, see our [list of brokers](/#wiki_brokers_for_investing) or search old posts.  If you haven't started investing or trading yet, then setup your [paper trading to learn basics like market orders vs limit orders.](/#wiki_is_there_a_way_to_practice.3F)\n",
      "\n",
      "Be aware of [Business Cycle Investing]() which Fidelity issues updates to the state of global business cycles every 1 to 3 months (note: Fidelity changes their links often, so search for it since their take on it is enlightening).  [Investopedia's take on the Business Cycle]().\n",
      "\n",
      "If you need help with a falling stock price, check out Investopedia's [The Art of Selling A Losing Position]() and their [list of biases.]()\n",
      "\n",
      "Here's a list of all the [previous portfolio stickies.](+title%3A%22Rate+My+Portfolio%22&restrict_sr=on&sort=new&t=all)\n",
      "\n",
      "\n",
      "  [World Markets (stockbuyvest.com)]()\n",
      "Stock list generated from technical Analysis. \n",
      "\n",
      "Updated weekly\n",
      "\n",
      "Stocks already on an established uptrend\n",
      "\n",
      "Stocks just started uptrend\n",
      "\n",
      " [Uptrend SMA (stockbuyvest.com)](,geo_usa,ind_stocksonly,sh_avgvol_o2000,sh_curvol_o5000,sh_instown_o50,sh_relvol_o1,ta_rsi_nob60,ta_sma20_sa50,ta_sma200_pa,ta_sma50_sa200&ft=2&o=-pb)\n",
      "&#x200B;\n",
      "\n",
      " [Cryptocurrency Prices, Charts, Daily Trends, Market Cap, and Highlights | Coinbase]() \n",
      "\n",
      "&#x200B;\n",
      "\n",
      "$BTCUSD $ETHUSD $JASMYUSD $PEPEUSD\n",
      "\n",
      "\n",
      " [Bitcoin Mining (stockbuyvest.com)](/) \n",
      "\n",
      "$MARA $RIOT $WULF $BITF $CAN $COIN $BTBT $CIFR $HUT $SQ %HIVE $DMGI $BIGG $GREE $BTCM $GLXY\n",
      "\n",
      "Bitcoin ETFs\n",
      "\n",
      "$GBTC $IBIT $FBTC $ARKB $BITB $BTCO $EZBC $HODL $BRRR $BTCQ $DEFI\n",
      "&#x200B;\n",
      "\n",
      " [Cryptocurrency Prices, Charts, Daily Trends, Market Cap, and Highlights | Coinbase]() \n",
      "\n",
      "&#x200B;\n",
      "\n",
      "$BTCUSD $ETHUSD $JASMYUSD $PEPEUSD\n",
      "&#x200B;\n",
      "\n",
      "[]()\n",
      "\n",
      "&#x200B;\n",
      "\n",
      "New IPOs, Performance of IPOS\n",
      "&#x200B;\n",
      "\n",
      " [Cryptocurrency Prices, Charts, Daily Trends, Market Cap, and Highlights | Coinbase]() \n",
      "\n",
      "&#x200B;\n",
      "\n",
      "$BTCUSD $ETHUSD $JASMYUSD $PEPEUSD\n",
      "  [Crypto (stockbuyvest.com)]() \n",
      "\n",
      "$BTCUSD $ETHUSD $ADAUSD $SHIBUSD $DOGEUSD $PEPEUSD\n",
      "&#x200B;\n",
      "\n",
      " [Cryptocurrency Prices, Charts, Daily Trends, Market Cap, and Highlights | Coinbase]() \n",
      "\n",
      "&#x200B;\n",
      "\n",
      "$BTCUSD $ETHUSD $JASMYUSD $PEPEUSD\n",
      "\n",
      "\n",
      "  [World Markets (stockbuyvest.com)]()\n",
      "\n",
      "\n",
      "  [World Markets (stockbuyvest.com)]()\n",
      "&#x200B;\n",
      "\n",
      " [Cryptocurrency Prices, Charts, Daily Trends, Market Cap, and Highlights | Coinbase]() \n",
      "\n",
      "&#x200B;\n",
      "\n",
      "$BTCUSD $ETHUSD $JASMYUSD $PEPEUSD\n",
      "Hi, you're on r/Stocks, please make sure your post is related to stocks or the stockmarket or it will most likely get removed as being off-topic/political; feel free to edit it now and be more specific.\n",
      "\n",
      "**To everyone commenting:**  Please focus on how this affects the stock market or specific stocks or it will be removed as being off-topic/political.\n",
      "\n",
      "If you're interested in just politics, see our wiki on [\"relevant subreddits\"]() and post to those Reddit communities instead without linking back here, thanks!\n",
      "\n",
      "*I am a bot, and this action was performed automatically. Please [contact the moderators of this subreddit](/message/compose/?to=/r/stocks) if you have any questions or concerns.*\n",
      "Stocks that are undervalued and potential to trend up\n",
      "\n",
      " [Undervalued (stockbuyvest.com)]()\n"
     ]
    }
   ],
   "source": [
    "for text in X[X.author == 'AutoModerator'].text.values:\n",
    "    print(text)"
   ]
  },
  {
   "cell_type": "markdown",
   "metadata": {},
   "source": [
    "Also, it seems that commens only have `upvotes`, no `downvotes` (and `upvote_ratio`). Let's check if this is true."
   ]
  },
  {
   "cell_type": "code",
   "execution_count": 13,
   "metadata": {},
   "outputs": [
    {
     "name": "stdout",
     "output_type": "stream",
     "text": [
      "Posts: 0↑ 0↓ 0%\n",
      "Comments: 0↑ 783↓ 783%\n"
     ]
    }
   ],
   "source": [
    "posts = X[X['type'] == 'post']\n",
    "comments = X[X['type'] == 'comment']\n",
    "\n",
    "print(f\"Posts: {posts.upvotes.isnull().sum()}↑ {posts.downvotes.isnull().sum()}↓ {posts.upvote_ratio.isnull().sum()}%\")\n",
    "print(f\"Comments: {comments.upvotes.isnull().sum()}↑ {comments.downvotes.isnull().sum()}↓ {comments.upvote_ratio.isnull().sum()}%\")"
   ]
  },
  {
   "cell_type": "markdown",
   "metadata": {},
   "source": [
    "Other indicators in the dataset:"
   ]
  },
  {
   "cell_type": "code",
   "execution_count": 14,
   "metadata": {},
   "outputs": [
    {
     "name": "stdout",
     "output_type": "stream",
     "text": [
      "subjectivity: Null 0 Unique 247\n",
      "polarity: Null 0 Unique 264\n",
      "sentiment: Null 0 Unique 3\n",
      "sentiment\n",
      " 0.0    331\n",
      " 1.0    319\n",
      "-1.0    197\n",
      "Name: count, dtype: int64\n",
      "label: Null 0 Unique 3\n",
      "label\n",
      " 0.0    423\n",
      "-1.0    315\n",
      " 1.0    109\n",
      "Name: count, dtype: int64\n"
     ]
    },
    {
     "data": {
      "text/html": [
       "<div>\n",
       "<style scoped>\n",
       "    .dataframe tbody tr th:only-of-type {\n",
       "        vertical-align: middle;\n",
       "    }\n",
       "\n",
       "    .dataframe tbody tr th {\n",
       "        vertical-align: top;\n",
       "    }\n",
       "\n",
       "    .dataframe thead th {\n",
       "        text-align: right;\n",
       "    }\n",
       "</style>\n",
       "<table border=\"1\" class=\"dataframe\">\n",
       "  <thead>\n",
       "    <tr style=\"text-align: right;\">\n",
       "      <th></th>\n",
       "      <th>subjectivity</th>\n",
       "      <th>polarity</th>\n",
       "      <th>sentiment</th>\n",
       "      <th>label</th>\n",
       "    </tr>\n",
       "  </thead>\n",
       "  <tbody>\n",
       "    <tr>\n",
       "      <th>-1.000000</th>\n",
       "      <td>NaN</td>\n",
       "      <td>6.0</td>\n",
       "      <td>197.0</td>\n",
       "      <td>315.0</td>\n",
       "    </tr>\n",
       "    <tr>\n",
       "      <th>-0.900000</th>\n",
       "      <td>NaN</td>\n",
       "      <td>2.0</td>\n",
       "      <td>NaN</td>\n",
       "      <td>NaN</td>\n",
       "    </tr>\n",
       "    <tr>\n",
       "      <th>-0.800000</th>\n",
       "      <td>NaN</td>\n",
       "      <td>8.0</td>\n",
       "      <td>NaN</td>\n",
       "      <td>NaN</td>\n",
       "    </tr>\n",
       "    <tr>\n",
       "      <th>-0.800000</th>\n",
       "      <td>NaN</td>\n",
       "      <td>1.0</td>\n",
       "      <td>NaN</td>\n",
       "      <td>NaN</td>\n",
       "    </tr>\n",
       "    <tr>\n",
       "      <th>-0.714286</th>\n",
       "      <td>NaN</td>\n",
       "      <td>1.0</td>\n",
       "      <td>NaN</td>\n",
       "      <td>NaN</td>\n",
       "    </tr>\n",
       "    <tr>\n",
       "      <th>...</th>\n",
       "      <td>...</td>\n",
       "      <td>...</td>\n",
       "      <td>...</td>\n",
       "      <td>...</td>\n",
       "    </tr>\n",
       "    <tr>\n",
       "      <th>0.888889</th>\n",
       "      <td>3.0</td>\n",
       "      <td>NaN</td>\n",
       "      <td>NaN</td>\n",
       "      <td>NaN</td>\n",
       "    </tr>\n",
       "    <tr>\n",
       "      <th>0.900000</th>\n",
       "      <td>15.0</td>\n",
       "      <td>2.0</td>\n",
       "      <td>NaN</td>\n",
       "      <td>NaN</td>\n",
       "    </tr>\n",
       "    <tr>\n",
       "      <th>0.915527</th>\n",
       "      <td>NaN</td>\n",
       "      <td>1.0</td>\n",
       "      <td>NaN</td>\n",
       "      <td>NaN</td>\n",
       "    </tr>\n",
       "    <tr>\n",
       "      <th>0.950000</th>\n",
       "      <td>3.0</td>\n",
       "      <td>NaN</td>\n",
       "      <td>NaN</td>\n",
       "      <td>NaN</td>\n",
       "    </tr>\n",
       "    <tr>\n",
       "      <th>1.000000</th>\n",
       "      <td>42.0</td>\n",
       "      <td>9.0</td>\n",
       "      <td>319.0</td>\n",
       "      <td>109.0</td>\n",
       "    </tr>\n",
       "  </tbody>\n",
       "</table>\n",
       "<p>467 rows × 4 columns</p>\n",
       "</div>"
      ],
      "text/plain": [
       "           subjectivity  polarity  sentiment  label\n",
       "-1.000000           NaN       6.0      197.0  315.0\n",
       "-0.900000           NaN       2.0        NaN    NaN\n",
       "-0.800000           NaN       8.0        NaN    NaN\n",
       "-0.800000           NaN       1.0        NaN    NaN\n",
       "-0.714286           NaN       1.0        NaN    NaN\n",
       "...                 ...       ...        ...    ...\n",
       " 0.888889           3.0       NaN        NaN    NaN\n",
       " 0.900000          15.0       2.0        NaN    NaN\n",
       " 0.915527           NaN       1.0        NaN    NaN\n",
       " 0.950000           3.0       NaN        NaN    NaN\n",
       " 1.000000          42.0       9.0      319.0  109.0\n",
       "\n",
       "[467 rows x 4 columns]"
      ]
     },
     "execution_count": 14,
     "metadata": {},
     "output_type": "execute_result"
    }
   ],
   "source": [
    "for col in ['subjectivity', 'polarity', 'sentiment', 'label']:\n",
    "    print(f\"{col}: Null {X[col].isnull().sum()} Unique {len(X[col].unique())}\")\n",
    "    if len(X[col].unique()) == 3:\n",
    "        print(X[col].value_counts())\n",
    "\n",
    "pd.DataFrame({\n",
    "    'subjectivity': X.subjectivity.value_counts(),\n",
    "    'polarity': X.polarity.value_counts(),\n",
    "    'sentiment': X.sentiment.value_counts(),\n",
    "    'label': X.label.value_counts()\n",
    "})"
   ]
  },
  {
   "cell_type": "markdown",
   "metadata": {},
   "source": [
    "Notice sentiment is just a ternary version of polarity."
   ]
  },
  {
   "cell_type": "code",
   "execution_count": 15,
   "metadata": {},
   "outputs": [
    {
     "name": "stdout",
     "output_type": "stream",
     "text": [
      "pol < 0 but sent not -1 0\n",
      "pol > 0 but sent not 1 0\n",
      "pol = 0 but sent not 0 0\n"
     ]
    }
   ],
   "source": [
    "print(\"pol < 0 but sent not -1\", len(X[(X.polarity < 0) & (X.sentiment != -1.0)]))\n",
    "print(\"pol > 0 but sent not 1\", len(X[(X.polarity > 0) & (X.sentiment != 1.0)]))\n",
    "print(\"pol = 0 but sent not 0\", len(X[(X.polarity == 0) & (X.sentiment != 0.0)]))"
   ]
  },
  {
   "cell_type": "markdown",
   "metadata": {},
   "source": [
    "The two \"labels\" `sentiment` and `label` are different, judging from their correlation. The meaning of `label` is not very clear."
   ]
  },
  {
   "cell_type": "code",
   "execution_count": 16,
   "metadata": {},
   "outputs": [
    {
     "data": {
      "text/html": [
       "<div>\n",
       "<style scoped>\n",
       "    .dataframe tbody tr th:only-of-type {\n",
       "        vertical-align: middle;\n",
       "    }\n",
       "\n",
       "    .dataframe tbody tr th {\n",
       "        vertical-align: top;\n",
       "    }\n",
       "\n",
       "    .dataframe thead th {\n",
       "        text-align: right;\n",
       "    }\n",
       "</style>\n",
       "<table border=\"1\" class=\"dataframe\">\n",
       "  <thead>\n",
       "    <tr style=\"text-align: right;\">\n",
       "      <th></th>\n",
       "      <th>sentiment</th>\n",
       "      <th>label</th>\n",
       "    </tr>\n",
       "  </thead>\n",
       "  <tbody>\n",
       "    <tr>\n",
       "      <th>sentiment</th>\n",
       "      <td>1.000000</td>\n",
       "      <td>0.182239</td>\n",
       "    </tr>\n",
       "    <tr>\n",
       "      <th>label</th>\n",
       "      <td>0.182239</td>\n",
       "      <td>1.000000</td>\n",
       "    </tr>\n",
       "  </tbody>\n",
       "</table>\n",
       "</div>"
      ],
      "text/plain": [
       "           sentiment     label\n",
       "sentiment   1.000000  0.182239\n",
       "label       0.182239  1.000000"
      ]
     },
     "execution_count": 16,
     "metadata": {},
     "output_type": "execute_result"
    }
   ],
   "source": [
    "X[[\"sentiment\", \"label\"]].corr()"
   ]
  },
  {
   "cell_type": "markdown",
   "metadata": {},
   "source": [
    "The speculated meaning and data type of each column is as follows:\n",
    "\n",
    "- `type` (nominal, categorical) - either \"comment\" or \"post\"\n",
    "- `datetime` (interval, datetime) - time when the post was made\n",
    "- `post_id` (nominal) - post ID, should be irrelevant\n",
    "- `subreddit` (nominal, categorical) - subreddit (group) name, only contains \"stocks\" \"StockMarket\" \"stockstobuytoday\" \"wallstreetbets\"\n",
    "- `title` (text) - title of the post\n",
    "- `author` (nominal) - author of the post\n",
    "- `url` (nominal) - URL of the post (for post); URL of attachment/external link (for comment)\n",
    "- `upvotes` (interval) - number of upvotes\n",
    "- `downvotes` (interval) - number of downvotes (only for post)\n",
    "- `upvote_ratio` (ratio) - ratio of upvotes to total votes (only for post)\n",
    "- `text` (text) - content of the post/comment, usually in markdown format\n",
    "- `subjectivity` (ratio) - subjectivity score, 0.0 is very objective, 1.0 is very subjective\n",
    "- `polarity` (ratio) - polarity score, from -1.0 (very negative) to 1.0 (very positive)\n",
    "- `sentiment` (interval, categorical) - sentiment label, 1.0 is positive, 0.0 is neutral and -1.0 is negative, derived from polarity\n",
    "- `entities` (list of text) - named entities in the text. ill-presented due to special characters and format, not useful (judging from a few samples above)\n",
    "- `label` (interval, categorical) - unknown label (obviously not sentiment), contains only -1.0, 0.0, 1.0"
   ]
  },
  {
   "cell_type": "markdown",
   "metadata": {},
   "source": [
    "##### >>> **Exercise 3**\n",
    "\n",
    "Try to fetch records belonging to **r/stocks** and query every 10th record. Only show the first 5 records."
   ]
  },
  {
   "cell_type": "code",
   "execution_count": 17,
   "metadata": {},
   "outputs": [
    {
     "data": {
      "text/html": [
       "<div>\n",
       "<style scoped>\n",
       "    .dataframe tbody tr th:only-of-type {\n",
       "        vertical-align: middle;\n",
       "    }\n",
       "\n",
       "    .dataframe tbody tr th {\n",
       "        vertical-align: top;\n",
       "    }\n",
       "\n",
       "    .dataframe thead th {\n",
       "        text-align: right;\n",
       "    }\n",
       "</style>\n",
       "<table border=\"1\" class=\"dataframe\">\n",
       "  <thead>\n",
       "    <tr style=\"text-align: right;\">\n",
       "      <th></th>\n",
       "      <th>type</th>\n",
       "      <th>datetime</th>\n",
       "      <th>post_id</th>\n",
       "      <th>subreddit</th>\n",
       "      <th>title</th>\n",
       "      <th>author</th>\n",
       "      <th>url</th>\n",
       "      <th>upvotes</th>\n",
       "      <th>downvotes</th>\n",
       "      <th>upvote_ratio</th>\n",
       "      <th>text</th>\n",
       "      <th>subjectivity</th>\n",
       "      <th>polarity</th>\n",
       "      <th>sentiment</th>\n",
       "      <th>entities</th>\n",
       "      <th>label</th>\n",
       "    </tr>\n",
       "  </thead>\n",
       "  <tbody>\n",
       "    <tr>\n",
       "      <th>6</th>\n",
       "      <td>comment</td>\n",
       "      <td>2025-04-11 12:37:23</td>\n",
       "      <td>mmjx7vz</td>\n",
       "      <td>stocks</td>\n",
       "      <td>Is the market in complete denial right now?</td>\n",
       "      <td>stoniey84</td>\n",
       "      <td>https://www.reddit.com/r/stocks/comments/1jwo1...</td>\n",
       "      <td>5</td>\n",
       "      <td>NaN</td>\n",
       "      <td>NaN</td>\n",
       "      <td>Trump will respond to china increasing their t...</td>\n",
       "      <td>0.380000</td>\n",
       "      <td>-0.108333</td>\n",
       "      <td>-1.0</td>\n",
       "      <td>['JPow', 'Jerome', 'i', 'reporting', 'Trump', ...</td>\n",
       "      <td>-1.0</td>\n",
       "    </tr>\n",
       "    <tr>\n",
       "      <th>20</th>\n",
       "      <td>comment</td>\n",
       "      <td>2025-04-11 13:11:35</td>\n",
       "      <td>mmk2sd6</td>\n",
       "      <td>stocks</td>\n",
       "      <td>r/Stocks Daily Discussion &amp; Fundamentals Frida...</td>\n",
       "      <td>Golden__Eagle</td>\n",
       "      <td>https://www.reddit.com/r/stocks/comments/1jwlr...</td>\n",
       "      <td>5</td>\n",
       "      <td>NaN</td>\n",
       "      <td>NaN</td>\n",
       "      <td>Nooo dont go down its smug bull day</td>\n",
       "      <td>0.000000</td>\n",
       "      <td>0.000000</td>\n",
       "      <td>0.0</td>\n",
       "      <td>['bull', 'day', 'dont', 'Nooo']</td>\n",
       "      <td>-1.0</td>\n",
       "    </tr>\n",
       "    <tr>\n",
       "      <th>49</th>\n",
       "      <td>comment</td>\n",
       "      <td>2025-04-11 16:01:45</td>\n",
       "      <td>mml0910</td>\n",
       "      <td>stocks</td>\n",
       "      <td>r/Stocks Daily Discussion &amp; Fundamentals Frida...</td>\n",
       "      <td>CEOofBeanz</td>\n",
       "      <td>https://www.reddit.com/r/stocks/comments/1jwlr...</td>\n",
       "      <td>1</td>\n",
       "      <td>NaN</td>\n",
       "      <td>NaN</td>\n",
       "      <td>And you are? \\n\\nMarket. Mr. Market.</td>\n",
       "      <td>0.000000</td>\n",
       "      <td>0.000000</td>\n",
       "      <td>0.0</td>\n",
       "      <td>['Mr.', 'Market']</td>\n",
       "      <td>0.0</td>\n",
       "    </tr>\n",
       "    <tr>\n",
       "      <th>75</th>\n",
       "      <td>comment</td>\n",
       "      <td>2025-03-27 21:15:26</td>\n",
       "      <td>mk2ot48</td>\n",
       "      <td>stocks</td>\n",
       "      <td>Rate My Portfolio - r/Stocks Quarterly Thread ...</td>\n",
       "      <td>BugDisastrous5135</td>\n",
       "      <td>https://www.reddit.com/r/stocks/comments/1j0w7...</td>\n",
       "      <td>1</td>\n",
       "      <td>NaN</td>\n",
       "      <td>NaN</td>\n",
       "      <td>\"New to investing\" but almost $50k port. Ok th...</td>\n",
       "      <td>0.477273</td>\n",
       "      <td>0.318182</td>\n",
       "      <td>1.0</td>\n",
       "      <td>['New', 'port']</td>\n",
       "      <td>0.0</td>\n",
       "    </tr>\n",
       "    <tr>\n",
       "      <th>118</th>\n",
       "      <td>comment</td>\n",
       "      <td>2025-04-10 15:31:57</td>\n",
       "      <td>mmejc27</td>\n",
       "      <td>stocks</td>\n",
       "      <td>PRESIDENT TRUMP JUST ASKED THE SUPREME COURT F...</td>\n",
       "      <td>mealucra</td>\n",
       "      <td>https://www.reddit.com/r/stocks/comments/1jvzr...</td>\n",
       "      <td>1</td>\n",
       "      <td>NaN</td>\n",
       "      <td>NaN</td>\n",
       "      <td>Yikes...\\n\\n\\nThis shitshow continually surpri...</td>\n",
       "      <td>0.763889</td>\n",
       "      <td>-0.266667</td>\n",
       "      <td>-1.0</td>\n",
       "      <td>['shitshow', 'spine', 'drumpf', 'news', 'rabid...</td>\n",
       "      <td>1.0</td>\n",
       "    </tr>\n",
       "  </tbody>\n",
       "</table>\n",
       "</div>"
      ],
      "text/plain": [
       "        type             datetime  post_id subreddit  \\\n",
       "6    comment  2025-04-11 12:37:23  mmjx7vz    stocks   \n",
       "20   comment  2025-04-11 13:11:35  mmk2sd6    stocks   \n",
       "49   comment  2025-04-11 16:01:45  mml0910    stocks   \n",
       "75   comment  2025-03-27 21:15:26  mk2ot48    stocks   \n",
       "118  comment  2025-04-10 15:31:57  mmejc27    stocks   \n",
       "\n",
       "                                                 title             author  \\\n",
       "6          Is the market in complete denial right now?          stoniey84   \n",
       "20   r/Stocks Daily Discussion & Fundamentals Frida...      Golden__Eagle   \n",
       "49   r/Stocks Daily Discussion & Fundamentals Frida...         CEOofBeanz   \n",
       "75   Rate My Portfolio - r/Stocks Quarterly Thread ...  BugDisastrous5135   \n",
       "118  PRESIDENT TRUMP JUST ASKED THE SUPREME COURT F...           mealucra   \n",
       "\n",
       "                                                   url  upvotes  downvotes  \\\n",
       "6    https://www.reddit.com/r/stocks/comments/1jwo1...        5        NaN   \n",
       "20   https://www.reddit.com/r/stocks/comments/1jwlr...        5        NaN   \n",
       "49   https://www.reddit.com/r/stocks/comments/1jwlr...        1        NaN   \n",
       "75   https://www.reddit.com/r/stocks/comments/1j0w7...        1        NaN   \n",
       "118  https://www.reddit.com/r/stocks/comments/1jvzr...        1        NaN   \n",
       "\n",
       "     upvote_ratio                                               text  \\\n",
       "6             NaN  Trump will respond to china increasing their t...   \n",
       "20            NaN                Nooo dont go down its smug bull day   \n",
       "49            NaN              And you are? \\n\\nMarket. Mr. Market.    \n",
       "75            NaN  \"New to investing\" but almost $50k port. Ok th...   \n",
       "118           NaN  Yikes...\\n\\n\\nThis shitshow continually surpri...   \n",
       "\n",
       "     subjectivity  polarity  sentiment  \\\n",
       "6        0.380000 -0.108333       -1.0   \n",
       "20       0.000000  0.000000        0.0   \n",
       "49       0.000000  0.000000        0.0   \n",
       "75       0.477273  0.318182        1.0   \n",
       "118      0.763889 -0.266667       -1.0   \n",
       "\n",
       "                                              entities  label  \n",
       "6    ['JPow', 'Jerome', 'i', 'reporting', 'Trump', ...   -1.0  \n",
       "20                     ['bull', 'day', 'dont', 'Nooo']   -1.0  \n",
       "49                                   ['Mr.', 'Market']    0.0  \n",
       "75                                     ['New', 'port']    0.0  \n",
       "118  ['shitshow', 'spine', 'drumpf', 'news', 'rabid...    1.0  "
      ]
     },
     "execution_count": 17,
     "metadata": {},
     "output_type": "execute_result"
    }
   ],
   "source": [
    "X[X.subreddit == 'stocks'].iloc[::10].head(5)"
   ]
  },
  {
   "cell_type": "markdown",
   "metadata": {},
   "source": [
    "## 3. Data Transformation"
   ]
  },
  {
   "cell_type": "markdown",
   "metadata": {},
   "source": [
    "Since the dataset is already in pandas format, we don't need to convert it from a different format."
   ]
  },
  {
   "cell_type": "markdown",
   "metadata": {},
   "source": [
    "## 4. Data Mining"
   ]
  },
  {
   "cell_type": "markdown",
   "metadata": {},
   "source": [
    "### 4.1 Missing Values"
   ]
  },
  {
   "cell_type": "markdown",
   "metadata": {},
   "source": [
    "Let's check again the missing values for each column."
   ]
  },
  {
   "cell_type": "code",
   "execution_count": 18,
   "metadata": {},
   "outputs": [
    {
     "data": {
      "text/plain": [
       "type              0\n",
       "datetime          0\n",
       "post_id           0\n",
       "subreddit         0\n",
       "title             0\n",
       "author            0\n",
       "url               0\n",
       "upvotes           0\n",
       "downvotes       783\n",
       "upvote_ratio    783\n",
       "text              0\n",
       "subjectivity      0\n",
       "polarity          0\n",
       "sentiment         0\n",
       "entities          0\n",
       "label             0\n",
       "dtype: int64"
      ]
     },
     "execution_count": 18,
     "metadata": {},
     "output_type": "execute_result"
    }
   ],
   "source": [
    "X.isnull().sum(axis=0)"
   ]
  },
  {
   "cell_type": "markdown",
   "metadata": {},
   "source": [
    "Clearly, only `downvotes` and `upvote_ratio` have missing values, and they are only missing for comments, which is expected.\n",
    "\n",
    "Here, the best way to handle the missing values is to leave them as is, since we don't want to mess with the downvote information of posts by filling in values from comments."
   ]
  },
  {
   "cell_type": "markdown",
   "metadata": {},
   "source": [
    "##### >>> **Exercise 4**\n",
    "\n",
    "Let's try something different. Instead of calculating missing values by column let's try to calculate the missing values in every record instead of every column.  \n",
    "**Hint** : `axis` parameter. Check the documentation for more information."
   ]
  },
  {
   "cell_type": "code",
   "execution_count": 19,
   "metadata": {},
   "outputs": [
    {
     "data": {
      "text/plain": [
       "0      2\n",
       "1      2\n",
       "2      2\n",
       "3      0\n",
       "4      2\n",
       "      ..\n",
       "842    2\n",
       "843    2\n",
       "844    0\n",
       "845    2\n",
       "846    2\n",
       "Length: 847, dtype: int64"
      ]
     },
     "execution_count": 19,
     "metadata": {},
     "output_type": "execute_result"
    }
   ],
   "source": [
    "X.isnull().sum(axis=1)"
   ]
  },
  {
   "cell_type": "markdown",
   "metadata": {},
   "source": [
    "##### >>> **Exercise 5**\n",
    "\n",
    "(Not applicable for this dataset)"
   ]
  },
  {
   "cell_type": "markdown",
   "metadata": {},
   "source": [
    "### 4.2 Duplicate Values"
   ]
  },
  {
   "cell_type": "code",
   "execution_count": 20,
   "metadata": {},
   "outputs": [
    {
     "data": {
      "text/plain": [
       "np.int64(0)"
      ]
     },
     "execution_count": 20,
     "metadata": {},
     "output_type": "execute_result"
    }
   ],
   "source": [
    "X.duplicated().sum()"
   ]
  },
  {
   "cell_type": "markdown",
   "metadata": {},
   "source": [
    "No duplicate rows! How about other features?"
   ]
  },
  {
   "cell_type": "code",
   "execution_count": 21,
   "metadata": {},
   "outputs": [
    {
     "name": "stdout",
     "output_type": "stream",
     "text": [
      "type: 845\n",
      "datetime: 5\n",
      "post_id: 0\n",
      "subreddit: 843\n",
      "title: 720\n",
      "author: 116\n",
      "url: 696\n",
      "upvotes: 778\n",
      "downvotes: 842\n",
      "upvote_ratio: 837\n",
      "text: 23\n",
      "subjectivity: 600\n",
      "polarity: 583\n",
      "sentiment: 844\n",
      "entities: 87\n",
      "label: 844\n"
     ]
    }
   ],
   "source": [
    "for col in X.columns:\n",
    "    print(f\"{col}: {X[col].duplicated().sum()}\")"
   ]
  },
  {
   "cell_type": "markdown",
   "metadata": {},
   "source": [
    "Some comments can have the same `datetime`, but it is likely just coincidence."
   ]
  },
  {
   "cell_type": "code",
   "execution_count": 22,
   "metadata": {},
   "outputs": [
    {
     "name": "stdout",
     "output_type": "stream",
     "text": [
      "2\n"
     ]
    },
    {
     "data": {
      "text/html": [
       "<div>\n",
       "<style scoped>\n",
       "    .dataframe tbody tr th:only-of-type {\n",
       "        vertical-align: middle;\n",
       "    }\n",
       "\n",
       "    .dataframe tbody tr th {\n",
       "        vertical-align: top;\n",
       "    }\n",
       "\n",
       "    .dataframe thead th {\n",
       "        text-align: right;\n",
       "    }\n",
       "</style>\n",
       "<table border=\"1\" class=\"dataframe\">\n",
       "  <thead>\n",
       "    <tr style=\"text-align: right;\">\n",
       "      <th></th>\n",
       "      <th>type</th>\n",
       "      <th>datetime</th>\n",
       "      <th>post_id</th>\n",
       "      <th>subreddit</th>\n",
       "      <th>title</th>\n",
       "      <th>author</th>\n",
       "      <th>url</th>\n",
       "      <th>upvotes</th>\n",
       "      <th>downvotes</th>\n",
       "      <th>upvote_ratio</th>\n",
       "      <th>text</th>\n",
       "      <th>subjectivity</th>\n",
       "      <th>polarity</th>\n",
       "      <th>sentiment</th>\n",
       "      <th>entities</th>\n",
       "      <th>label</th>\n",
       "    </tr>\n",
       "  </thead>\n",
       "  <tbody>\n",
       "    <tr>\n",
       "      <th>17</th>\n",
       "      <td>comment</td>\n",
       "      <td>2025-04-11 16:03:04</td>\n",
       "      <td>mml0ijz</td>\n",
       "      <td>stocks</td>\n",
       "      <td>The US bond market is continuing to crash. Wil...</td>\n",
       "      <td>BrotherlyShove791</td>\n",
       "      <td>https://www.reddit.com/r/stocks/comments/1jwsz...</td>\n",
       "      <td>1</td>\n",
       "      <td>NaN</td>\n",
       "      <td>NaN</td>\n",
       "      <td>Exactly this. Trump will blink first because, ...</td>\n",
       "      <td>0.369259</td>\n",
       "      <td>0.084444</td>\n",
       "      <td>1.0</td>\n",
       "      <td>['war', 'removal', 'Tiananmen', 'Square', 'end...</td>\n",
       "      <td>-1.0</td>\n",
       "    </tr>\n",
       "    <tr>\n",
       "      <th>401</th>\n",
       "      <td>comment</td>\n",
       "      <td>2025-04-11 16:03:04</td>\n",
       "      <td>mml0im6</td>\n",
       "      <td>stocks</td>\n",
       "      <td>The US bond market is continuing to crash. Wil...</td>\n",
       "      <td>akneebriateit</td>\n",
       "      <td>https://www.reddit.com/r/stocks/comments/1jwsz...</td>\n",
       "      <td>1</td>\n",
       "      <td>NaN</td>\n",
       "      <td>NaN</td>\n",
       "      <td>And he wants war because he wants to take over...</td>\n",
       "      <td>0.400000</td>\n",
       "      <td>0.000000</td>\n",
       "      <td>0.0</td>\n",
       "      <td>['war', 'land', 'ally', '’', 's', '*', 's…']</td>\n",
       "      <td>-1.0</td>\n",
       "    </tr>\n",
       "  </tbody>\n",
       "</table>\n",
       "</div>"
      ],
      "text/plain": [
       "        type             datetime  post_id subreddit  \\\n",
       "17   comment  2025-04-11 16:03:04  mml0ijz    stocks   \n",
       "401  comment  2025-04-11 16:03:04  mml0im6    stocks   \n",
       "\n",
       "                                                 title             author  \\\n",
       "17   The US bond market is continuing to crash. Wil...  BrotherlyShove791   \n",
       "401  The US bond market is continuing to crash. Wil...      akneebriateit   \n",
       "\n",
       "                                                   url  upvotes  downvotes  \\\n",
       "17   https://www.reddit.com/r/stocks/comments/1jwsz...        1        NaN   \n",
       "401  https://www.reddit.com/r/stocks/comments/1jwsz...        1        NaN   \n",
       "\n",
       "     upvote_ratio                                               text  \\\n",
       "17            NaN  Exactly this. Trump will blink first because, ...   \n",
       "401           NaN  And he wants war because he wants to take over...   \n",
       "\n",
       "     subjectivity  polarity  sentiment  \\\n",
       "17       0.369259  0.084444        1.0   \n",
       "401      0.400000  0.000000        0.0   \n",
       "\n",
       "                                              entities  label  \n",
       "17   ['war', 'removal', 'Tiananmen', 'Square', 'end...   -1.0  \n",
       "401       ['war', 'land', 'ally', '’', 's', '*', 's…']   -1.0  "
      ]
     },
     "execution_count": 22,
     "metadata": {},
     "output_type": "execute_result"
    }
   ],
   "source": [
    "first_dupe_time = X[X.duplicated(\"datetime\", keep=False)].datetime.unique()[0]\n",
    "print(len(X[X.datetime == first_dupe_time]))\n",
    "X[X.datetime == first_dupe_time].head(3)"
   ]
  },
  {
   "cell_type": "markdown",
   "metadata": {},
   "source": [
    "But what about the duplicated `url` shown above?"
   ]
  },
  {
   "cell_type": "code",
   "execution_count": 23,
   "metadata": {},
   "outputs": [
    {
     "name": "stdout",
     "output_type": "stream",
     "text": [
      "31\n"
     ]
    }
   ],
   "source": [
    "print(sum(X.url == 'https://i.redd.it/7tl6puv9waue1.jpeg'))"
   ]
  },
  {
   "cell_type": "markdown",
   "metadata": {},
   "source": [
    "The image is this:\n",
    "\n",
    "![image](https://i.redd.it/7tl6puv9waue1.jpeg)\n",
    "\n",
    "This is just a placeholder image used by Reddit when the attachment is removed or unavailable."
   ]
  },
  {
   "cell_type": "markdown",
   "metadata": {},
   "source": [
    "There can be several comments from the same post, thus the same `title` and `url`. However, `post_id` is unique for each post and comment."
   ]
  },
  {
   "cell_type": "code",
   "execution_count": 24,
   "metadata": {},
   "outputs": [
    {
     "name": "stdout",
     "output_type": "stream",
     "text": [
      "20\n"
     ]
    },
    {
     "data": {
      "text/html": [
       "<div>\n",
       "<style scoped>\n",
       "    .dataframe tbody tr th:only-of-type {\n",
       "        vertical-align: middle;\n",
       "    }\n",
       "\n",
       "    .dataframe tbody tr th {\n",
       "        vertical-align: top;\n",
       "    }\n",
       "\n",
       "    .dataframe thead th {\n",
       "        text-align: right;\n",
       "    }\n",
       "</style>\n",
       "<table border=\"1\" class=\"dataframe\">\n",
       "  <thead>\n",
       "    <tr style=\"text-align: right;\">\n",
       "      <th></th>\n",
       "      <th>type</th>\n",
       "      <th>datetime</th>\n",
       "      <th>post_id</th>\n",
       "      <th>subreddit</th>\n",
       "      <th>title</th>\n",
       "      <th>author</th>\n",
       "      <th>url</th>\n",
       "      <th>upvotes</th>\n",
       "      <th>downvotes</th>\n",
       "      <th>upvote_ratio</th>\n",
       "      <th>text</th>\n",
       "      <th>subjectivity</th>\n",
       "      <th>polarity</th>\n",
       "      <th>sentiment</th>\n",
       "      <th>entities</th>\n",
       "      <th>label</th>\n",
       "    </tr>\n",
       "  </thead>\n",
       "  <tbody>\n",
       "    <tr>\n",
       "      <th>0</th>\n",
       "      <td>comment</td>\n",
       "      <td>2025-04-11 17:29:56</td>\n",
       "      <td>mmli62w</td>\n",
       "      <td>wallstreetbets</td>\n",
       "      <td>Retardation is on the menu boys! WSB is so back</td>\n",
       "      <td>StickyTip420</td>\n",
       "      <td>https://i.redd.it/0yq2ftren8ue1.jpeg</td>\n",
       "      <td>0</td>\n",
       "      <td>NaN</td>\n",
       "      <td>NaN</td>\n",
       "      <td>Calls on retards</td>\n",
       "      <td>1.000000</td>\n",
       "      <td>-0.90</td>\n",
       "      <td>-1.0</td>\n",
       "      <td>[]</td>\n",
       "      <td>-1.0</td>\n",
       "    </tr>\n",
       "    <tr>\n",
       "      <th>7</th>\n",
       "      <td>comment</td>\n",
       "      <td>2025-04-11 17:28:50</td>\n",
       "      <td>mmlhxwc</td>\n",
       "      <td>wallstreetbets</td>\n",
       "      <td>Retardation is on the menu boys! WSB is so back</td>\n",
       "      <td>OSRSkarma</td>\n",
       "      <td>https://i.redd.it/0yq2ftren8ue1.jpeg</td>\n",
       "      <td>-3</td>\n",
       "      <td>NaN</td>\n",
       "      <td>NaN</td>\n",
       "      <td>Confirmed not a trap. Its been like this for p...</td>\n",
       "      <td>0.700000</td>\n",
       "      <td>0.05</td>\n",
       "      <td>1.0</td>\n",
       "      <td>['Confirmed', 'mouth', 'word', 'trap']</td>\n",
       "      <td>0.0</td>\n",
       "    </tr>\n",
       "    <tr>\n",
       "      <th>28</th>\n",
       "      <td>comment</td>\n",
       "      <td>2025-04-11 17:21:44</td>\n",
       "      <td>mmlgh35</td>\n",
       "      <td>wallstreetbets</td>\n",
       "      <td>Retardation is on the menu boys! WSB is so back</td>\n",
       "      <td>PlannedObsolescence-</td>\n",
       "      <td>https://i.redd.it/0yq2ftren8ue1.jpeg</td>\n",
       "      <td>53</td>\n",
       "      <td>NaN</td>\n",
       "      <td>NaN</td>\n",
       "      <td>My first wife was tarded, she's a pilot now.</td>\n",
       "      <td>0.333333</td>\n",
       "      <td>0.25</td>\n",
       "      <td>1.0</td>\n",
       "      <td>['pilot', 'wife']</td>\n",
       "      <td>0.0</td>\n",
       "    </tr>\n",
       "  </tbody>\n",
       "</table>\n",
       "</div>"
      ],
      "text/plain": [
       "       type             datetime  post_id       subreddit  \\\n",
       "0   comment  2025-04-11 17:29:56  mmli62w  wallstreetbets   \n",
       "7   comment  2025-04-11 17:28:50  mmlhxwc  wallstreetbets   \n",
       "28  comment  2025-04-11 17:21:44  mmlgh35  wallstreetbets   \n",
       "\n",
       "                                              title                author  \\\n",
       "0   Retardation is on the menu boys! WSB is so back          StickyTip420   \n",
       "7   Retardation is on the menu boys! WSB is so back             OSRSkarma   \n",
       "28  Retardation is on the menu boys! WSB is so back  PlannedObsolescence-   \n",
       "\n",
       "                                     url  upvotes  downvotes  upvote_ratio  \\\n",
       "0   https://i.redd.it/0yq2ftren8ue1.jpeg        0        NaN           NaN   \n",
       "7   https://i.redd.it/0yq2ftren8ue1.jpeg       -3        NaN           NaN   \n",
       "28  https://i.redd.it/0yq2ftren8ue1.jpeg       53        NaN           NaN   \n",
       "\n",
       "                                                 text  subjectivity  polarity  \\\n",
       "0                                    Calls on retards      1.000000     -0.90   \n",
       "7   Confirmed not a trap. Its been like this for p...      0.700000      0.05   \n",
       "28       My first wife was tarded, she's a pilot now.      0.333333      0.25   \n",
       "\n",
       "    sentiment                                entities  label  \n",
       "0        -1.0                                      []   -1.0  \n",
       "7         1.0  ['Confirmed', 'mouth', 'word', 'trap']    0.0  \n",
       "28        1.0                       ['pilot', 'wife']    0.0  "
      ]
     },
     "execution_count": 24,
     "metadata": {},
     "output_type": "execute_result"
    }
   ],
   "source": [
    "first_dupe_title = X[X.duplicated(\"title\", keep=False)].title.unique()[0]\n",
    "print(len(X[X.title == first_dupe_title]))\n",
    "X[X.title == first_dupe_title].head(3)"
   ]
  },
  {
   "cell_type": "markdown",
   "metadata": {},
   "source": [
    "Now time for the elephant in the room: duplicated `text`."
   ]
  },
  {
   "cell_type": "code",
   "execution_count": 25,
   "metadata": {},
   "outputs": [
    {
     "name": "stdout",
     "output_type": "stream",
     "text": [
      "author\n",
      "saasfin          24\n",
      "AutoModerator     8\n",
      "SmithRune735      2\n",
      "Name: count, dtype: int64\n",
      "2\n",
      "So they went from saying redditors are bad for manipulating the market o praising silver??\n"
     ]
    },
    {
     "data": {
      "text/html": [
       "<div>\n",
       "<style scoped>\n",
       "    .dataframe tbody tr th:only-of-type {\n",
       "        vertical-align: middle;\n",
       "    }\n",
       "\n",
       "    .dataframe tbody tr th {\n",
       "        vertical-align: top;\n",
       "    }\n",
       "\n",
       "    .dataframe thead th {\n",
       "        text-align: right;\n",
       "    }\n",
       "</style>\n",
       "<table border=\"1\" class=\"dataframe\">\n",
       "  <thead>\n",
       "    <tr style=\"text-align: right;\">\n",
       "      <th></th>\n",
       "      <th>type</th>\n",
       "      <th>datetime</th>\n",
       "      <th>post_id</th>\n",
       "      <th>subreddit</th>\n",
       "      <th>title</th>\n",
       "      <th>author</th>\n",
       "      <th>url</th>\n",
       "      <th>upvotes</th>\n",
       "      <th>downvotes</th>\n",
       "      <th>upvote_ratio</th>\n",
       "      <th>text</th>\n",
       "      <th>subjectivity</th>\n",
       "      <th>polarity</th>\n",
       "      <th>sentiment</th>\n",
       "      <th>entities</th>\n",
       "      <th>label</th>\n",
       "    </tr>\n",
       "  </thead>\n",
       "  <tbody>\n",
       "    <tr>\n",
       "      <th>34</th>\n",
       "      <td>comment</td>\n",
       "      <td>2021-02-01 13:45:52</td>\n",
       "      <td>gllif2v</td>\n",
       "      <td>stocks</td>\n",
       "      <td>It's fucking awful seeing the \"Silver\" misinfo...</td>\n",
       "      <td>SmithRune735</td>\n",
       "      <td>https://www.reddit.com/r/stocks/comments/la34b...</td>\n",
       "      <td>1</td>\n",
       "      <td>NaN</td>\n",
       "      <td>NaN</td>\n",
       "      <td>So they went from saying redditors are bad for...</td>\n",
       "      <td>0.666667</td>\n",
       "      <td>-0.7</td>\n",
       "      <td>-1.0</td>\n",
       "      <td>['market', 'silver']</td>\n",
       "      <td>1.0</td>\n",
       "    </tr>\n",
       "    <tr>\n",
       "      <th>42</th>\n",
       "      <td>comment</td>\n",
       "      <td>2021-02-01 13:45:17</td>\n",
       "      <td>gllicpw</td>\n",
       "      <td>stocks</td>\n",
       "      <td>It's fucking awful seeing the \"Silver\" misinfo...</td>\n",
       "      <td>SmithRune735</td>\n",
       "      <td>https://www.reddit.com/r/stocks/comments/la34b...</td>\n",
       "      <td>3943</td>\n",
       "      <td>NaN</td>\n",
       "      <td>NaN</td>\n",
       "      <td>So they went from saying redditors are bad for...</td>\n",
       "      <td>0.666667</td>\n",
       "      <td>-0.7</td>\n",
       "      <td>-1.0</td>\n",
       "      <td>['market', 'silver']</td>\n",
       "      <td>1.0</td>\n",
       "    </tr>\n",
       "  </tbody>\n",
       "</table>\n",
       "</div>"
      ],
      "text/plain": [
       "       type             datetime  post_id subreddit  \\\n",
       "34  comment  2021-02-01 13:45:52  gllif2v    stocks   \n",
       "42  comment  2021-02-01 13:45:17  gllicpw    stocks   \n",
       "\n",
       "                                                title        author  \\\n",
       "34  It's fucking awful seeing the \"Silver\" misinfo...  SmithRune735   \n",
       "42  It's fucking awful seeing the \"Silver\" misinfo...  SmithRune735   \n",
       "\n",
       "                                                  url  upvotes  downvotes  \\\n",
       "34  https://www.reddit.com/r/stocks/comments/la34b...        1        NaN   \n",
       "42  https://www.reddit.com/r/stocks/comments/la34b...     3943        NaN   \n",
       "\n",
       "    upvote_ratio                                               text  \\\n",
       "34           NaN  So they went from saying redditors are bad for...   \n",
       "42           NaN  So they went from saying redditors are bad for...   \n",
       "\n",
       "    subjectivity  polarity  sentiment              entities  label  \n",
       "34      0.666667      -0.7       -1.0  ['market', 'silver']    1.0  \n",
       "42      0.666667      -0.7       -1.0  ['market', 'silver']    1.0  "
      ]
     },
     "metadata": {},
     "output_type": "display_data"
    },
    {
     "name": "stdout",
     "output_type": "stream",
     "text": [
      "4\n",
      "Updated Daily by EOD\n",
      "\n",
      "  \n",
      "[Daily Shorts]()\n"
     ]
    },
    {
     "data": {
      "text/html": [
       "<div>\n",
       "<style scoped>\n",
       "    .dataframe tbody tr th:only-of-type {\n",
       "        vertical-align: middle;\n",
       "    }\n",
       "\n",
       "    .dataframe tbody tr th {\n",
       "        vertical-align: top;\n",
       "    }\n",
       "\n",
       "    .dataframe thead th {\n",
       "        text-align: right;\n",
       "    }\n",
       "</style>\n",
       "<table border=\"1\" class=\"dataframe\">\n",
       "  <thead>\n",
       "    <tr style=\"text-align: right;\">\n",
       "      <th></th>\n",
       "      <th>type</th>\n",
       "      <th>datetime</th>\n",
       "      <th>post_id</th>\n",
       "      <th>subreddit</th>\n",
       "      <th>title</th>\n",
       "      <th>author</th>\n",
       "      <th>url</th>\n",
       "      <th>upvotes</th>\n",
       "      <th>downvotes</th>\n",
       "      <th>upvote_ratio</th>\n",
       "      <th>text</th>\n",
       "      <th>subjectivity</th>\n",
       "      <th>polarity</th>\n",
       "      <th>sentiment</th>\n",
       "      <th>entities</th>\n",
       "      <th>label</th>\n",
       "    </tr>\n",
       "  </thead>\n",
       "  <tbody>\n",
       "    <tr>\n",
       "      <th>70</th>\n",
       "      <td>post</td>\n",
       "      <td>2025-03-29 18:14:28</td>\n",
       "      <td>1jmshlc</td>\n",
       "      <td>stockstobuytoday</td>\n",
       "      <td>FINRA Daily Shorts Data</td>\n",
       "      <td>saasfin</td>\n",
       "      <td>https://www.reddit.com/r/stockstobuytoday/comm...</td>\n",
       "      <td>1</td>\n",
       "      <td>0.0</td>\n",
       "      <td>1.0</td>\n",
       "      <td>Updated Daily by EOD\\n\\n  \\n[Daily Shorts]()</td>\n",
       "      <td>0.1</td>\n",
       "      <td>0.0</td>\n",
       "      <td>0.0</td>\n",
       "      <td>['EOD', 'Daily', 'Shorts', ']', '[']</td>\n",
       "      <td>0.0</td>\n",
       "    </tr>\n",
       "    <tr>\n",
       "      <th>349</th>\n",
       "      <td>post</td>\n",
       "      <td>2025-03-22 18:14:30</td>\n",
       "      <td>1jhestv</td>\n",
       "      <td>stockstobuytoday</td>\n",
       "      <td>FINRA Daily Shorts Data</td>\n",
       "      <td>saasfin</td>\n",
       "      <td>https://www.reddit.com/r/stockstobuytoday/comm...</td>\n",
       "      <td>1</td>\n",
       "      <td>0.0</td>\n",
       "      <td>1.0</td>\n",
       "      <td>Updated Daily by EOD\\n\\n  \\n[Daily Shorts]()</td>\n",
       "      <td>0.1</td>\n",
       "      <td>0.0</td>\n",
       "      <td>0.0</td>\n",
       "      <td>['EOD', 'Daily', 'Shorts', ']', '[']</td>\n",
       "      <td>0.0</td>\n",
       "    </tr>\n",
       "    <tr>\n",
       "      <th>520</th>\n",
       "      <td>post</td>\n",
       "      <td>2025-03-25 18:14:13</td>\n",
       "      <td>1jjq3m5</td>\n",
       "      <td>stockstobuytoday</td>\n",
       "      <td>FINRA Daily Shorts Data</td>\n",
       "      <td>saasfin</td>\n",
       "      <td>https://www.reddit.com/r/stockstobuytoday/comm...</td>\n",
       "      <td>1</td>\n",
       "      <td>0.0</td>\n",
       "      <td>1.0</td>\n",
       "      <td>Updated Daily by EOD\\n\\n  \\n[Daily Shorts]()</td>\n",
       "      <td>0.1</td>\n",
       "      <td>0.0</td>\n",
       "      <td>0.0</td>\n",
       "      <td>['EOD', 'Daily', 'Shorts', ']', '[']</td>\n",
       "      <td>0.0</td>\n",
       "    </tr>\n",
       "  </tbody>\n",
       "</table>\n",
       "</div>"
      ],
      "text/plain": [
       "     type             datetime  post_id         subreddit  \\\n",
       "70   post  2025-03-29 18:14:28  1jmshlc  stockstobuytoday   \n",
       "349  post  2025-03-22 18:14:30  1jhestv  stockstobuytoday   \n",
       "520  post  2025-03-25 18:14:13  1jjq3m5  stockstobuytoday   \n",
       "\n",
       "                       title   author  \\\n",
       "70   FINRA Daily Shorts Data  saasfin   \n",
       "349  FINRA Daily Shorts Data  saasfin   \n",
       "520  FINRA Daily Shorts Data  saasfin   \n",
       "\n",
       "                                                   url  upvotes  downvotes  \\\n",
       "70   https://www.reddit.com/r/stockstobuytoday/comm...        1        0.0   \n",
       "349  https://www.reddit.com/r/stockstobuytoday/comm...        1        0.0   \n",
       "520  https://www.reddit.com/r/stockstobuytoday/comm...        1        0.0   \n",
       "\n",
       "     upvote_ratio                                          text  subjectivity  \\\n",
       "70            1.0  Updated Daily by EOD\\n\\n  \\n[Daily Shorts]()           0.1   \n",
       "349           1.0  Updated Daily by EOD\\n\\n  \\n[Daily Shorts]()           0.1   \n",
       "520           1.0  Updated Daily by EOD\\n\\n  \\n[Daily Shorts]()           0.1   \n",
       "\n",
       "     polarity  sentiment                              entities  label  \n",
       "70        0.0        0.0  ['EOD', 'Daily', 'Shorts', ']', '[']    0.0  \n",
       "349       0.0        0.0  ['EOD', 'Daily', 'Shorts', ']', '[']    0.0  \n",
       "520       0.0        0.0  ['EOD', 'Daily', 'Shorts', ']', '[']    0.0  "
      ]
     },
     "metadata": {},
     "output_type": "display_data"
    },
    {
     "name": "stdout",
     "output_type": "stream",
     "text": [
      "4\n",
      "how does the futures market look today\n",
      "\n",
      "SPY, Euro, Gold, Crude Oil, Natural Gas, Corn\n",
      "\n",
      " [Futures (stockbuyvest.com)]() \n",
      "\n",
      "\n",
      "\n",
      "\n",
      "\n",
      " The S&P futures price is an indication of market sentiment and investor expectations about the future direction of the stock market. A higher S&P futures price generally indicates optimism in the stock market, suggesting that investors expect the stock market to rise in the future. Conversely, a lower S&P futures price may indicate pessimism and suggest that the stock market may see a decline. However, it is important to note that the S&P futures price is only one of many indicators used to predict the stock market activity, and it's not always accurate as it depends on various factors that can influence the market.\n"
     ]
    },
    {
     "data": {
      "text/html": [
       "<div>\n",
       "<style scoped>\n",
       "    .dataframe tbody tr th:only-of-type {\n",
       "        vertical-align: middle;\n",
       "    }\n",
       "\n",
       "    .dataframe tbody tr th {\n",
       "        vertical-align: top;\n",
       "    }\n",
       "\n",
       "    .dataframe thead th {\n",
       "        text-align: right;\n",
       "    }\n",
       "</style>\n",
       "<table border=\"1\" class=\"dataframe\">\n",
       "  <thead>\n",
       "    <tr style=\"text-align: right;\">\n",
       "      <th></th>\n",
       "      <th>type</th>\n",
       "      <th>datetime</th>\n",
       "      <th>post_id</th>\n",
       "      <th>subreddit</th>\n",
       "      <th>title</th>\n",
       "      <th>author</th>\n",
       "      <th>url</th>\n",
       "      <th>upvotes</th>\n",
       "      <th>downvotes</th>\n",
       "      <th>upvote_ratio</th>\n",
       "      <th>text</th>\n",
       "      <th>subjectivity</th>\n",
       "      <th>polarity</th>\n",
       "      <th>sentiment</th>\n",
       "      <th>entities</th>\n",
       "      <th>label</th>\n",
       "    </tr>\n",
       "  </thead>\n",
       "  <tbody>\n",
       "    <tr>\n",
       "      <th>160</th>\n",
       "      <td>post</td>\n",
       "      <td>2025-04-03 12:18:32</td>\n",
       "      <td>1jqgwyz</td>\n",
       "      <td>stockstobuytoday</td>\n",
       "      <td>Futures Market</td>\n",
       "      <td>saasfin</td>\n",
       "      <td>https://www.reddit.com/r/stockstobuytoday/comm...</td>\n",
       "      <td>1</td>\n",
       "      <td>0.0</td>\n",
       "      <td>1.0</td>\n",
       "      <td>how does the futures market look today\\n\\nSPY,...</td>\n",
       "      <td>0.377083</td>\n",
       "      <td>0.0625</td>\n",
       "      <td>1.0</td>\n",
       "      <td>['Natural', 'stockbuyvest.com', 'Gold', 'marke...</td>\n",
       "      <td>0.0</td>\n",
       "    </tr>\n",
       "    <tr>\n",
       "      <th>352</th>\n",
       "      <td>post</td>\n",
       "      <td>2025-04-08 12:18:30</td>\n",
       "      <td>1juc5fs</td>\n",
       "      <td>stockstobuytoday</td>\n",
       "      <td>Futures Market</td>\n",
       "      <td>saasfin</td>\n",
       "      <td>https://www.reddit.com/r/stockstobuytoday/comm...</td>\n",
       "      <td>1</td>\n",
       "      <td>0.0</td>\n",
       "      <td>1.0</td>\n",
       "      <td>how does the futures market look today\\n\\nSPY,...</td>\n",
       "      <td>0.377083</td>\n",
       "      <td>0.0625</td>\n",
       "      <td>1.0</td>\n",
       "      <td>['Natural', 'stockbuyvest.com', 'Gold', 'marke...</td>\n",
       "      <td>0.0</td>\n",
       "    </tr>\n",
       "    <tr>\n",
       "      <th>473</th>\n",
       "      <td>post</td>\n",
       "      <td>2025-03-28 12:18:29</td>\n",
       "      <td>1jltpwb</td>\n",
       "      <td>stockstobuytoday</td>\n",
       "      <td>Futures Market</td>\n",
       "      <td>saasfin</td>\n",
       "      <td>https://www.reddit.com/r/stockstobuytoday/comm...</td>\n",
       "      <td>1</td>\n",
       "      <td>0.0</td>\n",
       "      <td>1.0</td>\n",
       "      <td>how does the futures market look today\\n\\nSPY,...</td>\n",
       "      <td>0.377083</td>\n",
       "      <td>0.0625</td>\n",
       "      <td>1.0</td>\n",
       "      <td>['Natural', 'stockbuyvest.com', 'Gold', 'marke...</td>\n",
       "      <td>0.0</td>\n",
       "    </tr>\n",
       "  </tbody>\n",
       "</table>\n",
       "</div>"
      ],
      "text/plain": [
       "     type             datetime  post_id         subreddit           title  \\\n",
       "160  post  2025-04-03 12:18:32  1jqgwyz  stockstobuytoday  Futures Market   \n",
       "352  post  2025-04-08 12:18:30  1juc5fs  stockstobuytoday  Futures Market   \n",
       "473  post  2025-03-28 12:18:29  1jltpwb  stockstobuytoday  Futures Market   \n",
       "\n",
       "      author                                                url  upvotes  \\\n",
       "160  saasfin  https://www.reddit.com/r/stockstobuytoday/comm...        1   \n",
       "352  saasfin  https://www.reddit.com/r/stockstobuytoday/comm...        1   \n",
       "473  saasfin  https://www.reddit.com/r/stockstobuytoday/comm...        1   \n",
       "\n",
       "     downvotes  upvote_ratio  \\\n",
       "160        0.0           1.0   \n",
       "352        0.0           1.0   \n",
       "473        0.0           1.0   \n",
       "\n",
       "                                                  text  subjectivity  \\\n",
       "160  how does the futures market look today\\n\\nSPY,...      0.377083   \n",
       "352  how does the futures market look today\\n\\nSPY,...      0.377083   \n",
       "473  how does the futures market look today\\n\\nSPY,...      0.377083   \n",
       "\n",
       "     polarity  sentiment                                           entities  \\\n",
       "160    0.0625        1.0  ['Natural', 'stockbuyvest.com', 'Gold', 'marke...   \n",
       "352    0.0625        1.0  ['Natural', 'stockbuyvest.com', 'Gold', 'marke...   \n",
       "473    0.0625        1.0  ['Natural', 'stockbuyvest.com', 'Gold', 'marke...   \n",
       "\n",
       "     label  \n",
       "160    0.0  \n",
       "352    0.0  \n",
       "473    0.0  "
      ]
     },
     "metadata": {},
     "output_type": "display_data"
    }
   ],
   "source": [
    "print(X[X.duplicated(\"text\", keep=False)].author.value_counts())\n",
    "\n",
    "for t in X[X.duplicated(\"text\")].text.unique()[:3]:\n",
    "    print(len(X[X.text == t]))\n",
    "    print(t)\n",
    "    display(X[X.text == t].head(3))"
   ]
  },
  {
   "cell_type": "markdown",
   "metadata": {},
   "source": [
    "Now for sure, u/saasfin is a bot, posting the same comment over and over again. We can mark them as bot in a new column `is_bot`."
   ]
  },
  {
   "cell_type": "code",
   "execution_count": 26,
   "metadata": {},
   "outputs": [
    {
     "name": "stdout",
     "output_type": "stream",
     "text": [
      "2\n"
     ]
    },
    {
     "data": {
      "text/html": [
       "<div>\n",
       "<style scoped>\n",
       "    .dataframe tbody tr th:only-of-type {\n",
       "        vertical-align: middle;\n",
       "    }\n",
       "\n",
       "    .dataframe tbody tr th {\n",
       "        vertical-align: top;\n",
       "    }\n",
       "\n",
       "    .dataframe thead th {\n",
       "        text-align: right;\n",
       "    }\n",
       "</style>\n",
       "<table border=\"1\" class=\"dataframe\">\n",
       "  <thead>\n",
       "    <tr style=\"text-align: right;\">\n",
       "      <th></th>\n",
       "      <th>type</th>\n",
       "      <th>datetime</th>\n",
       "      <th>post_id</th>\n",
       "      <th>subreddit</th>\n",
       "      <th>title</th>\n",
       "      <th>author</th>\n",
       "      <th>url</th>\n",
       "      <th>upvotes</th>\n",
       "      <th>downvotes</th>\n",
       "      <th>upvote_ratio</th>\n",
       "      <th>text</th>\n",
       "      <th>subjectivity</th>\n",
       "      <th>polarity</th>\n",
       "      <th>sentiment</th>\n",
       "      <th>entities</th>\n",
       "      <th>label</th>\n",
       "      <th>is_bot</th>\n",
       "    </tr>\n",
       "  </thead>\n",
       "  <tbody>\n",
       "    <tr>\n",
       "      <th>34</th>\n",
       "      <td>comment</td>\n",
       "      <td>2021-02-01 13:45:52</td>\n",
       "      <td>gllif2v</td>\n",
       "      <td>stocks</td>\n",
       "      <td>It's fucking awful seeing the \"Silver\" misinfo...</td>\n",
       "      <td>SmithRune735</td>\n",
       "      <td>https://www.reddit.com/r/stocks/comments/la34b...</td>\n",
       "      <td>1</td>\n",
       "      <td>NaN</td>\n",
       "      <td>NaN</td>\n",
       "      <td>So they went from saying redditors are bad for...</td>\n",
       "      <td>0.666667</td>\n",
       "      <td>-0.7</td>\n",
       "      <td>-1.0</td>\n",
       "      <td>['market', 'silver']</td>\n",
       "      <td>1.0</td>\n",
       "      <td>False</td>\n",
       "    </tr>\n",
       "    <tr>\n",
       "      <th>42</th>\n",
       "      <td>comment</td>\n",
       "      <td>2021-02-01 13:45:17</td>\n",
       "      <td>gllicpw</td>\n",
       "      <td>stocks</td>\n",
       "      <td>It's fucking awful seeing the \"Silver\" misinfo...</td>\n",
       "      <td>SmithRune735</td>\n",
       "      <td>https://www.reddit.com/r/stocks/comments/la34b...</td>\n",
       "      <td>3943</td>\n",
       "      <td>NaN</td>\n",
       "      <td>NaN</td>\n",
       "      <td>So they went from saying redditors are bad for...</td>\n",
       "      <td>0.666667</td>\n",
       "      <td>-0.7</td>\n",
       "      <td>-1.0</td>\n",
       "      <td>['market', 'silver']</td>\n",
       "      <td>1.0</td>\n",
       "      <td>False</td>\n",
       "    </tr>\n",
       "  </tbody>\n",
       "</table>\n",
       "</div>"
      ],
      "text/plain": [
       "       type             datetime  post_id subreddit  \\\n",
       "34  comment  2021-02-01 13:45:52  gllif2v    stocks   \n",
       "42  comment  2021-02-01 13:45:17  gllicpw    stocks   \n",
       "\n",
       "                                                title        author  \\\n",
       "34  It's fucking awful seeing the \"Silver\" misinfo...  SmithRune735   \n",
       "42  It's fucking awful seeing the \"Silver\" misinfo...  SmithRune735   \n",
       "\n",
       "                                                  url  upvotes  downvotes  \\\n",
       "34  https://www.reddit.com/r/stocks/comments/la34b...        1        NaN   \n",
       "42  https://www.reddit.com/r/stocks/comments/la34b...     3943        NaN   \n",
       "\n",
       "    upvote_ratio                                               text  \\\n",
       "34           NaN  So they went from saying redditors are bad for...   \n",
       "42           NaN  So they went from saying redditors are bad for...   \n",
       "\n",
       "    subjectivity  polarity  sentiment              entities  label  is_bot  \n",
       "34      0.666667      -0.7       -1.0  ['market', 'silver']    1.0   False  \n",
       "42      0.666667      -0.7       -1.0  ['market', 'silver']    1.0   False  "
      ]
     },
     "metadata": {},
     "output_type": "display_data"
    }
   ],
   "source": [
    "X['is_bot'] = (X.author.str == 'saasfin') | (X.author.str == 'AutoModerator')\n",
    "\n",
    "first_dupe_text = X[X.duplicated(\"text\")].text.unique()[0]\n",
    "print(len(X[X.text == first_dupe_text]))\n",
    "display(X[X.text == first_dupe_text])"
   ]
  },
  {
   "cell_type": "markdown",
   "metadata": {},
   "source": [
    "For u/SmithRune735, it seems they simply posted the same comment twice, accidentally. Let's remove the one that has less upvotes."
   ]
  },
  {
   "cell_type": "code",
   "execution_count": 27,
   "metadata": {},
   "outputs": [
    {
     "name": "stdout",
     "output_type": "stream",
     "text": [
      "2\n"
     ]
    },
    {
     "data": {
      "text/plain": [
       "type                                                      comment\n",
       "datetime                                      2021-02-01 13:45:52\n",
       "post_id                                                   gllif2v\n",
       "subreddit                                                  stocks\n",
       "title           It's fucking awful seeing the \"Silver\" misinfo...\n",
       "author                                               SmithRune735\n",
       "url             https://www.reddit.com/r/stocks/comments/la34b...\n",
       "upvotes                                                         1\n",
       "downvotes                                                     NaN\n",
       "upvote_ratio                                                  NaN\n",
       "text            So they went from saying redditors are bad for...\n",
       "subjectivity                                             0.666667\n",
       "polarity                                                     -0.7\n",
       "sentiment                                                    -1.0\n",
       "entities                                     ['market', 'silver']\n",
       "label                                                         1.0\n",
       "is_bot                                                      False\n",
       "Name: 34, dtype: object"
      ]
     },
     "metadata": {},
     "output_type": "display_data"
    }
   ],
   "source": [
    "print(sum(X.author == 'SmithRune735')) # no other posts/comments by this user\n",
    "\n",
    "if sum(X.author == 'SmithRune735') != 2:\n",
    "    pass # don't perform the removal multiple times\n",
    "else:\n",
    "    the_comment_with_less_uv = X[(X.author == 'SmithRune735')].sort_values('upvotes').iloc[0]\n",
    "    display(the_comment_with_less_uv)\n",
    "    # remove this comment\n",
    "    X = X.drop(the_comment_with_less_uv.name)"
   ]
  },
  {
   "cell_type": "markdown",
   "metadata": {},
   "source": [
    "## 5. Data Preprocessing"
   ]
  },
  {
   "cell_type": "markdown",
   "metadata": {},
   "source": [
    "### 5.1 Sampling"
   ]
  },
  {
   "cell_type": "code",
   "execution_count": 28,
   "metadata": {},
   "outputs": [],
   "source": [
    "SAMPLE_FRAC = 0.7\n",
    "\n",
    "X_sample = X.sample(frac=SAMPLE_FRAC, random_state=42)"
   ]
  },
  {
   "cell_type": "markdown",
   "metadata": {},
   "source": [
    "##### >>> **Exercise 6**\n",
    "\n",
    "Notice any changes from the `X` dataframe to the `X_sample` dataframe? What are they? Report every change you noticed as compared to the previous state of `X`. Feel free to query and look more closely at the dataframe for these changes."
   ]
  },
  {
   "cell_type": "code",
   "execution_count": 29,
   "metadata": {},
   "outputs": [
    {
     "data": {
      "text/html": [
       "<div>\n",
       "<style scoped>\n",
       "    .dataframe tbody tr th:only-of-type {\n",
       "        vertical-align: middle;\n",
       "    }\n",
       "\n",
       "    .dataframe tbody tr th {\n",
       "        vertical-align: top;\n",
       "    }\n",
       "\n",
       "    .dataframe thead th {\n",
       "        text-align: right;\n",
       "    }\n",
       "</style>\n",
       "<table border=\"1\" class=\"dataframe\">\n",
       "  <thead>\n",
       "    <tr style=\"text-align: right;\">\n",
       "      <th></th>\n",
       "      <th>type</th>\n",
       "      <th>datetime</th>\n",
       "      <th>post_id</th>\n",
       "      <th>subreddit</th>\n",
       "      <th>title</th>\n",
       "      <th>author</th>\n",
       "      <th>url</th>\n",
       "      <th>upvotes</th>\n",
       "      <th>downvotes</th>\n",
       "      <th>upvote_ratio</th>\n",
       "      <th>text</th>\n",
       "      <th>subjectivity</th>\n",
       "      <th>polarity</th>\n",
       "      <th>sentiment</th>\n",
       "      <th>entities</th>\n",
       "      <th>label</th>\n",
       "      <th>is_bot</th>\n",
       "    </tr>\n",
       "  </thead>\n",
       "  <tbody>\n",
       "    <tr>\n",
       "      <th>40</th>\n",
       "      <td>comment</td>\n",
       "      <td>2025-04-11 22:00:36</td>\n",
       "      <td>mmmyq7m</td>\n",
       "      <td>wallstreetbets</td>\n",
       "      <td>Weekend Discussion Thread for the Weekend of A...</td>\n",
       "      <td>InstructionNo4546</td>\n",
       "      <td>https://www.reddit.com/r/wallstreetbets/commen...</td>\n",
       "      <td>10</td>\n",
       "      <td>NaN</td>\n",
       "      <td>NaN</td>\n",
       "      <td>These China AI factory memes are pretty good. ...</td>\n",
       "      <td>0.800000</td>\n",
       "      <td>0.475000</td>\n",
       "      <td>1.0</td>\n",
       "      <td>['factory', 'time', 'AI', 'China AI', 'China',...</td>\n",
       "      <td>0.0</td>\n",
       "      <td>False</td>\n",
       "    </tr>\n",
       "    <tr>\n",
       "      <th>251</th>\n",
       "      <td>comment</td>\n",
       "      <td>2025-04-11 14:15:01</td>\n",
       "      <td>mmkekdy</td>\n",
       "      <td>StockMarket</td>\n",
       "      <td>Trump: We Are Doing Really Well On Our Tariff ...</td>\n",
       "      <td>Empty-Presentation68</td>\n",
       "      <td>https://i.redd.it/uajqu4kxl7ue1.png</td>\n",
       "      <td>1</td>\n",
       "      <td>NaN</td>\n",
       "      <td>NaN</td>\n",
       "      <td>What market manipulation will he do today?</td>\n",
       "      <td>0.000000</td>\n",
       "      <td>0.000000</td>\n",
       "      <td>0.0</td>\n",
       "      <td>['market', 'today', 'manipulation']</td>\n",
       "      <td>-1.0</td>\n",
       "      <td>False</td>\n",
       "    </tr>\n",
       "    <tr>\n",
       "      <th>315</th>\n",
       "      <td>comment</td>\n",
       "      <td>2025-04-11 15:14:13</td>\n",
       "      <td>mmkqgyv</td>\n",
       "      <td>stocks</td>\n",
       "      <td>BlackRock’s Larry Fink says U.S. is very close...</td>\n",
       "      <td>dima74</td>\n",
       "      <td>https://www.reddit.com/r/stocks/comments/1jwr1...</td>\n",
       "      <td>7</td>\n",
       "      <td>NaN</td>\n",
       "      <td>NaN</td>\n",
       "      <td>At this moment I would trust them more than th...</td>\n",
       "      <td>0.000000</td>\n",
       "      <td>0.000000</td>\n",
       "      <td>0.0</td>\n",
       "      <td>['president', 'moment']</td>\n",
       "      <td>-1.0</td>\n",
       "      <td>False</td>\n",
       "    </tr>\n",
       "    <tr>\n",
       "      <th>97</th>\n",
       "      <td>comment</td>\n",
       "      <td>2025-04-11 15:42:00</td>\n",
       "      <td>mmkw65a</td>\n",
       "      <td>StockMarket</td>\n",
       "      <td>Trump is surrounded by a bunch of idiots, he s...</td>\n",
       "      <td>drama-guy</td>\n",
       "      <td>https://i.redd.it/c2mmpy3qf7ue1.png</td>\n",
       "      <td>1</td>\n",
       "      <td>NaN</td>\n",
       "      <td>NaN</td>\n",
       "      <td>Trump surrounded himself with people telling h...</td>\n",
       "      <td>0.566667</td>\n",
       "      <td>-0.566667</td>\n",
       "      <td>-1.0</td>\n",
       "      <td>['one', 'filtering', 'center', 'idiot', 'Trump...</td>\n",
       "      <td>-1.0</td>\n",
       "      <td>False</td>\n",
       "    </tr>\n",
       "    <tr>\n",
       "      <th>199</th>\n",
       "      <td>comment</td>\n",
       "      <td>2025-04-12 1:32:26</td>\n",
       "      <td>mmnxclo</td>\n",
       "      <td>wallstreetbets</td>\n",
       "      <td>Retail giant TARGET has now declined for 10 co...</td>\n",
       "      <td>Objective_Pause5988</td>\n",
       "      <td>https://i.redd.it/7tl6puv9waue1.jpeg</td>\n",
       "      <td>5</td>\n",
       "      <td>NaN</td>\n",
       "      <td>NaN</td>\n",
       "      <td>I forgot they existed.</td>\n",
       "      <td>0.000000</td>\n",
       "      <td>0.000000</td>\n",
       "      <td>0.0</td>\n",
       "      <td>[]</td>\n",
       "      <td>0.0</td>\n",
       "      <td>False</td>\n",
       "    </tr>\n",
       "  </tbody>\n",
       "</table>\n",
       "</div>"
      ],
      "text/plain": [
       "        type             datetime  post_id       subreddit  \\\n",
       "40   comment  2025-04-11 22:00:36  mmmyq7m  wallstreetbets   \n",
       "251  comment  2025-04-11 14:15:01  mmkekdy     StockMarket   \n",
       "315  comment  2025-04-11 15:14:13  mmkqgyv          stocks   \n",
       "97   comment  2025-04-11 15:42:00  mmkw65a     StockMarket   \n",
       "199  comment   2025-04-12 1:32:26  mmnxclo  wallstreetbets   \n",
       "\n",
       "                                                 title                author  \\\n",
       "40   Weekend Discussion Thread for the Weekend of A...     InstructionNo4546   \n",
       "251  Trump: We Are Doing Really Well On Our Tariff ...  Empty-Presentation68   \n",
       "315  BlackRock’s Larry Fink says U.S. is very close...                dima74   \n",
       "97   Trump is surrounded by a bunch of idiots, he s...             drama-guy   \n",
       "199  Retail giant TARGET has now declined for 10 co...   Objective_Pause5988   \n",
       "\n",
       "                                                   url  upvotes  downvotes  \\\n",
       "40   https://www.reddit.com/r/wallstreetbets/commen...       10        NaN   \n",
       "251                https://i.redd.it/uajqu4kxl7ue1.png        1        NaN   \n",
       "315  https://www.reddit.com/r/stocks/comments/1jwr1...        7        NaN   \n",
       "97                 https://i.redd.it/c2mmpy3qf7ue1.png        1        NaN   \n",
       "199               https://i.redd.it/7tl6puv9waue1.jpeg        5        NaN   \n",
       "\n",
       "     upvote_ratio                                               text  \\\n",
       "40            NaN  These China AI factory memes are pretty good. ...   \n",
       "251           NaN         What market manipulation will he do today?   \n",
       "315           NaN  At this moment I would trust them more than th...   \n",
       "97            NaN  Trump surrounded himself with people telling h...   \n",
       "199           NaN                             I forgot they existed.   \n",
       "\n",
       "     subjectivity  polarity  sentiment  \\\n",
       "40       0.800000  0.475000        1.0   \n",
       "251      0.000000  0.000000        0.0   \n",
       "315      0.000000  0.000000        0.0   \n",
       "97       0.566667 -0.566667       -1.0   \n",
       "199      0.000000  0.000000        0.0   \n",
       "\n",
       "                                              entities  label  is_bot  \n",
       "40   ['factory', 'time', 'AI', 'China AI', 'China',...    0.0   False  \n",
       "251                ['market', 'today', 'manipulation']   -1.0   False  \n",
       "315                            ['president', 'moment']   -1.0   False  \n",
       "97   ['one', 'filtering', 'center', 'idiot', 'Trump...   -1.0   False  \n",
       "199                                                 []    0.0   False  "
      ]
     },
     "execution_count": 29,
     "metadata": {},
     "output_type": "execute_result"
    }
   ],
   "source": [
    "X_sample.head()"
   ]
  },
  {
   "cell_type": "code",
   "execution_count": 30,
   "metadata": {},
   "outputs": [
    {
     "data": {
      "text/html": [
       "<div>\n",
       "<style scoped>\n",
       "    .dataframe tbody tr th:only-of-type {\n",
       "        vertical-align: middle;\n",
       "    }\n",
       "\n",
       "    .dataframe tbody tr th {\n",
       "        vertical-align: top;\n",
       "    }\n",
       "\n",
       "    .dataframe thead th {\n",
       "        text-align: right;\n",
       "    }\n",
       "</style>\n",
       "<table border=\"1\" class=\"dataframe\">\n",
       "  <thead>\n",
       "    <tr style=\"text-align: right;\">\n",
       "      <th></th>\n",
       "      <th>X</th>\n",
       "      <th>X_sample</th>\n",
       "      <th>X_ratio</th>\n",
       "      <th>X_sample_ratio</th>\n",
       "    </tr>\n",
       "    <tr>\n",
       "      <th>subreddit</th>\n",
       "      <th></th>\n",
       "      <th></th>\n",
       "      <th></th>\n",
       "      <th></th>\n",
       "    </tr>\n",
       "  </thead>\n",
       "  <tbody>\n",
       "    <tr>\n",
       "      <th>stocks</th>\n",
       "      <td>273</td>\n",
       "      <td>187</td>\n",
       "      <td>0.322695</td>\n",
       "      <td>0.315878</td>\n",
       "    </tr>\n",
       "    <tr>\n",
       "      <th>StockMarket</th>\n",
       "      <td>250</td>\n",
       "      <td>177</td>\n",
       "      <td>0.295508</td>\n",
       "      <td>0.298986</td>\n",
       "    </tr>\n",
       "    <tr>\n",
       "      <th>stockstobuytoday</th>\n",
       "      <td>174</td>\n",
       "      <td>125</td>\n",
       "      <td>0.205674</td>\n",
       "      <td>0.211149</td>\n",
       "    </tr>\n",
       "    <tr>\n",
       "      <th>wallstreetbets</th>\n",
       "      <td>149</td>\n",
       "      <td>103</td>\n",
       "      <td>0.176123</td>\n",
       "      <td>0.173986</td>\n",
       "    </tr>\n",
       "  </tbody>\n",
       "</table>\n",
       "</div>"
      ],
      "text/plain": [
       "                    X  X_sample   X_ratio  X_sample_ratio\n",
       "subreddit                                                \n",
       "stocks            273       187  0.322695        0.315878\n",
       "StockMarket       250       177  0.295508        0.298986\n",
       "stockstobuytoday  174       125  0.205674        0.211149\n",
       "wallstreetbets    149       103  0.176123        0.173986"
      ]
     },
     "execution_count": 30,
     "metadata": {},
     "output_type": "execute_result"
    }
   ],
   "source": [
    "val_count = pd.DataFrame({'X': X.subreddit.value_counts(), 'X_sample': X_sample.subreddit.value_counts()})\n",
    "val_count['X_ratio'] = val_count['X'] / sum(val_count['X'])\n",
    "val_count['X_sample_ratio'] = val_count['X_sample'] / sum(val_count['X_sample'])\n",
    "val_count"
   ]
  },
  {
   "cell_type": "markdown",
   "metadata": {},
   "source": [
    "- The order of data rows is randomized in `X_sample`.\n",
    "- The distribution of categories in `X_sample` is similar to that in `X`, but not identical due to the random sampling process.\n",
    "- However, there is no duplication of rows in `X_sample`."
   ]
  },
  {
   "cell_type": "markdown",
   "metadata": {},
   "source": [
    "Now let's see the distribution of the attributes `subjectivity`, `polarity`, and `label` in both `X` and `X_sample`."
   ]
  },
  {
   "cell_type": "markdown",
   "metadata": {},
   "source": [
    "##### >>> **Exercise 7**\n",
    "\n",
    "Notice that for the `ylim` parameters we hardcoded the maximum value for y. Is it possible to automate this instead of hard-coding it? How would you go about doing that? (Hint: look at code above for clues)\n",
    "\n",
    "#### >>> **Exercise 8** \n",
    "We can also do a side-by-side comparison of the distribution between the two datasets, but maybe you can try that as an excerise. Below we show you an snapshot of the type of chart we are looking for. "
   ]
  },
  {
   "cell_type": "code",
   "execution_count": 31,
   "metadata": {},
   "outputs": [
    {
     "data": {
      "text/plain": [
       "Text(0, 0.5, '# of Records')"
      ]
     },
     "execution_count": 31,
     "metadata": {},
     "output_type": "execute_result"
    },
    {
     "data": {
      "image/png": "[encoded data removed]",
      "text/plain": [
       "<Figure size 640x480 with 1 Axes>"
      ]
     },
     "metadata": {},
     "output_type": "display_data"
    }
   ],
   "source": [
    "X.subjectivity.hist(bins=20, range=(-0.0, 1.0), alpha=0.5, density=False, label='X')\n",
    "X_sample.subjectivity.hist(bins=20, range=(-0.0, 1.0), alpha=0.5, density=False, label='X_sample')\n",
    "plt.legend()\n",
    "plt.title('Subjectivity Distribution')\n",
    "plt.xlabel('Subjectivity')\n",
    "plt.ylabel('# of Records')"
   ]
  },
  {
   "cell_type": "code",
   "execution_count": 32,
   "metadata": {},
   "outputs": [
    {
     "data": {
      "text/plain": [
       "Text(0, 0.5, '# of Records')"
      ]
     },
     "execution_count": 32,
     "metadata": {},
     "output_type": "execute_result"
    },
    {
     "data": {
      "image/png": "[encoded data removed]",
      "text/plain": [
       "<Figure size 640x480 with 1 Axes>"
      ]
     },
     "metadata": {},
     "output_type": "display_data"
    }
   ],
   "source": [
    "X.polarity.hist(bins=20, range=(-1.0, 1.0), alpha=0.5, density=False, label='X')\n",
    "X_sample.polarity.hist(bins=20, range=(-1.0, 1.0), alpha=0.5, density=False, label='X_sample')\n",
    "plt.legend()\n",
    "plt.title('Polarity Distribution')\n",
    "plt.xlabel('Polarity')\n",
    "plt.ylabel('# of Records')"
   ]
  },
  {
   "cell_type": "code",
   "execution_count": 33,
   "metadata": {},
   "outputs": [
    {
     "data": {
      "text/plain": [
       "Text(0, 0.5, '# of Records')"
      ]
     },
     "execution_count": 33,
     "metadata": {},
     "output_type": "execute_result"
    },
    {
     "data": {
      "image/png": "[encoded data removed]",
      "text/plain": [
       "<Figure size 640x480 with 1 Axes>"
      ]
     },
     "metadata": {},
     "output_type": "display_data"
    }
   ],
   "source": [
    "plot_df = pd.DataFrame({'X': X.label.value_counts(), 'X_sample': X_sample.label.value_counts()})\n",
    "plot_df.plot(kind='bar', alpha=0.5, rot=0)\n",
    "plt.legend()\n",
    "plt.title('Label Distribution')\n",
    "plt.xlabel('Label')\n",
    "plt.ylabel('# of Records')"
   ]
  },
  {
   "cell_type": "markdown",
   "metadata": {},
   "source": [
    "### 5.2 Feature Creation"
   ]
  },
  {
   "cell_type": "markdown",
   "metadata": {},
   "source": [
    "#### 5.2.1 Attribute Creation"
   ]
  },
  {
   "cell_type": "markdown",
   "metadata": {},
   "source": [
    "#### 5.2.2 CountVectorizer"
   ]
  },
  {
   "cell_type": "code",
   "execution_count": 34,
   "metadata": {},
   "outputs": [],
   "source": [
    "from sklearn.feature_extraction.text import CountVectorizer\n",
    "\n",
    "count_vect = CountVectorizer()\n",
    "X_counts = count_vect.fit_transform(X.text)"
   ]
  },
  {
   "cell_type": "markdown",
   "metadata": {},
   "source": [
    "##### >>> **Exercise 9**\n",
    "Let's analyze the first record of our X dataframe with the new analyzer we have just built. Go ahead try it!"
   ]
  },
  {
   "cell_type": "code",
   "execution_count": 35,
   "metadata": {},
   "outputs": [
    {
     "data": {
      "text/plain": [
       "['to',\n",
       " 'be',\n",
       " 'fair',\n",
       " 'chinese',\n",
       " 'exports',\n",
       " 'to',\n",
       " 'the',\n",
       " 'us',\n",
       " 'make',\n",
       " 'up',\n",
       " 'much',\n",
       " 'larger',\n",
       " 'portion',\n",
       " 'of',\n",
       " 'china',\n",
       " 'gdp',\n",
       " 'than',\n",
       " 'the',\n",
       " 'other',\n",
       " 'way',\n",
       " 'around',\n",
       " 'china',\n",
       " 'kinda',\n",
       " 'does',\n",
       " 'rely',\n",
       " 'on',\n",
       " 'the',\n",
       " 'us',\n",
       " 'consumer',\n",
       " 'to',\n",
       " 'degree']"
      ]
     },
     "execution_count": 35,
     "metadata": {},
     "output_type": "execute_result"
    }
   ],
   "source": [
    "analyze = count_vect.build_analyzer()\n",
    "analyze(X.loc[56, 'text'])"
   ]
  },
  {
   "cell_type": "code",
   "execution_count": 36,
   "metadata": {},
   "outputs": [
    {
     "data": {
      "text/html": [
       "<div style=\"line-height: 1.5;\"><span style=\"border: 2px solid #5a43feaa; background-color: #5a43fe22; font-size: 1.2em; margin: 0 2px; padding: 0 4px; border-radius: 4px;\">to</span> <span style=\"border: 2px solid #6b1183aa; background-color: #6b118322; font-size: 1.2em; margin: 0 2px; padding: 0 4px; border-radius: 4px;\">be</span> <span style=\"border: 2px solid #adb121aa; background-color: #adb12122; font-size: 1.2em; margin: 0 2px; padding: 0 4px; border-radius: 4px;\">fair</span>, <span style=\"border: 2px solid #4b679faa; background-color: #4b679f22; font-size: 1.2em; margin: 0 2px; padding: 0 4px; border-radius: 4px;\">chinese</span> <span style=\"border: 2px solid #955239aa; background-color: #95523922; font-size: 1.2em; margin: 0 2px; padding: 0 4px; border-radius: 4px;\">exports</span> <span style=\"border: 2px solid #5a43feaa; background-color: #5a43fe22; font-size: 1.2em; margin: 0 2px; padding: 0 4px; border-radius: 4px;\">to</span> <span style=\"border: 2px solid #be1775aa; background-color: #be177522; font-size: 1.2em; margin: 0 2px; padding: 0 4px; border-radius: 4px;\">the</span> <span style=\"border: 2px solid #8e9ee3aa; background-color: #8e9ee322; font-size: 1.2em; margin: 0 2px; padding: 0 4px; border-radius: 4px;\">us</span> <span style=\"border: 2px solid #efd024aa; background-color: #efd02422; font-size: 1.2em; margin: 0 2px; padding: 0 4px; border-radius: 4px;\">make</span> <span style=\"border: 2px solid #786986aa; background-color: #78698622; font-size: 1.2em; margin: 0 2px; padding: 0 4px; border-radius: 4px;\">up</span> a <span style=\"border: 2px solid #c8c466aa; background-color: #c8c46622; font-size: 1.2em; margin: 0 2px; padding: 0 4px; border-radius: 4px;\">much</span> <span style=\"border: 2px solid #f36b77aa; background-color: #f36b7722; font-size: 1.2em; margin: 0 2px; padding: 0 4px; border-radius: 4px;\">larger</span> <span style=\"border: 2px solid #e06acfaa; background-color: #e06acf22; font-size: 1.2em; margin: 0 2px; padding: 0 4px; border-radius: 4px;\">portion</span> <span style=\"border: 2px solid #6280fdaa; background-color: #6280fd22; font-size: 1.2em; margin: 0 2px; padding: 0 4px; border-radius: 4px;\">of</span> <span style=\"border: 2px solid #e431a8aa; background-color: #e431a822; font-size: 1.2em; margin: 0 2px; padding: 0 4px; border-radius: 4px;\">china</span>’s <span style=\"border: 2px solid #927ca2aa; background-color: #927ca222; font-size: 1.2em; margin: 0 2px; padding: 0 4px; border-radius: 4px;\">gdp</span> <span style=\"border: 2px solid #9a308daa; background-color: #9a308d22; font-size: 1.2em; margin: 0 2px; padding: 0 4px; border-radius: 4px;\">than</span> <span style=\"border: 2px solid #be1775aa; background-color: #be177522; font-size: 1.2em; margin: 0 2px; padding: 0 4px; border-radius: 4px;\">the</span> <span style=\"border: 2px solid #aae381aa; background-color: #aae38122; font-size: 1.2em; margin: 0 2px; padding: 0 4px; border-radius: 4px;\">other</span> <span style=\"border: 2px solid #c32a2caa; background-color: #c32a2c22; font-size: 1.2em; margin: 0 2px; padding: 0 4px; border-radius: 4px;\">way</span> <span style=\"border: 2px solid #992576aa; background-color: #99257622; font-size: 1.2em; margin: 0 2px; padding: 0 4px; border-radius: 4px;\">around</span>. <span style=\"border: 2px solid #e431a8aa; background-color: #e431a822; font-size: 1.2em; margin: 0 2px; padding: 0 4px; border-radius: 4px;\">china</span> <span style=\"border: 2px solid #67342daa; background-color: #67342d22; font-size: 1.2em; margin: 0 2px; padding: 0 4px; border-radius: 4px;\">kinda</span> <span style=\"border: 2px solid #bc4f84aa; background-color: #bc4f8422; font-size: 1.2em; margin: 0 2px; padding: 0 4px; border-radius: 4px;\">does</span> <span style=\"border: 2px solid #587a8caa; background-color: #587a8c22; font-size: 1.2em; margin: 0 2px; padding: 0 4px; border-radius: 4px;\">rely</span> <span style=\"border: 2px solid #ea7ab3aa; background-color: #ea7ab322; font-size: 1.2em; margin: 0 2px; padding: 0 4px; border-radius: 4px;\">on</span> <span style=\"border: 2px solid #be1775aa; background-color: #be177522; font-size: 1.2em; margin: 0 2px; padding: 0 4px; border-radius: 4px;\">the</span> <span style=\"border: 2px solid #8e9ee3aa; background-color: #8e9ee322; font-size: 1.2em; margin: 0 2px; padding: 0 4px; border-radius: 4px;\">us</span> <span style=\"border: 2px solid #86c2c6aa; background-color: #86c2c622; font-size: 1.2em; margin: 0 2px; padding: 0 4px; border-radius: 4px;\">consumer</span> <span style=\"border: 2px solid #5a43feaa; background-color: #5a43fe22; font-size: 1.2em; margin: 0 2px; padding: 0 4px; border-radius: 4px;\">to</span> a <span style=\"border: 2px solid #6254a1aa; background-color: #6254a122; font-size: 1.2em; margin: 0 2px; padding: 0 4px; border-radius: 4px;\">degree</span>.</div>"
      ],
      "text/plain": [
       "<IPython.core.display.HTML object>"
      ]
     },
     "metadata": {},
     "output_type": "display_data"
    }
   ],
   "source": [
    "from IPython.display import HTML\n",
    "import random\n",
    "import re\n",
    "\n",
    "# Get the original text\n",
    "original_text = X.text[56]\n",
    "\n",
    "# Extract tokens from original_text\n",
    "tokens = analyze(original_text)\n",
    "\n",
    "# Create a dictionary to assign consistent random colors to tokens\n",
    "color_map = {}\n",
    "for token in set(tokens):\n",
    "    color_map[token] = f\"#{random.randint(0x444444, 0xFFFFFF):06x}\"\n",
    "\n",
    "\n",
    "# Highlight occurrences of tokens in the original text\n",
    "highlighted_text = original_text\n",
    "highlighted_text = highlighted_text.replace('\\n', '<br/>')\n",
    "for token, color in color_map.items():\n",
    "    # Use word boundaries and case-insensitive matching\n",
    "    pattern = r'\\b' + re.escape(token) + r'\\b'\n",
    "    highlighted_text = re.sub(pattern,\n",
    "                              f'<span style=\"border: 2px solid {color}aa; background-color: {color}22; font-size: 1.2em; margin: 0 2px; padding: 0 4px; border-radius: 4px;\">{token}</span>', highlighted_text, flags=re.IGNORECASE)\n",
    "\n",
    "# Display the highlighted text\n",
    "display(HTML(f'<div style=\"line-height: 1.5;\">{highlighted_text}</div>'))"
   ]
  },
  {
   "cell_type": "markdown",
   "metadata": {},
   "source": [
    "##### >>> **Exercise 10**\n",
    "\n",
    "~~We said that the `1` at the beginning of the fifth record represents the `00` term. Notice that there is another 1 in the same record. Can you provide code that can verify what word this 1 represents from the vocabulary. Try to do this as efficient as possible.~~\n",
    "\n",
    "We'll take a look at part of the vocabulary."
   ]
  },
  {
   "cell_type": "code",
   "execution_count": 37,
   "metadata": {},
   "outputs": [
    {
     "name": "stdout",
     "output_type": "stream",
     "text": [
      "4336 yours\n",
      "180 abusing\n",
      "2879 places\n",
      "4295 worse\n",
      "1160 devalue\n",
      "936 constructive\n",
      "3090 rang\n",
      "3849 their\n",
      "2371 loudmouth\n",
      "1108 deficiency\n"
     ]
    }
   ],
   "source": [
    "for i in np.random.randint(0, count_vect.vocabulary_.__len__(), size=10):\n",
    "    print(i, count_vect.get_feature_names_out()[i])"
   ]
  },
  {
   "cell_type": "markdown",
   "metadata": {},
   "source": [
    "##### >>> **Exercise 11**\n",
    "\n",
    "From the chart above, we can see how sparse the term-document matrix is; i.e., there is only one terms with **FREQUENCY** of `1` in the subselection of the matrix. By the way, you may have noticed that we only selected 20 articles and 20 terms to plot the histrogram. As an excersise you can try to modify the code above to plot the entire term-document matrix or just a sample of it. How would you do this efficiently? Remember there is a lot of words in the vocab. Report below what methods you would use to get a nice and useful visualization"
   ]
  },
  {
   "cell_type": "markdown",
   "metadata": {},
   "source": [
    "Here is an adjustable visualization script, and transposed to better see the distribution of terms across documents. We'll rank the terms by their entropy."
   ]
  },
  {
   "cell_type": "code",
   "execution_count": 38,
   "metadata": {},
   "outputs": [],
   "source": [
    "import numpy as np\n",
    "\n",
    "# Calculate entropy for each term\n",
    "feature_names = count_vect.get_feature_names_out()\n",
    "# word_in_doc = X_counts > 0  # Boolean matrix indicating presence of word in document\n",
    "# word_presence_count = word_in_doc.sum(axis=0).A1  # Count of documents containing each word\n",
    "word_presence_count = X_counts.sum(axis=0).A1  # Count of occurrences of each word across all documents\n",
    "proba_word = word_presence_count / X_counts.shape[0]  # Probability of each word appearing in a document\n",
    "word_entropy = -proba_word * np.log2(proba_word + 1e-10)  # Entropy for each word\n",
    "\n",
    "# # # Create a DataFrame with terms and their entropies\n",
    "entropy_df = pd.DataFrame({'term': feature_names, 'entropy': word_entropy})\n",
    "\n",
    "# # # Sort by entropy descending and select top 20\n",
    "top_entropy_df = entropy_df.sort_values(by='entropy', ascending=False)"
   ]
  },
  {
   "cell_type": "code",
   "execution_count": 39,
   "metadata": {},
   "outputs": [
    {
     "name": "stderr",
     "output_type": "stream",
     "text": [
      "/var/folders/0q/flxsxh8d3tjd_98_rzzg1_rw0000gn/T/ipykernel_33138/340582163.py:7: FutureWarning: \n",
      "\n",
      "Passing `palette` without assigning `hue` is deprecated and will be removed in v0.14.0. Assign the `x` variable to `hue` and set `legend=False` for the same effect.\n",
      "\n",
      "  sns.barplot(data=top_entropy_df.head(TOP_N_WORDS), x='term', y='entropy', palette='viridis')\n"
     ]
    },
    {
     "data": {
      "image/png": "[encoded data removed]",
      "text/plain": [
       "<Figure size 1000x600 with 1 Axes>"
      ]
     },
     "metadata": {},
     "output_type": "display_data"
    }
   ],
   "source": [
    "import seaborn as sns\n",
    "\n",
    "TOP_N_WORDS = 50\n",
    "\n",
    "# Visualize the top terms by entropy\n",
    "plt.figure(figsize=(10, 6))\n",
    "sns.barplot(data=top_entropy_df.head(TOP_N_WORDS), x='term', y='entropy', palette='viridis')\n",
    "plt.xticks(rotation=45)\n",
    "plt.title(f'Top {TOP_N_WORDS} Terms by Informational Entropy')\n",
    "plt.xlabel('Term')\n",
    "plt.ylabel('Entropy')\n",
    "plt.show()"
   ]
  },
  {
   "cell_type": "code",
   "execution_count": 40,
   "metadata": {},
   "outputs": [
    {
     "name": "stdout",
     "output_type": "stream",
     "text": [
      "(50, 500)\n"
     ]
    },
    {
     "data": {
      "image/png": "[encoded data removed]",
      "text/plain": [
       "<Figure size 1000x1000 with 2 Axes>"
      ]
     },
     "metadata": {},
     "output_type": "display_data"
    }
   ],
   "source": [
    "# Answer here\n",
    "import seaborn as sns\n",
    "SIZE = (40, 500)  # Adjust size (term, doc) as needed\n",
    "\n",
    "TOP_N_WORDS = 50\n",
    "\n",
    "# Randomly select indices for documents and terms\n",
    "idx_x = np.random.choice(X_counts.shape[0], size=SIZE[1], replace=False)\n",
    "\n",
    "top_terms = top_entropy_df['term'].head(TOP_N_WORDS).values\n",
    "top_indices = [np.where(feature_names == term)[0][0] for term in top_terms]\n",
    "\n",
    "plot_y = [str(i) for i in count_vect.get_feature_names_out()[top_indices]]\n",
    "plot_x = [\"doc_\" + str(i) for i in idx_x]\n",
    "\n",
    "# X_counts[how many documents, how many terms]\n",
    "# transpose to better see terms\n",
    "plot_z = X_counts[idx_x][:, top_indices].toarray().T\n",
    "print(plot_z.shape)  # Should be (SIZE[0], SIZE[1])\n",
    "\n",
    "df_todraw = pd.DataFrame(plot_z, columns=plot_x, index=plot_y)\n",
    "plt.subplots(figsize=(10, 10))\n",
    "ax = sns.heatmap(df_todraw,\n",
    "                 cmap=\"PuRd\",\n",
    "                 vmin=0, vmax=1, annot=(SIZE[0] <= 40 and SIZE[1] <= 40))  # Annotate only for smaller sizes"
   ]
  },
  {
   "cell_type": "markdown",
   "metadata": {},
   "source": [
    "### 5.3 Feature Selection"
   ]
  },
  {
   "cell_type": "markdown",
   "metadata": {},
   "source": [
    "Based on the above exploration, we can remove some data columns:\n",
    "\n",
    "- Irrelevant columns: `post_id`, `entities`\n",
    "- Decomposed columns: `author`\n",
    "- Remove `url` column, since it is difficult to parse for now"
   ]
  },
  {
   "cell_type": "code",
   "execution_count": 41,
   "metadata": {},
   "outputs": [],
   "source": [
    "X.drop(columns=['post_id', 'entities', 'author', 'url'], inplace=True)"
   ]
  },
  {
   "cell_type": "markdown",
   "metadata": {},
   "source": [
    "### 5.4 Attribute Transformation / Aggregation"
   ]
  },
  {
   "cell_type": "markdown",
   "metadata": {},
   "source": [
    "#### 5.4.1 Numeric/Categorical Data"
   ]
  },
  {
   "cell_type": "markdown",
   "metadata": {},
   "source": [
    "Previously we've added a column `is_bot` to mark bot users. Now, based on the above exploration, we can add some more useful attributes:\n",
    "\n",
    "- From `datetime`, we can extract `year`, `month`, `day`, `hour`, `minute`, `second`, `day_of_week` (0 is Monday, 6 is Sunday), and `is_weekend` (boolean).\n",
    "  - Impirically, posts/comments made during weekends may have different characteristics than those made during weekdays.\n",
    "  - Among the mentioned attributes, we'll add `year`, `month`, `day`, `day_of_week`, and `is_weekend`.\n",
    "- For the categorical columns `type` and `subreddit`, we will one-hot encode them."
   ]
  },
  {
   "cell_type": "code",
   "execution_count": 42,
   "metadata": {},
   "outputs": [],
   "source": [
    "# datetime\n",
    "X['year'] = pd.to_datetime(X['datetime']).dt.year\n",
    "X['month'] = pd.to_datetime(X['datetime']).dt.month\n",
    "X['day'] = pd.to_datetime(X['datetime']).dt.day\n",
    "X['day_of_week'] = pd.to_datetime(X['datetime']).dt.dayofweek\n",
    "X['is_weekend'] = X['day_of_week'] >= 5  # Saturday and Sunday"
   ]
  },
  {
   "cell_type": "code",
   "execution_count": 43,
   "metadata": {},
   "outputs": [],
   "source": [
    "# categorical\n",
    "X = pd.get_dummies(X, columns=['type', 'subreddit'], prefix=['type', 'subr'])"
   ]
  },
  {
   "cell_type": "markdown",
   "metadata": {},
   "source": [
    "Let's see the updated dataframe."
   ]
  },
  {
   "cell_type": "code",
   "execution_count": 44,
   "metadata": {},
   "outputs": [
    {
     "data": {
      "text/plain": [
       "Index(['datetime', 'title', 'upvotes', 'downvotes', 'upvote_ratio', 'text',\n",
       "       'subjectivity', 'polarity', 'sentiment', 'label', 'is_bot', 'year',\n",
       "       'month', 'day', 'day_of_week', 'is_weekend', 'type_comment',\n",
       "       'type_post', 'subr_StockMarket', 'subr_stocks', 'subr_stockstobuytoday',\n",
       "       'subr_wallstreetbets'],\n",
       "      dtype='object')"
      ]
     },
     "execution_count": 44,
     "metadata": {},
     "output_type": "execute_result"
    }
   ],
   "source": [
    "X.columns"
   ]
  },
  {
   "cell_type": "code",
   "execution_count": 45,
   "metadata": {},
   "outputs": [
    {
     "data": {
      "text/html": [
       "<div>\n",
       "<style scoped>\n",
       "    .dataframe tbody tr th:only-of-type {\n",
       "        vertical-align: middle;\n",
       "    }\n",
       "\n",
       "    .dataframe tbody tr th {\n",
       "        vertical-align: top;\n",
       "    }\n",
       "\n",
       "    .dataframe thead th {\n",
       "        text-align: right;\n",
       "    }\n",
       "</style>\n",
       "<table border=\"1\" class=\"dataframe\">\n",
       "  <thead>\n",
       "    <tr style=\"text-align: right;\">\n",
       "      <th></th>\n",
       "      <th>datetime</th>\n",
       "      <th>title</th>\n",
       "      <th>upvotes</th>\n",
       "      <th>downvotes</th>\n",
       "      <th>upvote_ratio</th>\n",
       "      <th>text</th>\n",
       "      <th>subjectivity</th>\n",
       "      <th>polarity</th>\n",
       "      <th>sentiment</th>\n",
       "      <th>label</th>\n",
       "      <th>...</th>\n",
       "      <th>month</th>\n",
       "      <th>day</th>\n",
       "      <th>day_of_week</th>\n",
       "      <th>is_weekend</th>\n",
       "      <th>type_comment</th>\n",
       "      <th>type_post</th>\n",
       "      <th>subr_StockMarket</th>\n",
       "      <th>subr_stocks</th>\n",
       "      <th>subr_stockstobuytoday</th>\n",
       "      <th>subr_wallstreetbets</th>\n",
       "    </tr>\n",
       "  </thead>\n",
       "  <tbody>\n",
       "    <tr>\n",
       "      <th>0</th>\n",
       "      <td>2025-04-11 17:29:56</td>\n",
       "      <td>Retardation is on the menu boys! WSB is so back</td>\n",
       "      <td>0</td>\n",
       "      <td>NaN</td>\n",
       "      <td>NaN</td>\n",
       "      <td>Calls on retards</td>\n",
       "      <td>1.000000</td>\n",
       "      <td>-0.900000</td>\n",
       "      <td>-1.0</td>\n",
       "      <td>-1.0</td>\n",
       "      <td>...</td>\n",
       "      <td>4</td>\n",
       "      <td>11</td>\n",
       "      <td>4</td>\n",
       "      <td>False</td>\n",
       "      <td>True</td>\n",
       "      <td>False</td>\n",
       "      <td>False</td>\n",
       "      <td>False</td>\n",
       "      <td>False</td>\n",
       "      <td>True</td>\n",
       "    </tr>\n",
       "    <tr>\n",
       "      <th>1</th>\n",
       "      <td>2025-04-12 1:12:19</td>\n",
       "      <td>Retail giant TARGET has now declined for 10 co...</td>\n",
       "      <td>-15</td>\n",
       "      <td>NaN</td>\n",
       "      <td>NaN</td>\n",
       "      <td>Stunt as in like why did they even make a big ...</td>\n",
       "      <td>0.177778</td>\n",
       "      <td>0.083333</td>\n",
       "      <td>1.0</td>\n",
       "      <td>0.0</td>\n",
       "      <td>...</td>\n",
       "      <td>4</td>\n",
       "      <td>12</td>\n",
       "      <td>5</td>\n",
       "      <td>True</td>\n",
       "      <td>True</td>\n",
       "      <td>False</td>\n",
       "      <td>False</td>\n",
       "      <td>False</td>\n",
       "      <td>False</td>\n",
       "      <td>True</td>\n",
       "    </tr>\n",
       "    <tr>\n",
       "      <th>2</th>\n",
       "      <td>2025-04-10 15:09:41</td>\n",
       "      <td>How do you feel about a sitting president maki...</td>\n",
       "      <td>1</td>\n",
       "      <td>NaN</td>\n",
       "      <td>NaN</td>\n",
       "      <td>Seeing lots of red in the ticker.</td>\n",
       "      <td>0.000000</td>\n",
       "      <td>0.000000</td>\n",
       "      <td>0.0</td>\n",
       "      <td>0.0</td>\n",
       "      <td>...</td>\n",
       "      <td>4</td>\n",
       "      <td>10</td>\n",
       "      <td>3</td>\n",
       "      <td>False</td>\n",
       "      <td>True</td>\n",
       "      <td>False</td>\n",
       "      <td>True</td>\n",
       "      <td>False</td>\n",
       "      <td>False</td>\n",
       "      <td>False</td>\n",
       "    </tr>\n",
       "    <tr>\n",
       "      <th>3</th>\n",
       "      <td>2023-08-30 17:12:55</td>\n",
       "      <td>Who knows more? $VMAR</td>\n",
       "      <td>30</td>\n",
       "      <td>0.0</td>\n",
       "      <td>0.98</td>\n",
       "      <td>Vision Marine Technologies Inc. is rewriting t...</td>\n",
       "      <td>0.646970</td>\n",
       "      <td>0.216383</td>\n",
       "      <td>1.0</td>\n",
       "      <td>1.0</td>\n",
       "      <td>...</td>\n",
       "      <td>8</td>\n",
       "      <td>30</td>\n",
       "      <td>2</td>\n",
       "      <td>False</td>\n",
       "      <td>False</td>\n",
       "      <td>True</td>\n",
       "      <td>False</td>\n",
       "      <td>False</td>\n",
       "      <td>True</td>\n",
       "      <td>False</td>\n",
       "    </tr>\n",
       "    <tr>\n",
       "      <th>4</th>\n",
       "      <td>2025-04-11 14:48:05</td>\n",
       "      <td>The Trump administration is begging Xi Jinping...</td>\n",
       "      <td>1</td>\n",
       "      <td>NaN</td>\n",
       "      <td>NaN</td>\n",
       "      <td>He didn’t say thank you.</td>\n",
       "      <td>0.000000</td>\n",
       "      <td>0.000000</td>\n",
       "      <td>0.0</td>\n",
       "      <td>-1.0</td>\n",
       "      <td>...</td>\n",
       "      <td>4</td>\n",
       "      <td>11</td>\n",
       "      <td>4</td>\n",
       "      <td>False</td>\n",
       "      <td>True</td>\n",
       "      <td>False</td>\n",
       "      <td>True</td>\n",
       "      <td>False</td>\n",
       "      <td>False</td>\n",
       "      <td>False</td>\n",
       "    </tr>\n",
       "  </tbody>\n",
       "</table>\n",
       "<p>5 rows × 22 columns</p>\n",
       "</div>"
      ],
      "text/plain": [
       "              datetime                                              title  \\\n",
       "0  2025-04-11 17:29:56    Retardation is on the menu boys! WSB is so back   \n",
       "1   2025-04-12 1:12:19  Retail giant TARGET has now declined for 10 co...   \n",
       "2  2025-04-10 15:09:41  How do you feel about a sitting president maki...   \n",
       "3  2023-08-30 17:12:55                              Who knows more? $VMAR   \n",
       "4  2025-04-11 14:48:05  The Trump administration is begging Xi Jinping...   \n",
       "\n",
       "   upvotes  downvotes  upvote_ratio  \\\n",
       "0        0        NaN           NaN   \n",
       "1      -15        NaN           NaN   \n",
       "2        1        NaN           NaN   \n",
       "3       30        0.0          0.98   \n",
       "4        1        NaN           NaN   \n",
       "\n",
       "                                                text  subjectivity  polarity  \\\n",
       "0                                   Calls on retards      1.000000 -0.900000   \n",
       "1  Stunt as in like why did they even make a big ...      0.177778  0.083333   \n",
       "2                  Seeing lots of red in the ticker.      0.000000  0.000000   \n",
       "3  Vision Marine Technologies Inc. is rewriting t...      0.646970  0.216383   \n",
       "4                           He didn’t say thank you.      0.000000  0.000000   \n",
       "\n",
       "   sentiment  label  ...  month  day  day_of_week  is_weekend  type_comment  \\\n",
       "0       -1.0   -1.0  ...      4   11            4       False          True   \n",
       "1        1.0    0.0  ...      4   12            5        True          True   \n",
       "2        0.0    0.0  ...      4   10            3       False          True   \n",
       "3        1.0    1.0  ...      8   30            2       False         False   \n",
       "4        0.0   -1.0  ...      4   11            4       False          True   \n",
       "\n",
       "   type_post  subr_StockMarket  subr_stocks  subr_stockstobuytoday  \\\n",
       "0      False             False        False                  False   \n",
       "1      False             False        False                  False   \n",
       "2      False              True        False                  False   \n",
       "3       True             False        False                   True   \n",
       "4      False              True        False                  False   \n",
       "\n",
       "   subr_wallstreetbets  \n",
       "0                 True  \n",
       "1                 True  \n",
       "2                False  \n",
       "3                False  \n",
       "4                False  \n",
       "\n",
       "[5 rows x 22 columns]"
      ]
     },
     "execution_count": 45,
     "metadata": {},
     "output_type": "execute_result"
    }
   ],
   "source": [
    "X.head()"
   ]
  },
  {
   "cell_type": "code",
   "execution_count": 46,
   "metadata": {},
   "outputs": [
    {
     "data": {
      "application/vnd.plotly.v1+json": {
       "config": {
        "plotlyServerURL": "https://plot.ly"
       },
       "data": [
        {
         "name": "year",
         "type": "bar",
         "x": {
          "bdata": "5QcAAOYHAADnBwAA6AcAAOkHAAA=",
          "dtype": "i4"
         },
         "y": {
          "bdata": "YgAWAA4AFgCyAg==",
          "dtype": "i2"
         }
        },
        {
         "name": "month",
         "type": "bar",
         "x": {
          "bdata": "AQAAAAIAAAADAAAABAAAAAUAAAAGAAAABwAAAAgAAAAJAAAACgAAAAsAAAAMAAAA",
          "dtype": "i4"
         },
         "y": {
          "bdata": "EAAzADMAjQIPAAMABQAIAAQAEAAJAA8A",
          "dtype": "i2"
         }
        },
        {
         "name": "day",
         "type": "bar",
         "x": {
          "bdata": "AQAAAAIAAAADAAAABAAAAAUAAAAGAAAABwAAAAgAAAAJAAAACgAAAAsAAAAMAAAADQAAAA4AAAAPAAAAEAAAABEAAAASAAAAEwAAABQAAAAVAAAAFgAAABcAAAAYAAAAGQAAABoAAAAbAAAAHAAAAB0AAAAeAAAAHwAAAA==",
          "dtype": "i4"
         },
         "y": {
          "bdata": "LAAJAAcAEAAIAAgACAAJAAMAXQDXAUcABAAGAAEAAQAEAAMABAABAAgABQADAAUABwAIAAcACAAIAAcACQA=",
          "dtype": "i2"
         }
        },
        {
         "name": "day_of_week",
         "type": "bar",
         "x": {
          "bdata": "AAAAAAEAAAACAAAAAwAAAAQAAAAFAAAABgAAAA==",
          "dtype": "i4"
         },
         "y": {
          "bdata": "RQAbACwAcADqAVQAFAA=",
          "dtype": "i2"
         }
        },
        {
         "name": "is_weekend",
         "type": "bar",
         "x": {
          "bdata": "AAE=",
          "dtype": "i1"
         },
         "y": {
          "bdata": "5gJoAA==",
          "dtype": "i2"
         }
        }
       ],
       "layout": {
        "template": {
         "data": {
          "bar": [
           {
            "error_x": {
             "color": "#2a3f5f"
            },
            "error_y": {
             "color": "#2a3f5f"
            },
            "marker": {
             "line": {
              "color": "#E5ECF6",
              "width": 0.5
             },
             "pattern": {
              "fillmode": "overlay",
              "size": 10,
              "solidity": 0.2
             }
            },
            "type": "bar"
           }
          ],
          "barpolar": [
           {
            "marker": {
             "line": {
              "color": "#E5ECF6",
              "width": 0.5
             },
             "pattern": {
              "fillmode": "overlay",
              "size": 10,
              "solidity": 0.2
             }
            },
            "type": "barpolar"
           }
          ],
          "carpet": [
           {
            "aaxis": {
             "endlinecolor": "#2a3f5f",
             "gridcolor": "white",
             "linecolor": "white",
             "minorgridcolor": "white",
             "startlinecolor": "#2a3f5f"
            },
            "baxis": {
             "endlinecolor": "#2a3f5f",
             "gridcolor": "white",
             "linecolor": "white",
             "minorgridcolor": "white",
             "startlinecolor": "#2a3f5f"
            },
            "type": "carpet"
           }
          ],
          "choropleth": [
           {
            "colorbar": {
             "outlinewidth": 0,
             "ticks": ""
            },
            "type": "choropleth"
           }
          ],
          "contour": [
           {
            "colorbar": {
             "outlinewidth": 0,
             "ticks": ""
            },
            "colorscale": [
             [
              0,
              "#0d0887"
             ],
             [
              0.1111111111111111,
              "#46039f"
             ],
             [
              0.2222222222222222,
              "#7201a8"
             ],
             [
              0.3333333333333333,
              "#9c179e"
             ],
             [
              0.4444444444444444,
              "#bd3786"
             ],
             [
              0.5555555555555556,
              "#d8576b"
             ],
             [
              0.6666666666666666,
              "#ed7953"
             ],
             [
              0.7777777777777778,
              "#fb9f3a"
             ],
             [
              0.8888888888888888,
              "#fdca26"
             ],
             [
              1,
              "#f0f921"
             ]
            ],
            "type": "contour"
           }
          ],
          "contourcarpet": [
           {
            "colorbar": {
             "outlinewidth": 0,
             "ticks": ""
            },
            "type": "contourcarpet"
           }
          ],
          "heatmap": [
           {
            "colorbar": {
             "outlinewidth": 0,
             "ticks": ""
            },
            "colorscale": [
             [
              0,
              "#0d0887"
             ],
             [
              0.1111111111111111,
              "#46039f"
             ],
             [
              0.2222222222222222,
              "#7201a8"
             ],
             [
              0.3333333333333333,
              "#9c179e"
             ],
             [
              0.4444444444444444,
              "#bd3786"
             ],
             [
              0.5555555555555556,
              "#d8576b"
             ],
             [
              0.6666666666666666,
              "#ed7953"
             ],
             [
              0.7777777777777778,
              "#fb9f3a"
             ],
             [
              0.8888888888888888,
              "#fdca26"
             ],
             [
              1,
              "#f0f921"
             ]
            ],
            "type": "heatmap"
           }
          ],
          "histogram": [
           {
            "marker": {
             "pattern": {
              "fillmode": "overlay",
              "size": 10,
              "solidity": 0.2
             }
            },
            "type": "histogram"
           }
          ],
          "histogram2d": [
           {
            "colorbar": {
             "outlinewidth": 0,
             "ticks": ""
            },
            "colorscale": [
             [
              0,
              "#0d0887"
             ],
             [
              0.1111111111111111,
              "#46039f"
             ],
             [
              0.2222222222222222,
              "#7201a8"
             ],
             [
              0.3333333333333333,
              "#9c179e"
             ],
             [
              0.4444444444444444,
              "#bd3786"
             ],
             [
              0.5555555555555556,
              "#d8576b"
             ],
             [
              0.6666666666666666,
              "#ed7953"
             ],
             [
              0.7777777777777778,
              "#fb9f3a"
             ],
             [
              0.8888888888888888,
              "#fdca26"
             ],
             [
              1,
              "#f0f921"
             ]
            ],
            "type": "histogram2d"
           }
          ],
          "histogram2dcontour": [
           {
            "colorbar": {
             "outlinewidth": 0,
             "ticks": ""
            },
            "colorscale": [
             [
              0,
              "#0d0887"
             ],
             [
              0.1111111111111111,
              "#46039f"
             ],
             [
              0.2222222222222222,
              "#7201a8"
             ],
             [
              0.3333333333333333,
              "#9c179e"
             ],
             [
              0.4444444444444444,
              "#bd3786"
             ],
             [
              0.5555555555555556,
              "#d8576b"
             ],
             [
              0.6666666666666666,
              "#ed7953"
             ],
             [
              0.7777777777777778,
              "#fb9f3a"
             ],
             [
              0.8888888888888888,
              "#fdca26"
             ],
             [
              1,
              "#f0f921"
             ]
            ],
            "type": "histogram2dcontour"
           }
          ],
          "mesh3d": [
           {
            "colorbar": {
             "outlinewidth": 0,
             "ticks": ""
            },
            "type": "mesh3d"
           }
          ],
          "parcoords": [
           {
            "line": {
             "colorbar": {
              "outlinewidth": 0,
              "ticks": ""
             }
            },
            "type": "parcoords"
           }
          ],
          "pie": [
           {
            "automargin": true,
            "type": "pie"
           }
          ],
          "scatter": [
           {
            "fillpattern": {
             "fillmode": "overlay",
             "size": 10,
             "solidity": 0.2
            },
            "type": "scatter"
           }
          ],
          "scatter3d": [
           {
            "line": {
             "colorbar": {
              "outlinewidth": 0,
              "ticks": ""
             }
            },
            "marker": {
             "colorbar": {
              "outlinewidth": 0,
              "ticks": ""
             }
            },
            "type": "scatter3d"
           }
          ],
          "scattercarpet": [
           {
            "marker": {
             "colorbar": {
              "outlinewidth": 0,
              "ticks": ""
             }
            },
            "type": "scattercarpet"
           }
          ],
          "scattergeo": [
           {
            "marker": {
             "colorbar": {
              "outlinewidth": 0,
              "ticks": ""
             }
            },
            "type": "scattergeo"
           }
          ],
          "scattergl": [
           {
            "marker": {
             "colorbar": {
              "outlinewidth": 0,
              "ticks": ""
             }
            },
            "type": "scattergl"
           }
          ],
          "scattermap": [
           {
            "marker": {
             "colorbar": {
              "outlinewidth": 0,
              "ticks": ""
             }
            },
            "type": "scattermap"
           }
          ],
          "scattermapbox": [
           {
            "marker": {
             "colorbar": {
              "outlinewidth": 0,
              "ticks": ""
             }
            },
            "type": "scattermapbox"
           }
          ],
          "scatterpolar": [
           {
            "marker": {
             "colorbar": {
              "outlinewidth": 0,
              "ticks": ""
             }
            },
            "type": "scatterpolar"
           }
          ],
          "scatterpolargl": [
           {
            "marker": {
             "colorbar": {
              "outlinewidth": 0,
              "ticks": ""
             }
            },
            "type": "scatterpolargl"
           }
          ],
          "scatterternary": [
           {
            "marker": {
             "colorbar": {
              "outlinewidth": 0,
              "ticks": ""
             }
            },
            "type": "scatterternary"
           }
          ],
          "surface": [
           {
            "colorbar": {
             "outlinewidth": 0,
             "ticks": ""
            },
            "colorscale": [
             [
              0,
              "#0d0887"
             ],
             [
              0.1111111111111111,
              "#46039f"
             ],
             [
              0.2222222222222222,
              "#7201a8"
             ],
             [
              0.3333333333333333,
              "#9c179e"
             ],
             [
              0.4444444444444444,
              "#bd3786"
             ],
             [
              0.5555555555555556,
              "#d8576b"
             ],
             [
              0.6666666666666666,
              "#ed7953"
             ],
             [
              0.7777777777777778,
              "#fb9f3a"
             ],
             [
              0.8888888888888888,
              "#fdca26"
             ],
             [
              1,
              "#f0f921"
             ]
            ],
            "type": "surface"
           }
          ],
          "table": [
           {
            "cells": {
             "fill": {
              "color": "#EBF0F8"
             },
             "line": {
              "color": "white"
             }
            },
            "header": {
             "fill": {
              "color": "#C8D4E3"
             },
             "line": {
              "color": "white"
             }
            },
            "type": "table"
           }
          ]
         },
         "layout": {
          "annotationdefaults": {
           "arrowcolor": "#2a3f5f",
           "arrowhead": 0,
           "arrowwidth": 1
          },
          "autotypenumbers": "strict",
          "coloraxis": {
           "colorbar": {
            "outlinewidth": 0,
            "ticks": ""
           }
          },
          "colorscale": {
           "diverging": [
            [
             0,
             "#8e0152"
            ],
            [
             0.1,
             "#c51b7d"
            ],
            [
             0.2,
             "#de77ae"
            ],
            [
             0.3,
             "#f1b6da"
            ],
            [
             0.4,
             "#fde0ef"
            ],
            [
             0.5,
             "#f7f7f7"
            ],
            [
             0.6,
             "#e6f5d0"
            ],
            [
             0.7,
             "#b8e186"
            ],
            [
             0.8,
             "#7fbc41"
            ],
            [
             0.9,
             "#4d9221"
            ],
            [
             1,
             "#276419"
            ]
           ],
           "sequential": [
            [
             0,
             "#0d0887"
            ],
            [
             0.1111111111111111,
             "#46039f"
            ],
            [
             0.2222222222222222,
             "#7201a8"
            ],
            [
             0.3333333333333333,
             "#9c179e"
            ],
            [
             0.4444444444444444,
             "#bd3786"
            ],
            [
             0.5555555555555556,
             "#d8576b"
            ],
            [
             0.6666666666666666,
             "#ed7953"
            ],
            [
             0.7777777777777778,
             "#fb9f3a"
            ],
            [
             0.8888888888888888,
             "#fdca26"
            ],
            [
             1,
             "#f0f921"
            ]
           ],
           "sequentialminus": [
            [
             0,
             "#0d0887"
            ],
            [
             0.1111111111111111,
             "#46039f"
            ],
            [
             0.2222222222222222,
             "#7201a8"
            ],
            [
             0.3333333333333333,
             "#9c179e"
            ],
            [
             0.4444444444444444,
             "#bd3786"
            ],
            [
             0.5555555555555556,
             "#d8576b"
            ],
            [
             0.6666666666666666,
             "#ed7953"
            ],
            [
             0.7777777777777778,
             "#fb9f3a"
            ],
            [
             0.8888888888888888,
             "#fdca26"
            ],
            [
             1,
             "#f0f921"
            ]
           ]
          },
          "colorway": [
           "#636efa",
           "#EF553B",
           "#00cc96",
           "#ab63fa",
           "#FFA15A",
           "#19d3f3",
           "#FF6692",
           "#B6E880",
           "#FF97FF",
           "#FECB52"
          ],
          "font": {
           "color": "#2a3f5f"
          },
          "geo": {
           "bgcolor": "white",
           "lakecolor": "white",
           "landcolor": "#E5ECF6",
           "showlakes": true,
           "showland": true,
           "subunitcolor": "white"
          },
          "hoverlabel": {
           "align": "left"
          },
          "hovermode": "closest",
          "mapbox": {
           "style": "light"
          },
          "paper_bgcolor": "white",
          "plot_bgcolor": "#E5ECF6",
          "polar": {
           "angularaxis": {
            "gridcolor": "white",
            "linecolor": "white",
            "ticks": ""
           },
           "bgcolor": "#E5ECF6",
           "radialaxis": {
            "gridcolor": "white",
            "linecolor": "white",
            "ticks": ""
           }
          },
          "scene": {
           "xaxis": {
            "backgroundcolor": "#E5ECF6",
            "gridcolor": "white",
            "gridwidth": 2,
            "linecolor": "white",
            "showbackground": true,
            "ticks": "",
            "zerolinecolor": "white"
           },
           "yaxis": {
            "backgroundcolor": "#E5ECF6",
            "gridcolor": "white",
            "gridwidth": 2,
            "linecolor": "white",
            "showbackground": true,
            "ticks": "",
            "zerolinecolor": "white"
           },
           "zaxis": {
            "backgroundcolor": "#E5ECF6",
            "gridcolor": "white",
            "gridwidth": 2,
            "linecolor": "white",
            "showbackground": true,
            "ticks": "",
            "zerolinecolor": "white"
           }
          },
          "shapedefaults": {
           "line": {
            "color": "#2a3f5f"
           }
          },
          "ternary": {
           "aaxis": {
            "gridcolor": "white",
            "linecolor": "white",
            "ticks": ""
           },
           "baxis": {
            "gridcolor": "white",
            "linecolor": "white",
            "ticks": ""
           },
           "bgcolor": "#E5ECF6",
           "caxis": {
            "gridcolor": "white",
            "linecolor": "white",
            "ticks": ""
           }
          },
          "title": {
           "x": 0.05
          },
          "xaxis": {
           "automargin": true,
           "gridcolor": "white",
           "linecolor": "white",
           "ticks": "",
           "title": {
            "standoff": 15
           },
           "zerolinecolor": "white",
           "zerolinewidth": 2
          },
          "yaxis": {
           "automargin": true,
           "gridcolor": "white",
           "linecolor": "white",
           "ticks": "",
           "title": {
            "standoff": 15
           },
           "zerolinecolor": "white",
           "zerolinewidth": 2
          }
         }
        },
        "title": {
         "text": "Distribution of Attributes"
        },
        "updatemenus": [
         {
          "active": 0,
          "buttons": [
           {
            "args": [
             {
              "visible": [
               true,
               false,
               false,
               false,
               false
              ]
             },
             {
              "title": "Distribution of year"
             }
            ],
            "label": "year",
            "method": "update"
           },
           {
            "args": [
             {
              "visible": [
               false,
               true,
               false,
               false,
               false
              ]
             },
             {
              "title": "Distribution of month"
             }
            ],
            "label": "month",
            "method": "update"
           },
           {
            "args": [
             {
              "visible": [
               false,
               false,
               true,
               false,
               false
              ]
             },
             {
              "title": "Distribution of day"
             }
            ],
            "label": "day",
            "method": "update"
           },
           {
            "args": [
             {
              "visible": [
               false,
               false,
               false,
               true,
               false
              ]
             },
             {
              "title": "Distribution of day_of_week"
             }
            ],
            "label": "day_of_week",
            "method": "update"
           },
           {
            "args": [
             {
              "visible": [
               false,
               false,
               false,
               false,
               true
              ]
             },
             {
              "title": "Distribution of is_weekend"
             }
            ],
            "label": "is_weekend",
            "method": "update"
           }
          ]
         }
        ],
        "xaxis": {
         "title": {
          "text": "Value"
         }
        },
        "yaxis": {
         "title": {
          "text": "Count"
         }
        }
       }
      }
     },
     "metadata": {},
     "output_type": "display_data"
    }
   ],
   "source": [
    "import plotly.graph_objects as go\n",
    "\n",
    "# Prepare data for each attribute\n",
    "attributes = ['year', 'month', 'day', 'day_of_week', 'is_weekend']\n",
    "data = []\n",
    "for attr in attributes:\n",
    "    if attr == 'is_weekend':\n",
    "        counts = X[attr].value_counts().sort_index()\n",
    "        fig_data = go.Bar(x=counts.index.astype(int), y=counts.values, name=attr)\n",
    "    else:\n",
    "        counts = X[attr].value_counts().sort_index()\n",
    "        fig_data = go.Bar(x=counts.index, y=counts.values, name=attr)\n",
    "    data.append(fig_data)\n",
    "\n",
    "# Create figure with initial data\n",
    "fig = go.Figure(data=data)\n",
    "\n",
    "# Add buttons for switching views\n",
    "buttons = []\n",
    "for i, attr in enumerate(attributes):\n",
    "    buttons.append(dict(label=attr,\n",
    "                        method=\"update\",\n",
    "                        args=[{\"visible\": [j == i for j in range(len(attributes))]},\n",
    "                              {\"title\": f\"Distribution of {attr}\"}]))\n",
    "\n",
    "fig.update_layout(updatemenus=[dict(active=0, buttons=buttons)],\n",
    "                  title=\"Distribution of Attributes\",\n",
    "                  xaxis_title=\"Value\",\n",
    "                  yaxis_title=\"Count\")\n"
   ]
  },
  {
   "cell_type": "markdown",
   "metadata": {},
   "source": [
    "#### 5.4.2 Text Data"
   ]
  },
  {
   "cell_type": "markdown",
   "metadata": {},
   "source": [
    "We have two text columns: `title` and `text`. We can perform count vectorization on both of them, and combine the resulting term-document matrices."
   ]
  },
  {
   "cell_type": "code",
   "execution_count": 47,
   "metadata": {},
   "outputs": [],
   "source": [
    "cv_title = CountVectorizer()\n",
    "cv_text = CountVectorizer()\n",
    "\n",
    "X_title_counts = cv_title.fit_transform(X.title)\n",
    "X_text_counts = cv_text.fit_transform(X.text)\n",
    "\n",
    "tf_title = X_title_counts.sum(axis=0).A1  # Sum over rows to get term frequencies\n",
    "tf_text = X_text_counts.sum(axis=0).A1  # Sum over rows to get term frequencies\n",
    "\n",
    "tf_title = np.array(tf_title)\n",
    "tf_text = np.array(tf_text)"
   ]
  },
  {
   "cell_type": "code",
   "execution_count": 48,
   "metadata": {},
   "outputs": [],
   "source": [
    "# Calculate entropy for each term\n",
    "feature_names_title = cv_title.get_feature_names_out()\n",
    "feature_names_text = cv_text.get_feature_names_out()\n",
    "\n",
    "word_presence_count_title = X_title_counts.sum(axis=0).A1\n",
    "word_presence_count_text = X_text_counts.sum(axis=0).A1\n",
    "\n",
    "# Probability of each word appearing in a document\n",
    "proba_word_title = word_presence_count_title / X_title_counts.shape[0]\n",
    "# Probability of each word appearing in a document\n",
    "proba_word_text = word_presence_count_text / X_text_counts.shape[0]\n",
    "\n",
    "word_entropy_title = -proba_word_title * \\\n",
    "    np.log2(proba_word_title + 1e-10)  # Entropy for each word\n",
    "word_entropy_text = -proba_word_text * \\\n",
    "    np.log2(proba_word_text + 1e-10)  # Entropy for each word\n",
    "\n",
    "entropy_df_title = pd.DataFrame(\n",
    "    {'term': feature_names_title, 'entropy': word_entropy_title}).sort_values(by='entropy', ascending=False)\n",
    "entropy_df_text = pd.DataFrame({'term': feature_names_text, 'entropy': word_entropy_text}).sort_values(\n",
    "    by='entropy', ascending=False)"
   ]
  },
  {
   "cell_type": "markdown",
   "metadata": {},
   "source": [
    "##### >>> **Exercise 12**\n",
    "\n",
    "If you want a nicer interactive visualization here, I would encourage you try to install and use plotly to achieve this.\n",
    "\n",
    "##### >>> **Exercise 13** \n",
    "The chart above only contains 300 vocabulary in the documents, and it's already computationally intensive to both compute and visualize. Can you efficiently reduce the number of terms you want to visualize as an exercise. "
   ]
  },
  {
   "cell_type": "code",
   "execution_count": 49,
   "metadata": {},
   "outputs": [
    {
     "data": {
      "application/vnd.plotly.v1+json": {
       "config": {
        "plotlyServerURL": "https://plot.ly"
       },
       "data": [
        {
         "customdata": {
          "bdata": "NwEeAV4B7gCSAdUA1QDDAKsA6AGaAJUAhgCEAH8AfgB3AHMANgJuAGwAawBmAGEAYQBgAF8AXgBcAFwAWQBYAFUAUwBRAFEATABIAEgASABDAD4APgA+AD0AOgA5ADcANwA2ADUANAA0ADQANAAzADMAMwAyADAALwAuAC4ALQAtAC0AKwAqACkAKQAnACcAJgAlACUAJAAkACQAJAAkACMAIgAiACIAIQAgACAAIAAfAB4AHgAdAB0AHQAcABwAGwAbABsAGwAbABsAGgAaABoAGgAaABkAGQAZABkAGAAYABgAGAAYABgAFwAXABcAFwAXABcAFwAXABYAFgAWABYAFgAWABYAFQAVABUAFQAVABUAFQAUABQAFAAUABMAEwATABMAEwATABMAEwASABIAEgASABIAEgASABIAEgASABIAEgASABIAEQARABEAEQARABEAEQARABEAEAAQABAAEAAQABAAEAAQABAAEAAQABAAEAAQABAAEAAPAA8ADwAPAA8ADwAPAA8ADwAPAA8ADgAOAA4ADgAOAA4ADgAOAA4ADgAOAA4ADgAOAA0ADQANAA0ADQANAA0ADQANAA0ADQANAA0ADQANAA0ADQANAAwADAAMAAwADAAMAAwADAAMAAwADAAMAAwADAAMAAwADAAMAAwADAAMAAwADAALAAsACwALAAsACwALAAsACwALAAsACwALAAsACwALAAsACwALAAsACwALAAsACwALAAsACwAKAAoACgAKAAoACgAKAAoACgAKAAoACgAKAAoACgAKAAoA",
          "dtype": "i2",
          "shape": "300, 1"
         },
         "hovertemplate": "Term: %{x}<br>Frequency: %{customdata[0]}",
         "legendgroup": "",
         "marker": {
          "color": "#636efa",
          "pattern": {
           "shape": ""
          }
         },
         "name": "",
         "orientation": "v",
         "showlegend": false,
         "textposition": "auto",
         "type": "bar",
         "x": [
          "of",
          "in",
          "it",
          "that",
          "is",
          "for",
          "this",
          "you",
          "on",
          "and",
          "are",
          "they",
          "be",
          "he",
          "will",
          "with",
          "if",
          "as",
          "to",
          "market",
          "but",
          "not",
          "so",
          "all",
          "have",
          "us",
          "just",
          "was",
          "trump",
          "at",
          "my",
          "what",
          "can",
          "like",
          "we",
          "or",
          "has",
          "their",
          "about",
          "china",
          "more",
          "now",
          "from",
          "there",
          "no",
          "by",
          "re",
          "up",
          "how",
          "one",
          "do",
          "them",
          "some",
          "think",
          "even",
          "people",
          "stock",
          "his",
          "going",
          "your",
          "an",
          "good",
          "money",
          "out",
          "would",
          "any",
          "see",
          "when",
          "who",
          "than",
          "tariffs",
          "only",
          "why",
          "get",
          "been",
          "other",
          "price",
          "him",
          "time",
          "make",
          "want",
          "don",
          "into",
          "me",
          "then",
          "down",
          "doing",
          "over",
          "could",
          "futures",
          "because",
          "right",
          "company",
          "silver",
          "x200b",
          "still",
          "should",
          "our",
          "years",
          "day",
          "after",
          "go",
          "here",
          "economy",
          "also",
          "world",
          "today",
          "first",
          "much",
          "stocks",
          "did",
          "doesn",
          "buy",
          "dollar",
          "really",
          "last",
          "way",
          "well",
          "too",
          "off",
          "companies",
          "most",
          "were",
          "know",
          "long",
          "stockbuyvest",
          "new",
          "its",
          "does",
          "these",
          "com",
          "week",
          "year",
          "since",
          "everyone",
          "trade",
          "back",
          "10",
          "sell",
          "ve",
          "ll",
          "which",
          "better",
          "call",
          "bad",
          "american",
          "every",
          "xi",
          "same",
          "looking",
          "look",
          "emote",
          "someone",
          "high",
          "own",
          "things",
          "already",
          "term",
          "never",
          "need",
          "say",
          "t5_2th52",
          "fuck",
          "img",
          "wants",
          "point",
          "thing",
          "isn",
          "let",
          "many",
          "may",
          "anything",
          "take",
          "trading",
          "literally",
          "news",
          "investors",
          "before",
          "got",
          "america",
          "president",
          "am",
          "big",
          "had",
          "selling",
          "seems",
          "bond",
          "bonds",
          "where",
          "shit",
          "usa",
          "hold",
          "feel",
          "country",
          "higher",
          "end",
          "reason",
          "always",
          "war",
          "daily",
          "invest",
          "portfolio",
          "future",
          "few",
          "put",
          "again",
          "nothing",
          "technology",
          "calls",
          "something",
          "didn",
          "sure",
          "next",
          "made",
          "gold",
          "pretty",
          "buying",
          "data",
          "least",
          "chinese",
          "she",
          "come",
          "deal",
          "reddit",
          "might",
          "without",
          "countries",
          "everything",
          "updated",
          "anyone",
          "tariff",
          "another",
          "worse",
          "real",
          "power",
          "usd",
          "target",
          "ago",
          "industry",
          "spy",
          "great",
          "lower",
          "work",
          "said",
          "50",
          "done",
          "won",
          "plan",
          "please",
          "lose",
          "lot",
          "currently",
          "far",
          "puts",
          "happening",
          "else",
          "growth",
          "very",
          "seen",
          "rates",
          "rest",
          "ever",
          "went",
          "star",
          "moving",
          "100",
          "free",
          "fed",
          "lithium",
          "happen",
          "life",
          "believe",
          "getting",
          "lol",
          "probably",
          "while",
          "gonna",
          "called",
          "actually",
          "making",
          "investment",
          "cash",
          "risk",
          "being",
          "maybe",
          "government",
          "place",
          "thanks",
          "earnings",
          "help",
          "markets",
          "analysis",
          "short",
          "paper",
          "both",
          "idea",
          "until",
          "administration",
          "love",
          "note"
         ],
         "xaxis": "x",
         "y": {
          "bdata": "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",
          "dtype": "f8"
         },
         "yaxis": "y"
        }
       ],
       "layout": {
        "barmode": "relative",
        "legend": {
         "tracegroupgap": 0
        },
        "template": {
         "data": {
          "bar": [
           {
            "error_x": {
             "color": "#2a3f5f"
            },
            "error_y": {
             "color": "#2a3f5f"
            },
            "marker": {
             "line": {
              "color": "#E5ECF6",
              "width": 0.5
             },
             "pattern": {
              "fillmode": "overlay",
              "size": 10,
              "solidity": 0.2
             }
            },
            "type": "bar"
           }
          ],
          "barpolar": [
           {
            "marker": {
             "line": {
              "color": "#E5ECF6",
              "width": 0.5
             },
             "pattern": {
              "fillmode": "overlay",
              "size": 10,
              "solidity": 0.2
             }
            },
            "type": "barpolar"
           }
          ],
          "carpet": [
           {
            "aaxis": {
             "endlinecolor": "#2a3f5f",
             "gridcolor": "white",
             "linecolor": "white",
             "minorgridcolor": "white",
             "startlinecolor": "#2a3f5f"
            },
            "baxis": {
             "endlinecolor": "#2a3f5f",
             "gridcolor": "white",
             "linecolor": "white",
             "minorgridcolor": "white",
             "startlinecolor": "#2a3f5f"
            },
            "type": "carpet"
           }
          ],
          "choropleth": [
           {
            "colorbar": {
             "outlinewidth": 0,
             "ticks": ""
            },
            "type": "choropleth"
           }
          ],
          "contour": [
           {
            "colorbar": {
             "outlinewidth": 0,
             "ticks": ""
            },
            "colorscale": [
             [
              0,
              "#0d0887"
             ],
             [
              0.1111111111111111,
              "#46039f"
             ],
             [
              0.2222222222222222,
              "#7201a8"
             ],
             [
              0.3333333333333333,
              "#9c179e"
             ],
             [
              0.4444444444444444,
              "#bd3786"
             ],
             [
              0.5555555555555556,
              "#d8576b"
             ],
             [
              0.6666666666666666,
              "#ed7953"
             ],
             [
              0.7777777777777778,
              "#fb9f3a"
             ],
             [
              0.8888888888888888,
              "#fdca26"
             ],
             [
              1,
              "#f0f921"
             ]
            ],
            "type": "contour"
           }
          ],
          "contourcarpet": [
           {
            "colorbar": {
             "outlinewidth": 0,
             "ticks": ""
            },
            "type": "contourcarpet"
           }
          ],
          "heatmap": [
           {
            "colorbar": {
             "outlinewidth": 0,
             "ticks": ""
            },
            "colorscale": [
             [
              0,
              "#0d0887"
             ],
             [
              0.1111111111111111,
              "#46039f"
             ],
             [
              0.2222222222222222,
              "#7201a8"
             ],
             [
              0.3333333333333333,
              "#9c179e"
             ],
             [
              0.4444444444444444,
              "#bd3786"
             ],
             [
              0.5555555555555556,
              "#d8576b"
             ],
             [
              0.6666666666666666,
              "#ed7953"
             ],
             [
              0.7777777777777778,
              "#fb9f3a"
             ],
             [
              0.8888888888888888,
              "#fdca26"
             ],
             [
              1,
              "#f0f921"
             ]
            ],
            "type": "heatmap"
           }
          ],
          "histogram": [
           {
            "marker": {
             "pattern": {
              "fillmode": "overlay",
              "size": 10,
              "solidity": 0.2
             }
            },
            "type": "histogram"
           }
          ],
          "histogram2d": [
           {
            "colorbar": {
             "outlinewidth": 0,
             "ticks": ""
            },
            "colorscale": [
             [
              0,
              "#0d0887"
             ],
             [
              0.1111111111111111,
              "#46039f"
             ],
             [
              0.2222222222222222,
              "#7201a8"
             ],
             [
              0.3333333333333333,
              "#9c179e"
             ],
             [
              0.4444444444444444,
              "#bd3786"
             ],
             [
              0.5555555555555556,
              "#d8576b"
             ],
             [
              0.6666666666666666,
              "#ed7953"
             ],
             [
              0.7777777777777778,
              "#fb9f3a"
             ],
             [
              0.8888888888888888,
              "#fdca26"
             ],
             [
              1,
              "#f0f921"
             ]
            ],
            "type": "histogram2d"
           }
          ],
          "histogram2dcontour": [
           {
            "colorbar": {
             "outlinewidth": 0,
             "ticks": ""
            },
            "colorscale": [
             [
              0,
              "#0d0887"
             ],
             [
              0.1111111111111111,
              "#46039f"
             ],
             [
              0.2222222222222222,
              "#7201a8"
             ],
             [
              0.3333333333333333,
              "#9c179e"
             ],
             [
              0.4444444444444444,
              "#bd3786"
             ],
             [
              0.5555555555555556,
              "#d8576b"
             ],
             [
              0.6666666666666666,
              "#ed7953"
             ],
             [
              0.7777777777777778,
              "#fb9f3a"
             ],
             [
              0.8888888888888888,
              "#fdca26"
             ],
             [
              1,
              "#f0f921"
             ]
            ],
            "type": "histogram2dcontour"
           }
          ],
          "mesh3d": [
           {
            "colorbar": {
             "outlinewidth": 0,
             "ticks": ""
            },
            "type": "mesh3d"
           }
          ],
          "parcoords": [
           {
            "line": {
             "colorbar": {
              "outlinewidth": 0,
              "ticks": ""
             }
            },
            "type": "parcoords"
           }
          ],
          "pie": [
           {
            "automargin": true,
            "type": "pie"
           }
          ],
          "scatter": [
           {
            "fillpattern": {
             "fillmode": "overlay",
             "size": 10,
             "solidity": 0.2
            },
            "type": "scatter"
           }
          ],
          "scatter3d": [
           {
            "line": {
             "colorbar": {
              "outlinewidth": 0,
              "ticks": ""
             }
            },
            "marker": {
             "colorbar": {
              "outlinewidth": 0,
              "ticks": ""
             }
            },
            "type": "scatter3d"
           }
          ],
          "scattercarpet": [
           {
            "marker": {
             "colorbar": {
              "outlinewidth": 0,
              "ticks": ""
             }
            },
            "type": "scattercarpet"
           }
          ],
          "scattergeo": [
           {
            "marker": {
             "colorbar": {
              "outlinewidth": 0,
              "ticks": ""
             }
            },
            "type": "scattergeo"
           }
          ],
          "scattergl": [
           {
            "marker": {
             "colorbar": {
              "outlinewidth": 0,
              "ticks": ""
             }
            },
            "type": "scattergl"
           }
          ],
          "scattermap": [
           {
            "marker": {
             "colorbar": {
              "outlinewidth": 0,
              "ticks": ""
             }
            },
            "type": "scattermap"
           }
          ],
          "scattermapbox": [
           {
            "marker": {
             "colorbar": {
              "outlinewidth": 0,
              "ticks": ""
             }
            },
            "type": "scattermapbox"
           }
          ],
          "scatterpolar": [
           {
            "marker": {
             "colorbar": {
              "outlinewidth": 0,
              "ticks": ""
             }
            },
            "type": "scatterpolar"
           }
          ],
          "scatterpolargl": [
           {
            "marker": {
             "colorbar": {
              "outlinewidth": 0,
              "ticks": ""
             }
            },
            "type": "scatterpolargl"
           }
          ],
          "scatterternary": [
           {
            "marker": {
             "colorbar": {
              "outlinewidth": 0,
              "ticks": ""
             }
            },
            "type": "scatterternary"
           }
          ],
          "surface": [
           {
            "colorbar": {
             "outlinewidth": 0,
             "ticks": ""
            },
            "colorscale": [
             [
              0,
              "#0d0887"
             ],
             [
              0.1111111111111111,
              "#46039f"
             ],
             [
              0.2222222222222222,
              "#7201a8"
             ],
             [
              0.3333333333333333,
              "#9c179e"
             ],
             [
              0.4444444444444444,
              "#bd3786"
             ],
             [
              0.5555555555555556,
              "#d8576b"
             ],
             [
              0.6666666666666666,
              "#ed7953"
             ],
             [
              0.7777777777777778,
              "#fb9f3a"
             ],
             [
              0.8888888888888888,
              "#fdca26"
             ],
             [
              1,
              "#f0f921"
             ]
            ],
            "type": "surface"
           }
          ],
          "table": [
           {
            "cells": {
             "fill": {
              "color": "#EBF0F8"
             },
             "line": {
              "color": "white"
             }
            },
            "header": {
             "fill": {
              "color": "#C8D4E3"
             },
             "line": {
              "color": "white"
             }
            },
            "type": "table"
           }
          ]
         },
         "layout": {
          "annotationdefaults": {
           "arrowcolor": "#2a3f5f",
           "arrowhead": 0,
           "arrowwidth": 1
          },
          "autotypenumbers": "strict",
          "coloraxis": {
           "colorbar": {
            "outlinewidth": 0,
            "ticks": ""
           }
          },
          "colorscale": {
           "diverging": [
            [
             0,
             "#8e0152"
            ],
            [
             0.1,
             "#c51b7d"
            ],
            [
             0.2,
             "#de77ae"
            ],
            [
             0.3,
             "#f1b6da"
            ],
            [
             0.4,
             "#fde0ef"
            ],
            [
             0.5,
             "#f7f7f7"
            ],
            [
             0.6,
             "#e6f5d0"
            ],
            [
             0.7,
             "#b8e186"
            ],
            [
             0.8,
             "#7fbc41"
            ],
            [
             0.9,
             "#4d9221"
            ],
            [
             1,
             "#276419"
            ]
           ],
           "sequential": [
            [
             0,
             "#0d0887"
            ],
            [
             0.1111111111111111,
             "#46039f"
            ],
            [
             0.2222222222222222,
             "#7201a8"
            ],
            [
             0.3333333333333333,
             "#9c179e"
            ],
            [
             0.4444444444444444,
             "#bd3786"
            ],
            [
             0.5555555555555556,
             "#d8576b"
            ],
            [
             0.6666666666666666,
             "#ed7953"
            ],
            [
             0.7777777777777778,
             "#fb9f3a"
            ],
            [
             0.8888888888888888,
             "#fdca26"
            ],
            [
             1,
             "#f0f921"
            ]
           ],
           "sequentialminus": [
            [
             0,
             "#0d0887"
            ],
            [
             0.1111111111111111,
             "#46039f"
            ],
            [
             0.2222222222222222,
             "#7201a8"
            ],
            [
             0.3333333333333333,
             "#9c179e"
            ],
            [
             0.4444444444444444,
             "#bd3786"
            ],
            [
             0.5555555555555556,
             "#d8576b"
            ],
            [
             0.6666666666666666,
             "#ed7953"
            ],
            [
             0.7777777777777778,
             "#fb9f3a"
            ],
            [
             0.8888888888888888,
             "#fdca26"
            ],
            [
             1,
             "#f0f921"
            ]
           ]
          },
          "colorway": [
           "#636efa",
           "#EF553B",
           "#00cc96",
           "#ab63fa",
           "#FFA15A",
           "#19d3f3",
           "#FF6692",
           "#B6E880",
           "#FF97FF",
           "#FECB52"
          ],
          "font": {
           "color": "#2a3f5f"
          },
          "geo": {
           "bgcolor": "white",
           "lakecolor": "white",
           "landcolor": "#E5ECF6",
           "showlakes": true,
           "showland": true,
           "subunitcolor": "white"
          },
          "hoverlabel": {
           "align": "left"
          },
          "hovermode": "closest",
          "mapbox": {
           "style": "light"
          },
          "paper_bgcolor": "white",
          "plot_bgcolor": "#E5ECF6",
          "polar": {
           "angularaxis": {
            "gridcolor": "white",
            "linecolor": "white",
            "ticks": ""
           },
           "bgcolor": "#E5ECF6",
           "radialaxis": {
            "gridcolor": "white",
            "linecolor": "white",
            "ticks": ""
           }
          },
          "scene": {
           "xaxis": {
            "backgroundcolor": "#E5ECF6",
            "gridcolor": "white",
            "gridwidth": 2,
            "linecolor": "white",
            "showbackground": true,
            "ticks": "",
            "zerolinecolor": "white"
           },
           "yaxis": {
            "backgroundcolor": "#E5ECF6",
            "gridcolor": "white",
            "gridwidth": 2,
            "linecolor": "white",
            "showbackground": true,
            "ticks": "",
            "zerolinecolor": "white"
           },
           "zaxis": {
            "backgroundcolor": "#E5ECF6",
            "gridcolor": "white",
            "gridwidth": 2,
            "linecolor": "white",
            "showbackground": true,
            "ticks": "",
            "zerolinecolor": "white"
           }
          },
          "shapedefaults": {
           "line": {
            "color": "#2a3f5f"
           }
          },
          "ternary": {
           "aaxis": {
            "gridcolor": "white",
            "linecolor": "white",
            "ticks": ""
           },
           "baxis": {
            "gridcolor": "white",
            "linecolor": "white",
            "ticks": ""
           },
           "bgcolor": "#E5ECF6",
           "caxis": {
            "gridcolor": "white",
            "linecolor": "white",
            "ticks": ""
           }
          },
          "title": {
           "x": 0.05
          },
          "xaxis": {
           "automargin": true,
           "gridcolor": "white",
           "linecolor": "white",
           "ticks": "",
           "title": {
            "standoff": 15
           },
           "zerolinecolor": "white",
           "zerolinewidth": 2
          },
          "yaxis": {
           "automargin": true,
           "gridcolor": "white",
           "linecolor": "white",
           "ticks": "",
           "title": {
            "standoff": 15
           },
           "zerolinecolor": "white",
           "zerolinewidth": 2
          }
         }
        },
        "title": {
         "text": "Top Term Frequencies (Text)"
        },
        "xaxis": {
         "anchor": "y",
         "domain": [
          0,
          1
         ],
         "rangeslider": {
          "visible": true
         },
         "tickangle": -90,
         "title": {
          "text": "Terms"
         }
        },
        "yaxis": {
         "anchor": "x",
         "domain": [
          0,
          1
         ],
         "title": {
          "text": "Log Frequency"
         }
        }
       }
      }
     },
     "metadata": {},
     "output_type": "display_data"
    }
   ],
   "source": [
    "import plotly.express as px\n",
    "\n",
    "top_n = 300  # Adjust as needed for performance\n",
    "use_log_scale = True  # Set to True to use log scale on y-axis\n",
    "\n",
    "feature_names = entropy_df_text['term'].values[:top_n].tolist()\n",
    "freqs = tf_text[cv_text.transform(feature_names).indices]\n",
    "log_freqs = np.log1p(freqs)  # Log scale for better visualization\n",
    "\n",
    "fig = px.bar(\n",
    "    x=feature_names, y=log_freqs if use_log_scale else freqs,\n",
    "    title='Top Term Frequencies (Text)',\n",
    "    labels={'x': 'Terms', 'y': 'Log Frequency' if use_log_scale else 'Frequency'},\n",
    "    custom_data=[freqs])\n",
    "fig.update_layout(xaxis_tickangle=-90)\n",
    "# Enable range slider for dragging and scrolling through terms\n",
    "fig.update_xaxes(rangeslider_visible=True)\n",
    "fig.update_traces(hovertemplate='Term: %{x}<br>Frequency: %{customdata[0]}')\n",
    "fig.show()"
   ]
  },
  {
   "cell_type": "code",
   "execution_count": 50,
   "metadata": {},
   "outputs": [
    {
     "data": {
      "application/vnd.plotly.v1+json": {
       "config": {
        "plotlyServerURL": "https://plot.ly"
       },
       "data": [
        {
         "customdata": {
          "bdata": "VQH7ANIAmACFAH8AfQB7AHoAaABnAGcAZgBhAFcAVgBVAFQAUgBJAEUARQBCAEIAQAA/AD0APAA6ADcANwA2ADUANQA0ADMAMwAyADIAMgAwADAALwAvAC8ALwAuAC4ALgAuAC4ALgAuAC4ALgAuAC4ALAAsACwALAAoACgAKAAoACgAKAAoACgAKAAoACgAKAAoACgAKAAnACYAJQAlACUAJAAkACQAJAAkACQAJAAkACQAJAAgACAAHwAfAB8AHwAfAB8AHwAfAB8AHwAfAB0AHQAdAB0AHQAdABwAHAAbABsAGwAbABsAGwAbABsAGwAbABsAGwAbABsAGwAaABkAGQAZABkAGQAXABcAFwAXABcAFwAXABcAFwAWABYAFAAUABQAFAAUABMAEgAPAA8ADgAOAAwADAAMAAwADAAMAAwADAAMAAwADAAMAAwADAALAAsACgAJAAgACAAIAAgACAAIAAgACAAIAAgACAAIAAgACAAHAAcABwAHAAcABwAHAAYABgAGAAYABgAGAAYABgAFAAUABQAFAAUABQAFAAUABQAFAAUABQAFAAUABQAEAAQABAAEAAQABAAEAAQABAAEAAQABAAEAAQABAAEAAQABAAEAAQAAwADAAMAAwADAAMAAwADAAMAAwADAAMAAwADAAMAAwADAAMAAwADAAMAAwADAAMAAwADAAMAAwADAAIAAgACAAIAAgACAAIAAgACAAIAAgACAAIAAgACAAIAAgACAAIAAgACAAIAAgACAAIAAgACAAIAAgACAAIAAgACAAIA",
          "dtype": "i2",
          "shape": "300, 1"
         },
         "hovertemplate": "Term: %{x}<br>Frequency: %{customdata[0]}",
         "legendgroup": "",
         "marker": {
          "color": "#636efa",
          "pattern": {
           "shape": ""
          }
         },
         "name": "",
         "orientation": "v",
         "showlegend": false,
         "textposition": "auto",
         "type": "bar",
         "x": [
          "the",
          "trump",
          "to",
          "is",
          "on",
          "2025",
          "for",
          "in",
          "china",
          "thread",
          "11",
          "weekend",
          "discussion",
          "of",
          "stocks",
          "with",
          "tariff",
          "us",
          "president",
          "policy",
          "tariffs",
          "his",
          "goods",
          "125",
          "now",
          "stock",
          "just",
          "10",
          "daily",
          "april",
          "data",
          "all",
          "you",
          "and",
          "treasuries",
          "one",
          "after",
          "apr",
          "friday",
          "fundamentals",
          "feel",
          "do",
          "day",
          "social",
          "about",
          "media",
          "it",
          "making",
          "market",
          "dollar",
          "decision",
          "own",
          "how",
          "back",
          "sitting",
          "pumping",
          "415m",
          "not",
          "dumping",
          "shows",
          "allies",
          "awful",
          "seeing",
          "call",
          "campaign",
          "begging",
          "everywhere",
          "silver",
          "jinping",
          "fucking",
          "value",
          "xi",
          "misinformation",
          "quickly",
          "look",
          "administration",
          "off",
          "are",
          "breaking",
          "crashing",
          "raises",
          "chair",
          "supreme",
          "reserve",
          "court",
          "authority",
          "jerome",
          "powell",
          "asked",
          "fire",
          "federal",
          "into",
          "has",
          "losing",
          "declined",
          "streak",
          "giant",
          "history",
          "weeks",
          "its",
          "consecutive",
          "longest",
          "target",
          "retail",
          "imported",
          "please",
          "responds",
          "right",
          "an",
          "145",
          "someone",
          "continues",
          "my",
          "rise",
          "hotline",
          "we",
          "post",
          "year",
          "as",
          "well",
          "really",
          "led",
          "yields",
          "doing",
          "treasury",
          "our",
          "sell",
          "portfolio",
          "quarterly",
          "complete",
          "rate",
          "should",
          "denial",
          "advisors",
          "idiots",
          "he",
          "bunch",
          "surrounded",
          "economic",
          "by",
          "sun",
          "launch",
          "analysis",
          "march",
          "menu",
          "wsb",
          "boys",
          "so",
          "retardation",
          "technical",
          "this",
          "anyone",
          "will",
          "lounge",
          "stockstobuytoday",
          "make",
          "bond",
          "lowest",
          "1952",
          "continuing",
          "plummets",
          "consumer",
          "14",
          "second",
          "crash",
          "going",
          "sentiment",
          "level",
          "records",
          "ipo",
          "trading",
          "be",
          "like",
          "esque",
          "formerly",
          "tanks",
          "good",
          "massively",
          "stable",
          "risky",
          "looking",
          "at",
          "warning",
          "what",
          "2008",
          "assets",
          "earnings",
          "up",
          "any",
          "18",
          "crypto",
          "weekly",
          "gainers",
          "following",
          "company",
          "very",
          "play",
          "give",
          "shorts",
          "under",
          "don",
          "today",
          "says",
          "global",
          "trust",
          "true",
          "new",
          "airo",
          "investors",
          "defense",
          "close",
          "short",
          "16",
          "coinbase",
          "recession",
          "too",
          "aerospace",
          "may",
          "why",
          "green",
          "me",
          "larry",
          "markets",
          "ideas",
          "they",
          "been",
          "dark",
          "fink",
          "finra",
          "unexpected",
          "shorted",
          "buy",
          "ticker",
          "performance",
          "futures",
          "blackrock",
          "pool",
          "invest",
          "stockmarket",
          "kavl",
          "if",
          "high",
          "lcid",
          "have",
          "fcel",
          "cn",
          "commitment",
          "undervalued",
          "than",
          "news",
          "dividend",
          "plug",
          "down",
          "potential",
          "trader",
          "sdc",
          "analyst",
          "tickets",
          "squeeze",
          "report",
          "recommendations",
          "mining",
          "gappers",
          "world",
          "float",
          "shoot",
          "rather",
          "securities",
          "ppsi",
          "read",
          "platform",
          "part",
          "shares",
          "out",
          "next",
          "old",
          "lives",
          "skt",
          "nasdaq",
          "naked",
          "nakd",
          "must",
          "more",
          "money",
          "lost",
          "miss",
          "spending",
          "member",
          "mega",
          "nkla",
          "threshold",
          "latest",
          "flow",
          "vs",
          "vcig",
          "cash",
          "cheap",
          "check",
          "climb",
          "clvs"
         ],
         "xaxis": "x",
         "y": {
          "bdata": "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",
          "dtype": "f8"
         },
         "yaxis": "y"
        }
       ],
       "layout": {
        "barmode": "relative",
        "legend": {
         "tracegroupgap": 0
        },
        "template": {
         "data": {
          "bar": [
           {
            "error_x": {
             "color": "#2a3f5f"
            },
            "error_y": {
             "color": "#2a3f5f"
            },
            "marker": {
             "line": {
              "color": "#E5ECF6",
              "width": 0.5
             },
             "pattern": {
              "fillmode": "overlay",
              "size": 10,
              "solidity": 0.2
             }
            },
            "type": "bar"
           }
          ],
          "barpolar": [
           {
            "marker": {
             "line": {
              "color": "#E5ECF6",
              "width": 0.5
             },
             "pattern": {
              "fillmode": "overlay",
              "size": 10,
              "solidity": 0.2
             }
            },
            "type": "barpolar"
           }
          ],
          "carpet": [
           {
            "aaxis": {
             "endlinecolor": "#2a3f5f",
             "gridcolor": "white",
             "linecolor": "white",
             "minorgridcolor": "white",
             "startlinecolor": "#2a3f5f"
            },
            "baxis": {
             "endlinecolor": "#2a3f5f",
             "gridcolor": "white",
             "linecolor": "white",
             "minorgridcolor": "white",
             "startlinecolor": "#2a3f5f"
            },
            "type": "carpet"
           }
          ],
          "choropleth": [
           {
            "colorbar": {
             "outlinewidth": 0,
             "ticks": ""
            },
            "type": "choropleth"
           }
          ],
          "contour": [
           {
            "colorbar": {
             "outlinewidth": 0,
             "ticks": ""
            },
            "colorscale": [
             [
              0,
              "#0d0887"
             ],
             [
              0.1111111111111111,
              "#46039f"
             ],
             [
              0.2222222222222222,
              "#7201a8"
             ],
             [
              0.3333333333333333,
              "#9c179e"
             ],
             [
              0.4444444444444444,
              "#bd3786"
             ],
             [
              0.5555555555555556,
              "#d8576b"
             ],
             [
              0.6666666666666666,
              "#ed7953"
             ],
             [
              0.7777777777777778,
              "#fb9f3a"
             ],
             [
              0.8888888888888888,
              "#fdca26"
             ],
             [
              1,
              "#f0f921"
             ]
            ],
            "type": "contour"
           }
          ],
          "contourcarpet": [
           {
            "colorbar": {
             "outlinewidth": 0,
             "ticks": ""
            },
            "type": "contourcarpet"
           }
          ],
          "heatmap": [
           {
            "colorbar": {
             "outlinewidth": 0,
             "ticks": ""
            },
            "colorscale": [
             [
              0,
              "#0d0887"
             ],
             [
              0.1111111111111111,
              "#46039f"
             ],
             [
              0.2222222222222222,
              "#7201a8"
             ],
             [
              0.3333333333333333,
              "#9c179e"
             ],
             [
              0.4444444444444444,
              "#bd3786"
             ],
             [
              0.5555555555555556,
              "#d8576b"
             ],
             [
              0.6666666666666666,
              "#ed7953"
             ],
             [
              0.7777777777777778,
              "#fb9f3a"
             ],
             [
              0.8888888888888888,
              "#fdca26"
             ],
             [
              1,
              "#f0f921"
             ]
            ],
            "type": "heatmap"
           }
          ],
          "histogram": [
           {
            "marker": {
             "pattern": {
              "fillmode": "overlay",
              "size": 10,
              "solidity": 0.2
             }
            },
            "type": "histogram"
           }
          ],
          "histogram2d": [
           {
            "colorbar": {
             "outlinewidth": 0,
             "ticks": ""
            },
            "colorscale": [
             [
              0,
              "#0d0887"
             ],
             [
              0.1111111111111111,
              "#46039f"
             ],
             [
              0.2222222222222222,
              "#7201a8"
             ],
             [
              0.3333333333333333,
              "#9c179e"
             ],
             [
              0.4444444444444444,
              "#bd3786"
             ],
             [
              0.5555555555555556,
              "#d8576b"
             ],
             [
              0.6666666666666666,
              "#ed7953"
             ],
             [
              0.7777777777777778,
              "#fb9f3a"
             ],
             [
              0.8888888888888888,
              "#fdca26"
             ],
             [
              1,
              "#f0f921"
             ]
            ],
            "type": "histogram2d"
           }
          ],
          "histogram2dcontour": [
           {
            "colorbar": {
             "outlinewidth": 0,
             "ticks": ""
            },
            "colorscale": [
             [
              0,
              "#0d0887"
             ],
             [
              0.1111111111111111,
              "#46039f"
             ],
             [
              0.2222222222222222,
              "#7201a8"
             ],
             [
              0.3333333333333333,
              "#9c179e"
             ],
             [
              0.4444444444444444,
              "#bd3786"
             ],
             [
              0.5555555555555556,
              "#d8576b"
             ],
             [
              0.6666666666666666,
              "#ed7953"
             ],
             [
              0.7777777777777778,
              "#fb9f3a"
             ],
             [
              0.8888888888888888,
              "#fdca26"
             ],
             [
              1,
              "#f0f921"
             ]
            ],
            "type": "histogram2dcontour"
           }
          ],
          "mesh3d": [
           {
            "colorbar": {
             "outlinewidth": 0,
             "ticks": ""
            },
            "type": "mesh3d"
           }
          ],
          "parcoords": [
           {
            "line": {
             "colorbar": {
              "outlinewidth": 0,
              "ticks": ""
             }
            },
            "type": "parcoords"
           }
          ],
          "pie": [
           {
            "automargin": true,
            "type": "pie"
           }
          ],
          "scatter": [
           {
            "fillpattern": {
             "fillmode": "overlay",
             "size": 10,
             "solidity": 0.2
            },
            "type": "scatter"
           }
          ],
          "scatter3d": [
           {
            "line": {
             "colorbar": {
              "outlinewidth": 0,
              "ticks": ""
             }
            },
            "marker": {
             "colorbar": {
              "outlinewidth": 0,
              "ticks": ""
             }
            },
            "type": "scatter3d"
           }
          ],
          "scattercarpet": [
           {
            "marker": {
             "colorbar": {
              "outlinewidth": 0,
              "ticks": ""
             }
            },
            "type": "scattercarpet"
           }
          ],
          "scattergeo": [
           {
            "marker": {
             "colorbar": {
              "outlinewidth": 0,
              "ticks": ""
             }
            },
            "type": "scattergeo"
           }
          ],
          "scattergl": [
           {
            "marker": {
             "colorbar": {
              "outlinewidth": 0,
              "ticks": ""
             }
            },
            "type": "scattergl"
           }
          ],
          "scattermap": [
           {
            "marker": {
             "colorbar": {
              "outlinewidth": 0,
              "ticks": ""
             }
            },
            "type": "scattermap"
           }
          ],
          "scattermapbox": [
           {
            "marker": {
             "colorbar": {
              "outlinewidth": 0,
              "ticks": ""
             }
            },
            "type": "scattermapbox"
           }
          ],
          "scatterpolar": [
           {
            "marker": {
             "colorbar": {
              "outlinewidth": 0,
              "ticks": ""
             }
            },
            "type": "scatterpolar"
           }
          ],
          "scatterpolargl": [
           {
            "marker": {
             "colorbar": {
              "outlinewidth": 0,
              "ticks": ""
             }
            },
            "type": "scatterpolargl"
           }
          ],
          "scatterternary": [
           {
            "marker": {
             "colorbar": {
              "outlinewidth": 0,
              "ticks": ""
             }
            },
            "type": "scatterternary"
           }
          ],
          "surface": [
           {
            "colorbar": {
             "outlinewidth": 0,
             "ticks": ""
            },
            "colorscale": [
             [
              0,
              "#0d0887"
             ],
             [
              0.1111111111111111,
              "#46039f"
             ],
             [
              0.2222222222222222,
              "#7201a8"
             ],
             [
              0.3333333333333333,
              "#9c179e"
             ],
             [
              0.4444444444444444,
              "#bd3786"
             ],
             [
              0.5555555555555556,
              "#d8576b"
             ],
             [
              0.6666666666666666,
              "#ed7953"
             ],
             [
              0.7777777777777778,
              "#fb9f3a"
             ],
             [
              0.8888888888888888,
              "#fdca26"
             ],
             [
              1,
              "#f0f921"
             ]
            ],
            "type": "surface"
           }
          ],
          "table": [
           {
            "cells": {
             "fill": {
              "color": "#EBF0F8"
             },
             "line": {
              "color": "white"
             }
            },
            "header": {
             "fill": {
              "color": "#C8D4E3"
             },
             "line": {
              "color": "white"
             }
            },
            "type": "table"
           }
          ]
         },
         "layout": {
          "annotationdefaults": {
           "arrowcolor": "#2a3f5f",
           "arrowhead": 0,
           "arrowwidth": 1
          },
          "autotypenumbers": "strict",
          "coloraxis": {
           "colorbar": {
            "outlinewidth": 0,
            "ticks": ""
           }
          },
          "colorscale": {
           "diverging": [
            [
             0,
             "#8e0152"
            ],
            [
             0.1,
             "#c51b7d"
            ],
            [
             0.2,
             "#de77ae"
            ],
            [
             0.3,
             "#f1b6da"
            ],
            [
             0.4,
             "#fde0ef"
            ],
            [
             0.5,
             "#f7f7f7"
            ],
            [
             0.6,
             "#e6f5d0"
            ],
            [
             0.7,
             "#b8e186"
            ],
            [
             0.8,
             "#7fbc41"
            ],
            [
             0.9,
             "#4d9221"
            ],
            [
             1,
             "#276419"
            ]
           ],
           "sequential": [
            [
             0,
             "#0d0887"
            ],
            [
             0.1111111111111111,
             "#46039f"
            ],
            [
             0.2222222222222222,
             "#7201a8"
            ],
            [
             0.3333333333333333,
             "#9c179e"
            ],
            [
             0.4444444444444444,
             "#bd3786"
            ],
            [
             0.5555555555555556,
             "#d8576b"
            ],
            [
             0.6666666666666666,
             "#ed7953"
            ],
            [
             0.7777777777777778,
             "#fb9f3a"
            ],
            [
             0.8888888888888888,
             "#fdca26"
            ],
            [
             1,
             "#f0f921"
            ]
           ],
           "sequentialminus": [
            [
             0,
             "#0d0887"
            ],
            [
             0.1111111111111111,
             "#46039f"
            ],
            [
             0.2222222222222222,
             "#7201a8"
            ],
            [
             0.3333333333333333,
             "#9c179e"
            ],
            [
             0.4444444444444444,
             "#bd3786"
            ],
            [
             0.5555555555555556,
             "#d8576b"
            ],
            [
             0.6666666666666666,
             "#ed7953"
            ],
            [
             0.7777777777777778,
             "#fb9f3a"
            ],
            [
             0.8888888888888888,
             "#fdca26"
            ],
            [
             1,
             "#f0f921"
            ]
           ]
          },
          "colorway": [
           "#636efa",
           "#EF553B",
           "#00cc96",
           "#ab63fa",
           "#FFA15A",
           "#19d3f3",
           "#FF6692",
           "#B6E880",
           "#FF97FF",
           "#FECB52"
          ],
          "font": {
           "color": "#2a3f5f"
          },
          "geo": {
           "bgcolor": "white",
           "lakecolor": "white",
           "landcolor": "#E5ECF6",
           "showlakes": true,
           "showland": true,
           "subunitcolor": "white"
          },
          "hoverlabel": {
           "align": "left"
          },
          "hovermode": "closest",
          "mapbox": {
           "style": "light"
          },
          "paper_bgcolor": "white",
          "plot_bgcolor": "#E5ECF6",
          "polar": {
           "angularaxis": {
            "gridcolor": "white",
            "linecolor": "white",
            "ticks": ""
           },
           "bgcolor": "#E5ECF6",
           "radialaxis": {
            "gridcolor": "white",
            "linecolor": "white",
            "ticks": ""
           }
          },
          "scene": {
           "xaxis": {
            "backgroundcolor": "#E5ECF6",
            "gridcolor": "white",
            "gridwidth": 2,
            "linecolor": "white",
            "showbackground": true,
            "ticks": "",
            "zerolinecolor": "white"
           },
           "yaxis": {
            "backgroundcolor": "#E5ECF6",
            "gridcolor": "white",
            "gridwidth": 2,
            "linecolor": "white",
            "showbackground": true,
            "ticks": "",
            "zerolinecolor": "white"
           },
           "zaxis": {
            "backgroundcolor": "#E5ECF6",
            "gridcolor": "white",
            "gridwidth": 2,
            "linecolor": "white",
            "showbackground": true,
            "ticks": "",
            "zerolinecolor": "white"
           }
          },
          "shapedefaults": {
           "line": {
            "color": "#2a3f5f"
           }
          },
          "ternary": {
           "aaxis": {
            "gridcolor": "white",
            "linecolor": "white",
            "ticks": ""
           },
           "baxis": {
            "gridcolor": "white",
            "linecolor": "white",
            "ticks": ""
           },
           "bgcolor": "#E5ECF6",
           "caxis": {
            "gridcolor": "white",
            "linecolor": "white",
            "ticks": ""
           }
          },
          "title": {
           "x": 0.05
          },
          "xaxis": {
           "automargin": true,
           "gridcolor": "white",
           "linecolor": "white",
           "ticks": "",
           "title": {
            "standoff": 15
           },
           "zerolinecolor": "white",
           "zerolinewidth": 2
          },
          "yaxis": {
           "automargin": true,
           "gridcolor": "white",
           "linecolor": "white",
           "ticks": "",
           "title": {
            "standoff": 15
           },
           "zerolinecolor": "white",
           "zerolinewidth": 2
          }
         }
        },
        "title": {
         "text": "Top Term Frequencies (Title)"
        },
        "xaxis": {
         "anchor": "y",
         "domain": [
          0,
          1
         ],
         "rangeslider": {
          "visible": true
         },
         "tickangle": -90,
         "title": {
          "text": "Terms"
         }
        },
        "yaxis": {
         "anchor": "x",
         "domain": [
          0,
          1
         ],
         "title": {
          "text": "Log Frequency"
         }
        }
       }
      }
     },
     "metadata": {},
     "output_type": "display_data"
    }
   ],
   "source": [
    "import plotly.express as px\n",
    "\n",
    "top_n = 300  # Adjust as needed for performance\n",
    "use_log_scale = True  # Set to True to use log scale on y-axis\n",
    "\n",
    "feature_names = entropy_df_title['term'].values[:top_n].tolist()\n",
    "freqs = tf_title[cv_title.transform(feature_names).indices]\n",
    "log_freqs = np.log1p(freqs)  # Log scale for better visualization\n",
    "\n",
    "fig = px.bar(\n",
    "    x=feature_names, y=log_freqs if use_log_scale else freqs,\n",
    "    title='Top Term Frequencies (Title)',\n",
    "    labels={'x': 'Terms', 'y': 'Log Frequency' if use_log_scale else 'Frequency'},\n",
    "    custom_data=[freqs])\n",
    "fig.update_layout(xaxis_tickangle=-90)\n",
    "# Enable range slider for dragging and scrolling through terms\n",
    "fig.update_xaxes(rangeslider_visible=True)\n",
    "fig.update_traces(hovertemplate='Term: %{x}<br>Frequency: %{customdata[0]}')\n",
    "fig.show()"
   ]
  },
  {
   "cell_type": "markdown",
   "metadata": {},
   "source": [
    "\n",
    "##### >>> **Exercise 14** \n",
    "Additionally, you can attempt to sort the terms on the `x-axis` by frequency instead of in alphabetical order. This way the visualization is more meaninfgul and you will be able to observe the so called [long tail](https://en.wikipedia.org/wiki/Long_tail) (get familiar with this term since it will appear a lot in data mining and other statistics courses).\n",
    "\n",
    "##### >>> **Exercise 15** \n",
    "You can copy the code from the previous exercise and change the 'term_frequencies' variable for the 'term_frequencies_log', comment about the differences that you observe and talk about other possible insights that we can get from a log distribution."
   ]
  },
  {
   "cell_type": "code",
   "execution_count": 51,
   "metadata": {},
   "outputs": [
    {
     "data": {
      "application/vnd.plotly.v1+json": {
       "config": {
        "plotlyServerURL": "https://plot.ly"
       },
       "data": [
        {
         "customdata": {
          "bdata": "lwM2AugBkgFeATcBHgHuANUA1QDDAKsAmgCVAIYAhAB/AH4AdwBzAG4AbABrAGYAYQBhAGAAXwBeAFwAXABZAFgAVQBTAFEAUQBMAEgASABIAEMAPgA+AD4APQA6ADkANwA3ADYANQA0ADQANAA0ADMAMwAzADIAMAAvAC4ALgAtAC0ALQArACoAKQApACcAJwAmACUAJQAkACQAJAAkACQAIwAiACIAIgAhACAAIAAgAB8AHgAeAB0AHQAdABwAHAAbABsAGwAbABsAGwAaABoAGgAaABoAGQAZABkAGQAYABgAGAAYABgAGAAXABcAFwAXABcAFwAXABcAFgAWABYAFgAWABYAFgAVABUAFQAVABUAFQAVABQAFAAUABQAEwATABMAEwATABMAEwATABIAEgASABIAEgASABIAEgASABIAEgASABIAEgARABEAEQARABEAEQARABEAEQAQABAAEAAQABAAEAAQABAAEAAQABAAEAAQABAAEAAQAA8ADwAPAA8ADwAPAA8ADwAPAA8ADwAOAA4ADgAOAA4ADgAOAA4ADgAOAA4ADgAOAA4ADQANAA0ADQANAA0ADQANAA0ADQANAA0ADQANAA0ADQANAA0ADAAMAAwADAAMAAwADAAMAAwADAAMAAwADAAMAAwADAAMAAwADAAMAAwADAAMAAsACwALAAsACwALAAsACwALAAsACwALAAsACwALAAsACwALAAsACwALAAsACwALAAsACwALAAoACgAKAAoACgAKAAoACgAKAAoACgAKAAoACgAKAAoA",
          "dtype": "i2",
          "shape": "300, 1"
         },
         "hovertemplate": "Term: %{x}<br>Frequency: %{customdata[0]}",
         "legendgroup": "",
         "marker": {
          "color": "#636efa",
          "pattern": {
           "shape": ""
          }
         },
         "name": "",
         "orientation": "v",
         "showlegend": false,
         "textposition": "auto",
         "type": "bar",
         "x": [
          "the",
          "to",
          "and",
          "is",
          "it",
          "of",
          "in",
          "that",
          "for",
          "this",
          "you",
          "on",
          "are",
          "they",
          "be",
          "he",
          "will",
          "with",
          "if",
          "as",
          "market",
          "but",
          "not",
          "so",
          "all",
          "have",
          "us",
          "just",
          "was",
          "at",
          "trump",
          "my",
          "what",
          "can",
          "like",
          "or",
          "we",
          "has",
          "about",
          "china",
          "their",
          "more",
          "from",
          "now",
          "there",
          "no",
          "by",
          "re",
          "how",
          "up",
          "one",
          "do",
          "even",
          "some",
          "them",
          "think",
          "his",
          "people",
          "stock",
          "going",
          "your",
          "an",
          "good",
          "money",
          "any",
          "out",
          "would",
          "see",
          "when",
          "than",
          "who",
          "only",
          "tariffs",
          "why",
          "been",
          "get",
          "him",
          "make",
          "other",
          "price",
          "time",
          "want",
          "don",
          "into",
          "me",
          "then",
          "doing",
          "down",
          "over",
          "could",
          "because",
          "futures",
          "company",
          "right",
          "silver",
          "still",
          "x200b",
          "after",
          "day",
          "go",
          "our",
          "should",
          "years",
          "also",
          "economy",
          "here",
          "today",
          "world",
          "did",
          "first",
          "much",
          "stocks",
          "buy",
          "doesn",
          "dollar",
          "last",
          "really",
          "way",
          "companies",
          "know",
          "long",
          "most",
          "off",
          "too",
          "well",
          "were",
          "com",
          "does",
          "its",
          "new",
          "stockbuyvest",
          "these",
          "week",
          "10",
          "back",
          "everyone",
          "sell",
          "since",
          "trade",
          "year",
          "better",
          "ll",
          "ve",
          "which",
          "american",
          "bad",
          "call",
          "every",
          "look",
          "looking",
          "same",
          "xi",
          "already",
          "emote",
          "fuck",
          "high",
          "img",
          "need",
          "never",
          "own",
          "say",
          "someone",
          "t5_2th52",
          "term",
          "things",
          "wants",
          "anything",
          "isn",
          "let",
          "many",
          "may",
          "point",
          "take",
          "thing",
          "trading",
          "am",
          "america",
          "before",
          "big",
          "bond",
          "bonds",
          "got",
          "had",
          "investors",
          "literally",
          "news",
          "president",
          "seems",
          "selling",
          "shit",
          "where",
          "always",
          "country",
          "daily",
          "end",
          "feel",
          "higher",
          "hold",
          "invest",
          "reason",
          "usa",
          "war",
          "again",
          "calls",
          "didn",
          "few",
          "future",
          "gold",
          "made",
          "next",
          "nothing",
          "portfolio",
          "put",
          "something",
          "sure",
          "technology",
          "another",
          "anyone",
          "buying",
          "chinese",
          "come",
          "countries",
          "data",
          "deal",
          "everything",
          "least",
          "might",
          "pretty",
          "reddit",
          "she",
          "tariff",
          "updated",
          "without",
          "worse",
          "50",
          "ago",
          "currently",
          "done",
          "else",
          "far",
          "great",
          "happening",
          "industry",
          "lose",
          "lot",
          "lower",
          "plan",
          "please",
          "power",
          "puts",
          "real",
          "said",
          "spy",
          "target",
          "usd",
          "won",
          "work",
          "100",
          "actually",
          "believe",
          "called",
          "cash",
          "ever",
          "fed",
          "free",
          "getting",
          "gonna",
          "growth",
          "happen",
          "investment",
          "life",
          "lithium",
          "lol",
          "making",
          "moving",
          "probably",
          "rates",
          "rest",
          "risk",
          "seen",
          "star",
          "very",
          "went",
          "while",
          "administration",
          "analysis",
          "around",
          "being",
          "both",
          "days",
          "earnings",
          "government",
          "group",
          "haven",
          "help",
          "idea",
          "little",
          "love",
          "markets",
          "maybe"
         ],
         "xaxis": "x",
         "y": {
          "bdata": "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",
          "dtype": "f8"
         },
         "yaxis": "y"
        }
       ],
       "layout": {
        "barmode": "relative",
        "legend": {
         "tracegroupgap": 0
        },
        "template": {
         "data": {
          "bar": [
           {
            "error_x": {
             "color": "#2a3f5f"
            },
            "error_y": {
             "color": "#2a3f5f"
            },
            "marker": {
             "line": {
              "color": "#E5ECF6",
              "width": 0.5
             },
             "pattern": {
              "fillmode": "overlay",
              "size": 10,
              "solidity": 0.2
             }
            },
            "type": "bar"
           }
          ],
          "barpolar": [
           {
            "marker": {
             "line": {
              "color": "#E5ECF6",
              "width": 0.5
             },
             "pattern": {
              "fillmode": "overlay",
              "size": 10,
              "solidity": 0.2
             }
            },
            "type": "barpolar"
           }
          ],
          "carpet": [
           {
            "aaxis": {
             "endlinecolor": "#2a3f5f",
             "gridcolor": "white",
             "linecolor": "white",
             "minorgridcolor": "white",
             "startlinecolor": "#2a3f5f"
            },
            "baxis": {
             "endlinecolor": "#2a3f5f",
             "gridcolor": "white",
             "linecolor": "white",
             "minorgridcolor": "white",
             "startlinecolor": "#2a3f5f"
            },
            "type": "carpet"
           }
          ],
          "choropleth": [
           {
            "colorbar": {
             "outlinewidth": 0,
             "ticks": ""
            },
            "type": "choropleth"
           }
          ],
          "contour": [
           {
            "colorbar": {
             "outlinewidth": 0,
             "ticks": ""
            },
            "colorscale": [
             [
              0,
              "#0d0887"
             ],
             [
              0.1111111111111111,
              "#46039f"
             ],
             [
              0.2222222222222222,
              "#7201a8"
             ],
             [
              0.3333333333333333,
              "#9c179e"
             ],
             [
              0.4444444444444444,
              "#bd3786"
             ],
             [
              0.5555555555555556,
              "#d8576b"
             ],
             [
              0.6666666666666666,
              "#ed7953"
             ],
             [
              0.7777777777777778,
              "#fb9f3a"
             ],
             [
              0.8888888888888888,
              "#fdca26"
             ],
             [
              1,
              "#f0f921"
             ]
            ],
            "type": "contour"
           }
          ],
          "contourcarpet": [
           {
            "colorbar": {
             "outlinewidth": 0,
             "ticks": ""
            },
            "type": "contourcarpet"
           }
          ],
          "heatmap": [
           {
            "colorbar": {
             "outlinewidth": 0,
             "ticks": ""
            },
            "colorscale": [
             [
              0,
              "#0d0887"
             ],
             [
              0.1111111111111111,
              "#46039f"
             ],
             [
              0.2222222222222222,
              "#7201a8"
             ],
             [
              0.3333333333333333,
              "#9c179e"
             ],
             [
              0.4444444444444444,
              "#bd3786"
             ],
             [
              0.5555555555555556,
              "#d8576b"
             ],
             [
              0.6666666666666666,
              "#ed7953"
             ],
             [
              0.7777777777777778,
              "#fb9f3a"
             ],
             [
              0.8888888888888888,
              "#fdca26"
             ],
             [
              1,
              "#f0f921"
             ]
            ],
            "type": "heatmap"
           }
          ],
          "histogram": [
           {
            "marker": {
             "pattern": {
              "fillmode": "overlay",
              "size": 10,
              "solidity": 0.2
             }
            },
            "type": "histogram"
           }
          ],
          "histogram2d": [
           {
            "colorbar": {
             "outlinewidth": 0,
             "ticks": ""
            },
            "colorscale": [
             [
              0,
              "#0d0887"
             ],
             [
              0.1111111111111111,
              "#46039f"
             ],
             [
              0.2222222222222222,
              "#7201a8"
             ],
             [
              0.3333333333333333,
              "#9c179e"
             ],
             [
              0.4444444444444444,
              "#bd3786"
             ],
             [
              0.5555555555555556,
              "#d8576b"
             ],
             [
              0.6666666666666666,
              "#ed7953"
             ],
             [
              0.7777777777777778,
              "#fb9f3a"
             ],
             [
              0.8888888888888888,
              "#fdca26"
             ],
             [
              1,
              "#f0f921"
             ]
            ],
            "type": "histogram2d"
           }
          ],
          "histogram2dcontour": [
           {
            "colorbar": {
             "outlinewidth": 0,
             "ticks": ""
            },
            "colorscale": [
             [
              0,
              "#0d0887"
             ],
             [
              0.1111111111111111,
              "#46039f"
             ],
             [
              0.2222222222222222,
              "#7201a8"
             ],
             [
              0.3333333333333333,
              "#9c179e"
             ],
             [
              0.4444444444444444,
              "#bd3786"
             ],
             [
              0.5555555555555556,
              "#d8576b"
             ],
             [
              0.6666666666666666,
              "#ed7953"
             ],
             [
              0.7777777777777778,
              "#fb9f3a"
             ],
             [
              0.8888888888888888,
              "#fdca26"
             ],
             [
              1,
              "#f0f921"
             ]
            ],
            "type": "histogram2dcontour"
           }
          ],
          "mesh3d": [
           {
            "colorbar": {
             "outlinewidth": 0,
             "ticks": ""
            },
            "type": "mesh3d"
           }
          ],
          "parcoords": [
           {
            "line": {
             "colorbar": {
              "outlinewidth": 0,
              "ticks": ""
             }
            },
            "type": "parcoords"
           }
          ],
          "pie": [
           {
            "automargin": true,
            "type": "pie"
           }
          ],
          "scatter": [
           {
            "fillpattern": {
             "fillmode": "overlay",
             "size": 10,
             "solidity": 0.2
            },
            "type": "scatter"
           }
          ],
          "scatter3d": [
           {
            "line": {
             "colorbar": {
              "outlinewidth": 0,
              "ticks": ""
             }
            },
            "marker": {
             "colorbar": {
              "outlinewidth": 0,
              "ticks": ""
             }
            },
            "type": "scatter3d"
           }
          ],
          "scattercarpet": [
           {
            "marker": {
             "colorbar": {
              "outlinewidth": 0,
              "ticks": ""
             }
            },
            "type": "scattercarpet"
           }
          ],
          "scattergeo": [
           {
            "marker": {
             "colorbar": {
              "outlinewidth": 0,
              "ticks": ""
             }
            },
            "type": "scattergeo"
           }
          ],
          "scattergl": [
           {
            "marker": {
             "colorbar": {
              "outlinewidth": 0,
              "ticks": ""
             }
            },
            "type": "scattergl"
           }
          ],
          "scattermap": [
           {
            "marker": {
             "colorbar": {
              "outlinewidth": 0,
              "ticks": ""
             }
            },
            "type": "scattermap"
           }
          ],
          "scattermapbox": [
           {
            "marker": {
             "colorbar": {
              "outlinewidth": 0,
              "ticks": ""
             }
            },
            "type": "scattermapbox"
           }
          ],
          "scatterpolar": [
           {
            "marker": {
             "colorbar": {
              "outlinewidth": 0,
              "ticks": ""
             }
            },
            "type": "scatterpolar"
           }
          ],
          "scatterpolargl": [
           {
            "marker": {
             "colorbar": {
              "outlinewidth": 0,
              "ticks": ""
             }
            },
            "type": "scatterpolargl"
           }
          ],
          "scatterternary": [
           {
            "marker": {
             "colorbar": {
              "outlinewidth": 0,
              "ticks": ""
             }
            },
            "type": "scatterternary"
           }
          ],
          "surface": [
           {
            "colorbar": {
             "outlinewidth": 0,
             "ticks": ""
            },
            "colorscale": [
             [
              0,
              "#0d0887"
             ],
             [
              0.1111111111111111,
              "#46039f"
             ],
             [
              0.2222222222222222,
              "#7201a8"
             ],
             [
              0.3333333333333333,
              "#9c179e"
             ],
             [
              0.4444444444444444,
              "#bd3786"
             ],
             [
              0.5555555555555556,
              "#d8576b"
             ],
             [
              0.6666666666666666,
              "#ed7953"
             ],
             [
              0.7777777777777778,
              "#fb9f3a"
             ],
             [
              0.8888888888888888,
              "#fdca26"
             ],
             [
              1,
              "#f0f921"
             ]
            ],
            "type": "surface"
           }
          ],
          "table": [
           {
            "cells": {
             "fill": {
              "color": "#EBF0F8"
             },
             "line": {
              "color": "white"
             }
            },
            "header": {
             "fill": {
              "color": "#C8D4E3"
             },
             "line": {
              "color": "white"
             }
            },
            "type": "table"
           }
          ]
         },
         "layout": {
          "annotationdefaults": {
           "arrowcolor": "#2a3f5f",
           "arrowhead": 0,
           "arrowwidth": 1
          },
          "autotypenumbers": "strict",
          "coloraxis": {
           "colorbar": {
            "outlinewidth": 0,
            "ticks": ""
           }
          },
          "colorscale": {
           "diverging": [
            [
             0,
             "#8e0152"
            ],
            [
             0.1,
             "#c51b7d"
            ],
            [
             0.2,
             "#de77ae"
            ],
            [
             0.3,
             "#f1b6da"
            ],
            [
             0.4,
             "#fde0ef"
            ],
            [
             0.5,
             "#f7f7f7"
            ],
            [
             0.6,
             "#e6f5d0"
            ],
            [
             0.7,
             "#b8e186"
            ],
            [
             0.8,
             "#7fbc41"
            ],
            [
             0.9,
             "#4d9221"
            ],
            [
             1,
             "#276419"
            ]
           ],
           "sequential": [
            [
             0,
             "#0d0887"
            ],
            [
             0.1111111111111111,
             "#46039f"
            ],
            [
             0.2222222222222222,
             "#7201a8"
            ],
            [
             0.3333333333333333,
             "#9c179e"
            ],
            [
             0.4444444444444444,
             "#bd3786"
            ],
            [
             0.5555555555555556,
             "#d8576b"
            ],
            [
             0.6666666666666666,
             "#ed7953"
            ],
            [
             0.7777777777777778,
             "#fb9f3a"
            ],
            [
             0.8888888888888888,
             "#fdca26"
            ],
            [
             1,
             "#f0f921"
            ]
           ],
           "sequentialminus": [
            [
             0,
             "#0d0887"
            ],
            [
             0.1111111111111111,
             "#46039f"
            ],
            [
             0.2222222222222222,
             "#7201a8"
            ],
            [
             0.3333333333333333,
             "#9c179e"
            ],
            [
             0.4444444444444444,
             "#bd3786"
            ],
            [
             0.5555555555555556,
             "#d8576b"
            ],
            [
             0.6666666666666666,
             "#ed7953"
            ],
            [
             0.7777777777777778,
             "#fb9f3a"
            ],
            [
             0.8888888888888888,
             "#fdca26"
            ],
            [
             1,
             "#f0f921"
            ]
           ]
          },
          "colorway": [
           "#636efa",
           "#EF553B",
           "#00cc96",
           "#ab63fa",
           "#FFA15A",
           "#19d3f3",
           "#FF6692",
           "#B6E880",
           "#FF97FF",
           "#FECB52"
          ],
          "font": {
           "color": "#2a3f5f"
          },
          "geo": {
           "bgcolor": "white",
           "lakecolor": "white",
           "landcolor": "#E5ECF6",
           "showlakes": true,
           "showland": true,
           "subunitcolor": "white"
          },
          "hoverlabel": {
           "align": "left"
          },
          "hovermode": "closest",
          "mapbox": {
           "style": "light"
          },
          "paper_bgcolor": "white",
          "plot_bgcolor": "#E5ECF6",
          "polar": {
           "angularaxis": {
            "gridcolor": "white",
            "linecolor": "white",
            "ticks": ""
           },
           "bgcolor": "#E5ECF6",
           "radialaxis": {
            "gridcolor": "white",
            "linecolor": "white",
            "ticks": ""
           }
          },
          "scene": {
           "xaxis": {
            "backgroundcolor": "#E5ECF6",
            "gridcolor": "white",
            "gridwidth": 2,
            "linecolor": "white",
            "showbackground": true,
            "ticks": "",
            "zerolinecolor": "white"
           },
           "yaxis": {
            "backgroundcolor": "#E5ECF6",
            "gridcolor": "white",
            "gridwidth": 2,
            "linecolor": "white",
            "showbackground": true,
            "ticks": "",
            "zerolinecolor": "white"
           },
           "zaxis": {
            "backgroundcolor": "#E5ECF6",
            "gridcolor": "white",
            "gridwidth": 2,
            "linecolor": "white",
            "showbackground": true,
            "ticks": "",
            "zerolinecolor": "white"
           }
          },
          "shapedefaults": {
           "line": {
            "color": "#2a3f5f"
           }
          },
          "ternary": {
           "aaxis": {
            "gridcolor": "white",
            "linecolor": "white",
            "ticks": ""
           },
           "baxis": {
            "gridcolor": "white",
            "linecolor": "white",
            "ticks": ""
           },
           "bgcolor": "#E5ECF6",
           "caxis": {
            "gridcolor": "white",
            "linecolor": "white",
            "ticks": ""
           }
          },
          "title": {
           "x": 0.05
          },
          "xaxis": {
           "automargin": true,
           "gridcolor": "white",
           "linecolor": "white",
           "ticks": "",
           "title": {
            "standoff": 15
           },
           "zerolinecolor": "white",
           "zerolinewidth": 2
          },
          "yaxis": {
           "automargin": true,
           "gridcolor": "white",
           "linecolor": "white",
           "ticks": "",
           "title": {
            "standoff": 15
           },
           "zerolinecolor": "white",
           "zerolinewidth": 2
          }
         }
        },
        "title": {
         "text": "Top Term Frequencies"
        },
        "xaxis": {
         "anchor": "y",
         "domain": [
          0,
          1
         ],
         "rangeslider": {
          "visible": true
         },
         "tickangle": -90,
         "title": {
          "text": "Terms"
         }
        },
        "yaxis": {
         "anchor": "x",
         "domain": [
          0,
          1
         ],
         "title": {
          "text": "Log Frequency"
         }
        }
       }
      }
     },
     "metadata": {},
     "output_type": "display_data"
    }
   ],
   "source": [
    "import plotly.express as px\n",
    "\n",
    "top_n = 300  # Adjust as needed for performance\n",
    "use_log_scale = True  # Set to True to use log scale on y-axis\n",
    "\n",
    "feature_names = sorted(\n",
    "    cv_text.get_feature_names_out(),\n",
    "    key=lambda x: tf_text[cv_text.vocabulary_[x]],\n",
    "    reverse=True)[:top_n]\n",
    "freqs = tf_text[cv_text.transform(feature_names).indices]\n",
    "log_freqs = np.log1p(freqs)  # Log scale for better visualization\n",
    "\n",
    "fig = px.bar(\n",
    "    x=feature_names, y=log_freqs if use_log_scale else freqs,\n",
    "    title='Top Term Frequencies',\n",
    "    labels={'x': 'Terms', 'y': 'Log Frequency' if use_log_scale else 'Frequency'},\n",
    "    custom_data=[freqs])\n",
    "fig.update_layout(xaxis_tickangle=-90)\n",
    "# Enable range slider for dragging and scrolling through terms\n",
    "fig.update_xaxes(rangeslider_visible=True)\n",
    "fig.update_traces(hovertemplate='Term: %{x}<br>Frequency: %{customdata[0]}')\n",
    "fig.show()"
   ]
  },
  {
   "cell_type": "markdown",
   "metadata": {},
   "source": [
    "# Phase 2"
   ]
  },
  {
   "cell_type": "code",
   "execution_count": 52,
   "metadata": {},
   "outputs": [],
   "source": [
    "### Begin Assignment Here"
   ]
  },
  {
   "cell_type": "markdown",
   "metadata": {},
   "source": [
    "#### 5.4.2 Find Frequent Patterns"
   ]
  }
 ],
 "metadata": {
  "kernelspec": {
   "display_name": "dm2025-lab1-exercise (3.11.12)",
   "language": "python",
   "name": "python3"
  },
  "language_info": {
   "codemirror_mode": {
    "name": "ipython",
    "version": 3
   },
   "file_extension": ".py",
   "mimetype": "text/x-python",
   "name": "python",
   "nbconvert_exporter": "python",
   "pygments_lexer": "ipython3",
   "version": "3.11.12"
  }
 },
 "nbformat": 4,
 "nbformat_minor": 4
}
